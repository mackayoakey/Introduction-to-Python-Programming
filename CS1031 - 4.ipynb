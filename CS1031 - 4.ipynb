{
 "cells": [
  {
   "cell_type": "markdown",
   "id": "e450c8b5-0207-4116-a896-e3f2aec8c909",
   "metadata": {},
   "source": [
    "# Computing in Python IV: Objects & Algorithms\n",
    "This is meant to be a cheat sheet for everything I learn in this section of the CS1301 course"
   ]
  },
  {
   "cell_type": "markdown",
   "id": "bcca3a46-b639-49cb-9a85-3a33f14185af",
   "metadata": {},
   "source": [
    "## Chapter 5.1: Objects"
   ]
  },
  {
   "cell_type": "markdown",
   "id": "20a3c7c5-88b4-408b-808d-8d9791d55dc9",
   "metadata": {},
   "source": [
    "#### **What are Objects?**"
   ]
  },
  {
   "cell_type": "markdown",
   "id": "66bb2313-da6b-41e9-9cf2-8d00b0867699",
   "metadata": {},
   "source": [
    "**Object**: An object is a custom data structure that organizes and encapsulates variables and methods into a single data type. It is used near-interchangeably with “instance.”\n",
    "\n",
    "**Class**: A custom data type comprised of multiple variables and/or methods. Instances or objects are created based on the template provided by the class.\n",
    "\n",
    "*Note that because the term 'object' is often used to refer both to actual data structures and to the general paradigm of object-oriented programming, we'll typically stick to the terms 'class' and 'instance' instead.*"
   ]
  },
  {
   "cell_type": "markdown",
   "id": "df9bf43c-45e0-4fab-a8e7-73995d346a63",
   "metadata": {},
   "source": [
    "**Instance**: A single set of values of a particular class. Classes may be comprised of multiple variables; an instance is a set of values for these variables. The term “instance” is often used interchangeably with the term “object”.\n",
    "\n",
    "**An Analogy for Objects: Paper Forms**\n",
    "\n",
    "A very useful analogy for understanding classes and instances is to think of forms. A form could be something like a registration form on a web site or a paper form at the doctor's office. Let's focus on paper forms.\n",
    "\n",
    "The form itself is like the class. It has multiple fields to fill in. There are rules that govern how you're supposed to interact with the form, like what kind of information can be written or entered where. You can print multiple copies of the form, just like you can have multiple instances of a class. The class gives the general structure of the data, like a form.\n",
    "\n",
    "An instance is one particular copy of the form. When you print out a copy and fill it in, you give values to fields like \"Name\" and \"Birthday\". A single, completed copy of the form is like an instance of the class. You and your friend could each have a different copy of the form: in that case, the structure of the data would be the same, but the content would be different.\n"
   ]
  },
  {
   "cell_type": "markdown",
   "id": "d0a845f3-627e-4d3b-b638-a5d6a7c0be9e",
   "metadata": {},
   "source": [
    "**The David Joyner Example**\n",
    "\n",
    "I thought that this example made a whole lot of sense:\n",
    "\n",
    "**Object: Our Instructor**\n",
    "\n",
    "| Variable  | Value        |\n",
    "|-----------|--------------|\n",
    "| Name      | David Joyner |\n",
    "| Eye Color | Brown        |\n",
    "| Age       | 30           |\n",
    "\n",
    "We could change any of these variables (he will get older, and he could even change his name) but the object/instance, being the very person that we call \"David Joyner\" will never change. We usually refer to people uniquely by their name, so it's a bit difficult to disassociate Dr. Joyner from his name, but I find this to be a helpful example."
   ]
  },
  {
   "cell_type": "markdown",
   "id": "9c8e9f5d-e98e-4822-b9f7-76083849b813",
   "metadata": {},
   "source": [
    "#### **Objects and Instances in Python, Part 1 of 2**"
   ]
  },
  {
   "cell_type": "code",
   "execution_count": 18,
   "id": "66f94e93-deff-48cf-a544-aebdfe6d81f8",
   "metadata": {},
   "outputs": [],
   "source": [
    "#Define the class Person\n",
    "class Person:\n",
    "    #Create a new instance of Person\n",
    "    def __init__(self):\n",
    "        #Person's default values\n",
    "        self.firstname = \"[no first name]\"\n",
    "        self.lastname = \"[no last name]\"\n",
    "        self.eyecolor = \"[no eye color]\"\n",
    "        self.age = -1\n",
    "        \n",
    "# \"Methods are functions inside classes\"\n",
    "# \"Self\" tells Python to define these variables for the instance as a whole"
   ]
  },
  {
   "cell_type": "code",
   "execution_count": 22,
   "id": "e708d812-6cbb-410b-bda5-d5fec8593cd4",
   "metadata": {},
   "outputs": [],
   "source": [
    "#Define the class Name\n",
    "class Name:\n",
    "    def __init__(self):\n",
    "        self.firstname = \"[no first name]\"\n",
    "        self.lastname = \"[no last name]\"\n",
    "        \n",
    "#Define the class Person\n",
    "class Person:\n",
    "    #Create a new instance of Person\n",
    "    def __init_(self):\n",
    "        #Person's default values\n",
    "        self.name = Name()\n",
    "        self.eyecolor = \"[no eye color]\"\n",
    "        self.age = -1"
   ]
  },
  {
   "cell_type": "markdown",
   "id": "db713387-7903-44c7-97a8-e0015d111503",
   "metadata": {},
   "source": [
    "#### **Objects and Instances in Python, Part 2 of 2**"
   ]
  },
  {
   "cell_type": "code",
   "execution_count": 35,
   "id": "19bc14f4-94c9-4ba7-aee5-895a203db21b",
   "metadata": {},
   "outputs": [
    {
     "name": "stdout",
     "output_type": "stream",
     "text": [
      "[no first name]\n",
      "[no last name]\n",
      "[no eye color]\n",
      "-1\n"
     ]
    }
   ],
   "source": [
    "# Creating Instances 1\n",
    "#Define the class Person\n",
    "class Person:\n",
    "    #Create a new instance of Person\n",
    "    def __init__(self):\n",
    "        #Person's default values\n",
    "        self.firstname = \"[no first name]\"\n",
    "        self.lastname = \"[no last name]\"\n",
    "        self.eyecolor = \"[no eye color]\"\n",
    "        self.age = -1\n",
    "\n",
    "#Create a new Person and assign it to myPerson\n",
    "myPerson = Person()\n",
    "#Print myPerson's values\n",
    "print(myPerson.firstname)\n",
    "print(myPerson.lastname)\n",
    "print(myPerson.eyecolor)\n",
    "print(myPerson.age)\n",
    "\n",
    "# Printing out a person called \"myPerson\"'s values"
   ]
  },
  {
   "cell_type": "code",
   "execution_count": 37,
   "id": "1020933a-0660-404d-a0d0-78fec74e7f5c",
   "metadata": {},
   "outputs": [
    {
     "name": "stdout",
     "output_type": "stream",
     "text": [
      "[no first name]\n",
      "David\n"
     ]
    }
   ],
   "source": [
    "# Creating Instances 2\n",
    "#Define the class Person\n",
    "class Person:\n",
    "    #Create a new instance of Person\n",
    "    def __init__(self):\n",
    "        #Person's default values\n",
    "        self.firstname = \"[no first name]\"\n",
    "        self.lastname = \"[no last name]\"\n",
    "        self.eyecolor = \"[no eye color]\"\n",
    "        self.age = -1\n",
    "\n",
    "#Create a new Person and assign it to myPerson\n",
    "myPerson = Person()\n",
    "#Print myPerson's firstname\n",
    "print(myPerson.firstname)\n",
    "#Change myPerson's firstname to David\n",
    "myPerson.firstname = \"David\"\n",
    "#Print myPerson's firstname\n",
    "print(myPerson.firstname)\n",
    "\n",
    "# We are going to assign a first name to this person"
   ]
  },
  {
   "cell_type": "code",
   "execution_count": 29,
   "id": "dd4a1b45-c013-4c92-9d37-21f0115cfe85",
   "metadata": {},
   "outputs": [
    {
     "name": "stdout",
     "output_type": "stream",
     "text": [
      "[no first name]\n",
      "David\n"
     ]
    }
   ],
   "source": [
    "# Creating Instances 3\n",
    "#Define the class Name\n",
    "class Name:\n",
    "    def __init__(self):\n",
    "        self.firstname = \"[no first name]\"\n",
    "        self.lastname = \"[no last name]\"\n",
    "\n",
    "#Define the class Person\n",
    "class Person:\n",
    "    def __init__(self):\n",
    "        self.name = Name()\n",
    "        self.eyecolor = \"[no eye color]\"\n",
    "        self.age = -1\n",
    "\n",
    "#Create a new Person and assign it to myPerson\n",
    "myPerson = Person()\n",
    "#Print myPerson's name's firstname\n",
    "print(myPerson.name.firstname)\n",
    "#Change myPerson's name's firstname to David\n",
    "myPerson.name.firstname = \"David\"\n",
    "#Print myPerson's name's firstname\n",
    "print(myPerson.name.firstname)"
   ]
  },
  {
   "cell_type": "code",
   "execution_count": 39,
   "id": "d9a39e44-acdd-4457-926b-c46538702090",
   "metadata": {},
   "outputs": [
    {
     "name": "stdout",
     "output_type": "stream",
     "text": [
      "myPerson1: David\n",
      "myPerson2: Vrushali\n"
     ]
    }
   ],
   "source": [
    "# Creating Instances 4\n",
    "#Define the class Person\n",
    "class Person:\n",
    "    #Create a new instance of Person\n",
    "    def __init__(self):\n",
    "        #Person's default values\n",
    "        self.firstname = \"[no first name]\"\n",
    "        self.lastname = \"[no last name]\"\n",
    "        self.eyecolor = \"[no eye color]\"\n",
    "        self.age = -1\n",
    "\n",
    "#Create two new Persons and assign them to\n",
    "#myPerson1 and myPerson2\n",
    "myPerson1 = Person()\n",
    "myPerson2 = Person()\n",
    "myPerson1.firstname = \"David\"\n",
    "myPerson2.firstname = \"Vrushali\"\n",
    "\n",
    "print(\"myPerson1: \" + myPerson1.firstname)\n",
    "print(\"myPerson2: \" + myPerson2.firstname)\n",
    "\n",
    "# There are now two different people: myPerson1 and myPerson2"
   ]
  },
  {
   "cell_type": "code",
   "execution_count": 33,
   "id": "91c76453-7e97-4195-8a07-60b749572bcf",
   "metadata": {},
   "outputs": [
    {
     "name": "stdout",
     "output_type": "stream",
     "text": [
      "Dictionary: David\n",
      "Instance: David\n"
     ]
    }
   ],
   "source": [
    "# Objects vs Dictionaries\n",
    "#Define the class Name\n",
    "class Name:\n",
    "    def __init__(self):\n",
    "        self.firstname = \"[no first name]\"\n",
    "        self.lastname = \"[no last name]\"\n",
    "\n",
    "#Define dictionaries with keys firstname and lastname\n",
    "myNameDict = {\"firstname\" : \"David\", \"lastname\" : \"Joyner\"}\n",
    "\n",
    "#Define instances of Name\n",
    "myNameInst = Name()\n",
    "myNameInst.firstname = \"David\"\n",
    "myNameInst.lastname = \"Joyner\"\n",
    "\n",
    "print(\"Dictionary: \" + myNameDict[\"firstname\"])\n",
    "print(\"Instance: \" + myNameInst.firstname)\n",
    "\n",
    "# The result is effectively the same, at least for now"
   ]
  },
  {
   "cell_type": "markdown",
   "id": "cc3dc10f-8045-4453-9da0-610710a6dbd0",
   "metadata": {},
   "source": [
    "#### **Encapsulating Methods in Classes**"
   ]
  },
  {
   "cell_type": "markdown",
   "id": "288d1734-f189-4b07-87a6-47b7ea173f21",
   "metadata": {},
   "source": [
    "**Encapsulation**: The ability to combine variables and methods into class definitions in object-oriented programming. It helps avoid modification or misuse of data by other functions or programs."
   ]
  },
  {
   "cell_type": "markdown",
   "id": "bdae1ad0-221f-447a-8952-d83089048a14",
   "metadata": {},
   "source": [
    "**Method**: A function defined inside of a class\n",
    "\n",
    "**Scope**: The normal scope of a function for that language"
   ]
  },
  {
   "cell_type": "markdown",
   "id": "771d7190-caef-460b-9100-00189c875983",
   "metadata": {},
   "source": [
    "**Common Methods**:\n",
    "\n",
    "In practice, the four common method types we'll discuss below -- constructors, destructors, getters, and setters -- are more important to other languages than to Python. Constructors are present, but you'll rarely use destructors in Python, and getters and setters are antithetical to \"Pythonic\" thinking. However, they still have some usefulness and you'll encounter them in other classes, so it's good to know about them."
   ]
  },
  {
   "cell_type": "markdown",
   "id": "88ca26d3-4eda-4689-b95e-a35cf5ff5cee",
   "metadata": {},
   "source": [
    "**Constructor**: A common type of method in writing classes that specifies some code to run whenever a new instance of the class is created. The constructor often has parameters that provide values to initialize the variables defined by the class.\n",
    "\n",
    "**Destructor**: A common type of method in writing classes that specifies how the instance of a class is to be destroyed, such as releasing its memory back to the computer."
   ]
  },
  {
   "cell_type": "markdown",
   "id": "a464ea5f-5a21-46ed-b9b9-d07687e2ac03",
   "metadata": {},
   "source": [
    "**An Analogy for Objects: Constructors and Destructors**\n",
    "\n",
    "Recall in the first lesson we introduced an analogy that a class is like a paper form, and an instance is like a specific copy of that form, filled out with information. Where do constructors and destructors come into play?\n",
    "\n",
    "Constructors are like having a form that has some default values filled in. Maybe you gave your name to the receptionists, and they went ahead and printed a copy of your form with that name already entered. Or maybe there are certain things they assume to be true unless you state otherwise: many web registration forms, for example, initially assume you want to subscribe to their mailing list. Constructors are the equivalent of putting some data in when the copy of the form is first printed.\n",
    "\n",
    "That's not all constructors do, though. Constructors can run have any other code, too. For example, when a receptionist at a doctor's office gives you a paper form to fill in, they might go ahead and log separately that a new patient came in. Similarly, a constructor could perform some other operations when an instance is created, like creating a new empty list if it knows things will be added to the list later.\n",
    "\n",
    "Destructors are simpler: destructors are like throwing a paper form in the trash. For example, if a file cabinet is getting full, the office might go ahead and destroy the oldest records.\n"
   ]
  },
  {
   "cell_type": "markdown",
   "id": "818777fc-fe96-4841-8a49-14ebdc07afcb",
   "metadata": {},
   "source": [
    "**Getter**: A common type of method in writing classes that returns the value of a variable contained within the class. They are commonly used to allow other processing to occur whenever the variable is accessed, like logging.\n",
    "\n",
    "**Setter**: A common type of method in writing classes that sets a variable contained within the class to a new value. They are commonly used\n",
    "to allow other processing to occur whenever the variable is changed, like logging."
   ]
  },
  {
   "cell_type": "markdown",
   "id": "c0cfdbd2-4d0a-46c8-b232-b90ebf76950d",
   "metadata": {},
   "source": [
    "**An Analogy for Objects: Getters and Setters**\n",
    "\n",
    "Getters and setters are a little trickier for our analogy to paper forms. Getters and setters govern the ways in which we can access and change data from an instance.\n",
    "\n",
    "Getters and setters are only used once the instance has already been created, so let's assume that you've already turned the paper form into the receptionist. What if someone then needed to read data off of it or modify what's written? They don't just make the data publicly available; you might need to show identification, for example, to prove that you have permission to read or write to the instance.\n",
    "\n",
    "That's what getters and setters do: they allow us to tie other operations to the acts of reading or writing to the form. We might require a person to show identification to read a form, and we might log whenever a form is read or modified. In code, we might require a password to return or change a particular value in the instance, and we might similarly log whenever a value is read or changed."
   ]
  },
  {
   "cell_type": "markdown",
   "id": "648654fd-d939-4fac-a7da-9cb4918ca2b3",
   "metadata": {},
   "source": [
    "#### **Encapsulating Methods in Python, Part 1 of 2**"
   ]
  },
  {
   "cell_type": "code",
   "execution_count": 57,
   "id": "5d2262a3-d728-4487-ab66-077223424940",
   "metadata": {},
   "outputs": [
    {
     "name": "stdout",
     "output_type": "stream",
     "text": [
      "David\n",
      "Joyner\n"
     ]
    }
   ],
   "source": [
    "# Constructors in Python 1\n",
    "#Define the class Person\n",
    "class Person:\n",
    "    #Create a new instance of Person\n",
    "    def __init__(self, firstname, lastname):\n",
    "        self.firstname = firstname\n",
    "        self.lastname = lastname\n",
    "        self.eyecolor = \"[no eye color]\"\n",
    "        self.age = -1\n",
    "\n",
    "#Creates a person with names David and Joyner\n",
    "myPerson = Person(\"David\", \"Joyner\")\n",
    "print(myPerson.firstname)\n",
    "print(myPerson.lastname)\n",
    "\n",
    "# Defining a class variable in Python requires defining them inside of a method\n",
    "# \"We can't define anything outside of a method, inside of a class.\""
   ]
  },
  {
   "cell_type": "code",
   "execution_count": 59,
   "id": "dd94df12-1e48-4ce0-8dc7-f51fd40f507d",
   "metadata": {},
   "outputs": [
    {
     "ename": "TypeError",
     "evalue": "Person.__init__() missing 2 required positional arguments: 'firstname' and 'lastname'",
     "output_type": "error",
     "traceback": [
      "\u001b[0;31m---------------------------------------------------------------------------\u001b[0m",
      "\u001b[0;31mTypeError\u001b[0m                                 Traceback (most recent call last)",
      "Cell \u001b[0;32mIn[59], line 12\u001b[0m\n\u001b[1;32m      9\u001b[0m         \u001b[38;5;28mself\u001b[39m\u001b[38;5;241m.\u001b[39mage \u001b[38;5;241m=\u001b[39m \u001b[38;5;241m-\u001b[39m\u001b[38;5;241m1\u001b[39m\n\u001b[1;32m     11\u001b[0m \u001b[38;5;66;03m#Creates a new person\u001b[39;00m\n\u001b[0;32m---> 12\u001b[0m myPerson \u001b[38;5;241m=\u001b[39m Person()\n\u001b[1;32m     13\u001b[0m \u001b[38;5;28mprint\u001b[39m(myPerson\u001b[38;5;241m.\u001b[39mfirstname)\n\u001b[1;32m     14\u001b[0m \u001b[38;5;28mprint\u001b[39m(myPerson\u001b[38;5;241m.\u001b[39mlastname)\n",
      "\u001b[0;31mTypeError\u001b[0m: Person.__init__() missing 2 required positional arguments: 'firstname' and 'lastname'"
     ]
    }
   ],
   "source": [
    "# Constructors in Python 2\n",
    "#Define the class Person\n",
    "class Person:\n",
    "    #Create a new instance of Person\n",
    "    def __init__(self, firstname, lastname):\n",
    "        self.firstname = firstname\n",
    "        self.lastname = lastname\n",
    "        self.eyecolor = \"[no eye color]\"\n",
    "        self.age = -1\n",
    "\n",
    "#Creates a new person\n",
    "myPerson = Person()\n",
    "print(myPerson.firstname)\n",
    "print(myPerson.lastname)\n",
    "\n",
    "# Since we have multiple arguments on the \"def __init__()\" line, in order to create a new person we need to follow those arguments\n",
    "# We'll do that in the cell below:"
   ]
  },
  {
   "cell_type": "code",
   "execution_count": 61,
   "id": "a3f3ba87-2731-4fe8-a632-1639fbe7c7e2",
   "metadata": {},
   "outputs": [
    {
     "name": "stdout",
     "output_type": "stream",
     "text": [
      "[no first name]\n",
      "David\n",
      "Vrushali\n"
     ]
    }
   ],
   "source": [
    "# Constructors in Python 3\n",
    "#Define the class Person\n",
    "class Person:\n",
    "    #Create a new instance of Person\n",
    "    def __init__(self, firstname=\"[no first name]\",\n",
    "                 lastname=\"[no last name\"):\n",
    "        self.firstname = firstname\n",
    "        self.lastname = lastname\n",
    "        self.eyecolor = \"[no eye color]\"\n",
    "        self.age = -1\n",
    "\n",
    "myPerson1 = Person()\n",
    "print(myPerson1.firstname)\n",
    "myPerson2 = Person(firstname = \"David\")\n",
    "print(myPerson2.firstname)\n",
    "myPerson3 = Person(\"Vrushali\")\n",
    "print(myPerson3.firstname)\n",
    "\n",
    "# This way we set default values\n",
    "# So when we create myPerson1 there's no issue with it having no arguments in \"Person()\""
   ]
  },
  {
   "cell_type": "code",
   "execution_count": 65,
   "id": "20963c58-a645-4c68-bc45-078f2f6cbbac",
   "metadata": {},
   "outputs": [],
   "source": [
    "# Declaring Class 1\n",
    "#Define the class Person\n",
    "class Person:\n",
    "    #Create a new instance of Person\n",
    "    def __init__(self):\n",
    "        #Person's default values\n",
    "        self.firstname = \"[no first name]\"\n",
    "        self.lastname = \"[no last name]\"\n",
    "        self.eyecolor = \"[no eye color]\"\n",
    "        self.age = -1"
   ]
  },
  {
   "cell_type": "markdown",
   "id": "45a8cc94-fb9f-4c4a-8adb-637ce4757eb7",
   "metadata": {},
   "source": [
    "#### **Encapsulating Methods in Python, Part 2 of 2**"
   ]
  },
  {
   "cell_type": "code",
   "execution_count": 73,
   "id": "75cb78d9-200f-4e19-a1fa-1686e73c3d0b",
   "metadata": {},
   "outputs": [
    {
     "name": "stdout",
     "output_type": "stream",
     "text": [
      "20.0\n",
      "10.0\n"
     ]
    }
   ],
   "source": [
    "# Encapsulating Other Functions\n",
    "class BankAccount:\n",
    "    def __init__(self, name, balance = 0.0):\n",
    "        self.log(\"Account created!\")\n",
    "        self.name = name\n",
    "        self.balance = balance\n",
    "\n",
    "    def getBalance(self):\n",
    "        self.log(\"Balance checked at \" + str(self.balance))\n",
    "        return self.balance\n",
    "\n",
    "    def deposit(self, amount):\n",
    "        self.balance += amount\n",
    "        self.log(\"+\" + str(amount) + \": \" + str(self.balance))\n",
    "\n",
    "    def withdraw(self, amount):\n",
    "        self.balance -= amount\n",
    "        self.log(\"-\" + str(amount) + \": \" + str(self.balance))\n",
    "\n",
    "    def log(self, message): ...\n",
    "\n",
    "myBankAccount = BankAccount(\"David Joyner\")\n",
    "myBankAccount.deposit(20.0)\n",
    "print(myBankAccount.getBalance())\n",
    "myBankAccount.withdraw(10.0)\n",
    "print(myBankAccount.getBalance())\n",
    "\n",
    "# We set double underscores around \"init\" to show that we don't want other classes or functions to access\n",
    "# This is helpful in this case, where we wouldn't want a user to access and edit their bank account statements"
   ]
  },
  {
   "cell_type": "code",
   "execution_count": 75,
   "id": "b89dcfd2-28c4-4b71-8618-e2394c961b62",
   "metadata": {},
   "outputs": [
    {
     "name": "stdout",
     "output_type": "stream",
     "text": [
      "20.0\n"
     ]
    }
   ],
   "source": [
    "# Getters and Setters\n",
    "#Define class BankAccount\n",
    "class BankAccount:\n",
    "    #Initialize balance to 0\n",
    "    def __init__(self, name, balance = 0.0):\n",
    "        self.log(\"Account created!\")\n",
    "        self.name = name\n",
    "        self.balance = balance\n",
    "\n",
    "    def getBalance(self): #Getter for balance\n",
    "        self.log(\"Balance checked at \" + str(self.balance))\n",
    "        return self.balance\n",
    "\n",
    "    def setBalance(self, newBalance): #Setter for balance\n",
    "        self.log(\"Balance changed to \" + str(newBalance))\n",
    "        self.balance = newBalance\n",
    "\n",
    "    def log(self, message): #Logging method\n",
    "        myLog = open(\"Log.txt\", \"a\")\n",
    "        print(message, file = myLog)\n",
    "        myLog.close()\n",
    "\n",
    "myBankAccount = BankAccount(\"David Joyner\")\n",
    "myBankAccount.setBalance(20.0)\n",
    "print(myBankAccount.getBalance())"
   ]
  },
  {
   "cell_type": "markdown",
   "id": "018ac5e9-906b-4c89-9414-a70ef5baf337",
   "metadata": {},
   "source": [
    "#### **Advanced Topics in Classes in Python, Part 1 of 2**"
   ]
  },
  {
   "cell_type": "code",
   "execution_count": 78,
   "id": "5415f3b4-6346-45ed-b6cb-947aed04c922",
   "metadata": {},
   "outputs": [
    {
     "name": "stdout",
     "output_type": "stream",
     "text": [
      "David\n",
      "Joyner\n",
      "brown\n",
      "30\n"
     ]
    }
   ],
   "source": [
    "# Combining Classes\n",
    "\n",
    "#Defines the class Person\n",
    "class Person:\n",
    "    def __init__(self, name, eyecolor, age):\n",
    "        self.name = name\n",
    "        self.eyecolor = eyecolor\n",
    "        self.age = age\n",
    "\n",
    "#Defines the class Name\n",
    "class Name:\n",
    "    def __init__(self, firstname, lastname):\n",
    "        self.firstname = firstname\n",
    "        self.lastname = lastname\n",
    "\n",
    "#Creates a person with eyecolor \"brown\", age 30, and\n",
    "#a name with firstname \"David\", lastname \"Joyner\",\n",
    "myPerson = Person(Name(\"David\", \"Joyner\"), \"brown\", 30)\n",
    "print(myPerson.name.firstname)\n",
    "print(myPerson.name.lastname)\n",
    "print(myPerson.eyecolor)\n",
    "print(myPerson.age)"
   ]
  },
  {
   "cell_type": "markdown",
   "id": "affc8453-ca9a-4783-a77c-6783cb3996c9",
   "metadata": {},
   "source": [
    "#### **Advanced Topics in Classes in Python, Part 2 of 2**"
   ]
  },
  {
   "cell_type": "code",
   "execution_count": 81,
   "id": "1e3689db-6ee5-4bee-b3d0-d4b77e8ada3f",
   "metadata": {},
   "outputs": [
    {
     "name": "stdout",
     "output_type": "stream",
     "text": [
      "myPerson1's eyecolor: blue\n",
      "myPerson2's eyecolor: blue\n"
     ]
    }
   ],
   "source": [
    "# Instance Assignments\n",
    "class Person:\n",
    "    def __init__(self, name, eyecolor, age):\n",
    "        self.name = name\n",
    "        self.eyecolor = eyecolor\n",
    "        self.age = age\n",
    "\n",
    "class Name:\n",
    "    def __init__(self, firstname, lastname):\n",
    "        self.firstname = firstname\n",
    "        self.lastname = lastname\n",
    "\n",
    "myPerson1 = Person(Name(\"David\", \"Joyner\"), \"brown\", 30)\n",
    "myPerson2 = myPerson1\n",
    "myPerson2.eyecolor = \"blue\"\n",
    "print(\"myPerson1's eyecolor: \" + myPerson1.eyecolor)\n",
    "print(\"myPerson2's eyecolor: \" + myPerson2.eyecolor)"
   ]
  },
  {
   "cell_type": "code",
   "execution_count": 83,
   "id": "e9b0d5aa-2c8f-4d65-b4ef-e5ea3dde46cc",
   "metadata": {},
   "outputs": [
    {
     "name": "stdout",
     "output_type": "stream",
     "text": [
      "DAVID\n",
      "JOYNER\n"
     ]
    }
   ],
   "source": [
    "# Instance Assignments 1\n",
    "class Person:\n",
    "    def __init__(self, name, eyecolor, age):\n",
    "        self.name = name\n",
    "        self.eyecolor = eyecolor\n",
    "        self.age = age\n",
    "\n",
    "class Name:\n",
    "    def __init__(self, firstname, lastname):\n",
    "        self.firstname = firstname\n",
    "        self.lastname = lastname\n",
    "\n",
    "def capitalizeName(name):\n",
    "    name.firstname = name.firstname.upper()\n",
    "    name.lastname = name.lastname.upper()\n",
    "\n",
    "myPerson = Person(Name(\"David\", \"Joyner\"), \"brown\", 30)\n",
    "capitalizeName(myPerson.name)\n",
    "print(myPerson.name.firstname)\n",
    "print(myPerson.name.lastname)"
   ]
  },
  {
   "cell_type": "code",
   "execution_count": 85,
   "id": "a389417b-bd7f-4296-ac68-cdb64d515d21",
   "metadata": {},
   "outputs": [
    {
     "name": "stdout",
     "output_type": "stream",
     "text": [
      "David\n",
      "Joyner\n"
     ]
    }
   ],
   "source": [
    "# Instance Assignments 2\n",
    "class Person:\n",
    "    def __init__(self, name, eyecolor, age):\n",
    "        self.name = name\n",
    "        self.eyecolor = eyecolor\n",
    "        self.age = age\n",
    "\n",
    "class Name:\n",
    "    def __init__(self, firstname, lastname):\n",
    "        self.firstname = firstname\n",
    "        self.lastname = lastname\n",
    "\n",
    "def capitalizeString(instring):\n",
    "    instring = instring.upper()\n",
    "\n",
    "myPerson = Person(Name(\"David\", \"Joyner\"), \"brown\", 30)\n",
    "capitalizeString(myPerson.name.firstname)\n",
    "capitalizeString(myPerson.name.lastname)\n",
    "print(myPerson.name.firstname)\n",
    "print(myPerson.name.lastname)"
   ]
  },
  {
   "cell_type": "code",
   "execution_count": 87,
   "id": "24a7c7ce-9fbb-49dc-a6bf-46510f5a0d3a",
   "metadata": {},
   "outputs": [
    {
     "name": "stdout",
     "output_type": "stream",
     "text": [
      "brown\n",
      "blue\n",
      "Vrushali\n",
      "Vrushali\n"
     ]
    }
   ],
   "source": [
    "# Making Actual Copies 1\n",
    "class Person:\n",
    "    def __init__(self, name, eyecolor, age):\n",
    "        self.name = name\n",
    "        self.eyecolor = eyecolor\n",
    "        self.age = age\n",
    "\n",
    "class Name:\n",
    "    def __init__(self, firstname, lastname):\n",
    "        self.firstname = firstname\n",
    "        self.lastname = lastname\n",
    "\n",
    "myPerson1 = Person(Name(\"David\", \"Joyner\"), \"brown\", 30)\n",
    "myPerson2 = Person(myPerson1.name, myPerson1.eyecolor, myPerson1.age)\n",
    "myPerson2.eyecolor = \"blue\"\n",
    "print(myPerson1.eyecolor)\n",
    "print(myPerson2.eyecolor)\n",
    "myPerson2.name.firstname = \"Vrushali\"\n",
    "print(myPerson1.name.firstname)\n",
    "print(myPerson2.name.firstname)"
   ]
  },
  {
   "cell_type": "code",
   "execution_count": 91,
   "id": "4b91ab7d-7c87-4239-ac3f-515b2e20f666",
   "metadata": {},
   "outputs": [
    {
     "name": "stdout",
     "output_type": "stream",
     "text": [
      "brown\n",
      "blue\n",
      "David\n",
      "Vrushali\n"
     ]
    }
   ],
   "source": [
    "# Making Actual Copies 2\n",
    "class Person:\n",
    "    def __init__(self, name, eyecolor, age):\n",
    "        self.name = name\n",
    "        self.eyecolor = eyecolor\n",
    "        self.age = age\n",
    "\n",
    "class Name:\n",
    "    def __init__(self, firstname, lastname):\n",
    "        self.firstname = firstname\n",
    "        self.lastname = lastname\n",
    "\n",
    "myPerson1 = Person(Name(\"David\", \"Joyner\"), \"brown\", 30)\n",
    "myPerson2 = Person(Name(myPerson1.name.firstname, myPerson1.name.lastname),\n",
    "                   myPerson1.eyecolor, myPerson1.age)\n",
    "myPerson2.eyecolor = \"blue\"\n",
    "print(myPerson1.eyecolor)\n",
    "print(myPerson2.eyecolor)\n",
    "myPerson2.name.firstname = \"Vrushali\"\n",
    "print(myPerson1.name.firstname)\n",
    "print(myPerson2.name.firstname)"
   ]
  },
  {
   "cell_type": "markdown",
   "id": "f707bd9c-c7aa-4a42-8a6f-3fe37d1a1ac2",
   "metadata": {},
   "source": [
    "#### **Polymorphism and Inheritance and Abstraction, Oh My!**"
   ]
  },
  {
   "cell_type": "markdown",
   "id": "b8dfb76c-f320-4b85-8ee1-05652ff4255d",
   "metadata": {},
   "source": [
    "**Abstraction**: A principle of object-oriented programming that states that only essential information should be made visible to the outside program.\n",
    "\n",
    "**Polymorphism**: The principle that a method call can behave differently depending on the arguments and object with which it is called.\n",
    "\n",
    "**Inheritance**: A principle of object-oriented programming where classes can be created that are “subclasses” of other classes, inheriting all the\n",
    "variables and methods from the other class while supplying new variables, methods, or behaviors of these own."
   ]
  },
  {
   "cell_type": "markdown",
   "id": "86a0fb23-5bfc-443a-8adf-ba672a735c06",
   "metadata": {},
   "source": [
    "**Abstraction, the Chair Example**\n",
    "\n",
    "Thing -- Home Good -- Furniture -- Chair -- Dining Room Chair -- Harvest Style Dining Room Chair\n",
    "\n",
    "These are all correct, and they exemplify the different levels of abstraction for one item."
   ]
  },
  {
   "cell_type": "markdown",
   "id": "3d84fd1d-839a-4e72-bc3c-fde41b7ecbac",
   "metadata": {},
   "source": [
    "**Polymorphism, the Chair Example**\n",
    "\n",
    "Implicit in the previous example. When we want to look for a \"Harvest Style Dining Room Chair\" we could flip through a catalog and ask each item, what material is this? When Harvest Style = True, then True, when = False, then False. We could then look through our results to find what we need.\n",
    "\n",
    "The most common practice in software is called a **two string method**. \"When we're designing classes, one very common desire is to be able to print the object. What it means to print the object, though, is very different from class to class. To print a person object, we might want to print the name. But to print a bank account object, we might want to print an account number.\"\n",
    "\n",
    "\"Polymorphism describes the ability to write a method in each class that would allow drastically dissimilar objects to be accessed and used in the same way.\""
   ]
  },
  {
   "cell_type": "markdown",
   "id": "65330a96-c320-4fb6-9ac1-843cb55b1f92",
   "metadata": {},
   "source": [
    "**Inheritance, the Chair Example**\n",
    "\n",
    "\"Inheritance and abstraction is the idea that an object can inherit certain variables and methods from its parent.\" We might want to know the size of bed frame given the mattress we bought. Or we may want to know the material of the chair we bought. We can ask what color any piece of furniture is, but it only makes sense to ask a chair whether or not it has arms. We would only ask how many wheels an office chair has, not a dining room table (generally speaking)."
   ]
  },
  {
   "cell_type": "markdown",
   "id": "73c34d66-6ebc-46ff-8fc9-41dac7309598",
   "metadata": {},
   "source": [
    "## Chapter 5.2: Alogrithms"
   ]
  },
  {
   "cell_type": "markdown",
   "id": "c8aa7703-6280-4784-bafe-2c831a3a0c14",
   "metadata": {},
   "source": [
    "#### **What are Algorithms?**"
   ]
  },
  {
   "cell_type": "markdown",
   "id": "8f6e8a19-6c68-4de0-a2fe-5c79fc6bfb3b",
   "metadata": {},
   "source": [
    "**Algorithm**: Technically, a collection of steps that transforms input into output; commonly, a complex set of lots of steps that is only feasible to perform with the efficiency of a computer."
   ]
  },
  {
   "cell_type": "markdown",
   "id": "d0c4ebac-84cc-4ce0-aced-18e2615f6003",
   "metadata": {},
   "source": [
    "\"I took a computer-science course to fill a prerequisite at Stanford, and I realized that every day was a new problem, and every day you got to think about how to solve something new, how to reason through something new, how to develop an algorithm to solve for something you hadn't worked on before.\" -Marissa Mayer, CEO of Yahoo"
   ]
  },
  {
   "cell_type": "markdown",
   "id": "90c69777-57de-4ad1-846b-372c2d795991",
   "metadata": {},
   "source": [
    "#### **Complexity and Big O Notation**"
   ]
  },
  {
   "cell_type": "markdown",
   "id": "70a37b3b-b3ac-4eea-9b9e-4694f22553a2",
   "metadata": {},
   "source": [
    "**Complexity**: The rate at which the number of operations requires to run an algorithm grows based on the value of the input on which it operates."
   ]
  },
  {
   "cell_type": "markdown",
   "id": "4a651a0f-d9da-4658-b44d-462331bd81ee",
   "metadata": {},
   "source": [
    "One of the reasons the \"cloud\" is so powerful is because it pools together vast computational resources to execute algorithms that take an enormous amount of computing time, allowing us to analyze massive quantities of data. This is why efficiency is so important: when we're dealing with large data sets, even small improvements to efficiency can have significant impacts."
   ]
  },
  {
   "cell_type": "markdown",
   "id": "cc4d903a-d3b7-4d1f-80cd-1c4740a7246b",
   "metadata": {},
   "source": [
    "**Big O Notation**: A notation for expressing the worst-case efficiency of an algorithm in terms of the size of the input.\n",
    "\n",
    "There also exist Big Ω (Omega) Notation, which expresses the best-case efficiency of an algorithm, and Big θ (Theta) Notation, which expresses the typical-case efficiency of an algorithm. Big O is used most commonly.\n",
    "\n",
    "These various values exist, though, because some algorithms are generally very efficiency, but are very inefficient with certain types of data. For example, there exists a sorting algorithm called QuickSort that is generally extremely efficient, but whose efficiency plummets if there are a lot of duplicate values in the data set that it's sorting."
   ]
  },
  {
   "cell_type": "markdown",
   "id": "5438b95b-b08b-48db-a385-4bc1435e2714",
   "metadata": {},
   "source": [
    "**Common Efficiences**\n",
    "\n",
    "| Name | O | Definition | Example |\n",
    "|------|---|------------|---------|\n",
    "| Constant | O(1) | The same number of operations is required regardless of the size of the data set. | \"Is the first name in the data set 'David'?\" |\n",
    "| Linear | O(n) | The number of operations required increases linearly with the size of the data set. | \"Is the name 'David' in this unsorted list of names?\" (Linear Search) |\n",
    "| Quadratic | O(n^2) | The number of operations required increases with the size of the data set squared. | \"Are there any duplicate names in this unsorted list of names?\" (Double-Linear Search) |\n",
    "| Polynomial | O(n^3) | The number of operations required increases with the size of the data set raised to a larger exponent. | \"Are there any triple duplicate names in this unsorted list of names?\" (Triple-Linear Search) |\n",
    "| Exponential | O(2^n) | The number of operations required increases by a constant raised to the size of the data set. | \"What is every possible 10-digit password?\" |\n",
    "| Logarithmic | O(log(n)) | The number of operations required increases with the square root of the size of the data set. | \"Is the name 'David' in this sorted list of names?\" (Binary Search) |\n",
    "| Loglinear | O(n log(n)) | The number of operations required increases with square root of the size of the data set times the size of the data set. | \"Sort this list of names.\" (Merge Sort) |\n",
    "| Factorial | O(n!) | The number of operations required increases with the factorial of the size of the data set. | \"What is shortest possible route among these multiple destinations?\" |"
   ]
  },
  {
   "cell_type": "markdown",
   "id": "642dbe0e-8a0c-415b-a0b2-d099a651dc40",
   "metadata": {},
   "source": [
    "#### **Recursion, Part 1 of 2**"
   ]
  },
  {
   "cell_type": "markdown",
   "id": "1c5773aa-6d62-4cf9-a14f-59f77f7f79a4",
   "metadata": {},
   "source": [
    "**Recursion**: A programming method characterized by functions that, during their operation, call additional copies of themselves; see also, recursion. Recursion involves breaking down a problem into smaller instances recursively until each of them can be independently solved. Solutions to these smaller instances combine to form the solution for the original problem."
   ]
  },
  {
   "cell_type": "markdown",
   "id": "c48d0fa0-4a3a-4d49-b3b0-441a0873135d",
   "metadata": {},
   "source": [
    "#### **Recursion, Part 2 of 2**"
   ]
  },
  {
   "cell_type": "code",
   "execution_count": 123,
   "id": "7c3bae4c-7985-45c7-ba82-18412d399601",
   "metadata": {},
   "outputs": [
    {
     "name": "stdout",
     "output_type": "stream",
     "text": [
      "fib(5) is 5\n",
      "fib(10) is 55\n"
     ]
    }
   ],
   "source": [
    "# Fibonacci\n",
    "\n",
    "#Let's implement the Fibonacci function we saw in the\n",
    "#previous video in Python!\n",
    "#\n",
    "#Like our Factorial function, our Fibonacci function\n",
    "#should take as input one parameter, n, an integer. It\n",
    "#should calculate the nth Fibonacci number. For example,\n",
    "#fib(7) should give 13 since the 7th number in\n",
    "#Fibonacci's sequence is 13.\n",
    "\n",
    "#So, our function definition will basically be the same:\n",
    "\n",
    "def fib(n):\n",
    "    #What do we want to do inside the function? Once again,\n",
    "    #there are really only two cases: either we're looking\n",
    "    #for the first two Fibonacci numbers, or we're not.\n",
    "    #What happens if we're looking for the first two? Well,\n",
    "    #we already know that the 1st and 2nd Fibonacci numbers\n",
    "    #are both 1, so if n == 1 or n == 2, we can go ahead\n",
    "    #and return 1.\n",
    "    \n",
    "    if n == 1 or n == 2:\n",
    "        return 1\n",
    "    \n",
    "    #What if n doesn't equal 1? For any value for n greater\n",
    "    #than 2, the result should be the sum of the previous\n",
    "    #two numbers. The previous Fibonacci number could then\n",
    "    #be calculated with the same kind of function call,\n",
    "    #decrementing n by 1 or 2.\n",
    "    \n",
    "    else:\n",
    "        return fib(n - 1) + fib(n - 2)\n",
    "    \n",
    "    #If n is greater than 2, then it returns the sum of the\n",
    "    #previous two fibonacci numbers, as calculated by the\n",
    "    #same function.\n",
    "\n",
    "#Now let's test it out! Run this file to see the results.\n",
    "print(\"fib(5) is\", fib(5))\n",
    "print(\"fib(10) is\", fib(10))\n",
    "\n",
    "#Want to see more about how this works? Select the other\n",
    "#file, FibonacciwithPrints.py, from the drop-down in the\n",
    "#top left to see a version of this that traces the output."
   ]
  },
  {
   "cell_type": "markdown",
   "id": "b85133b4-40de-4145-956e-f3f006942755",
   "metadata": {},
   "source": [
    "#### **Sorting Algorithms, Part 1 of 2**"
   ]
  },
  {
   "cell_type": "markdown",
   "id": "747be177-9190-4893-accd-42cdcc7c729c",
   "metadata": {},
   "source": [
    "**Sorting Algorithms**: Algorithms that take as input a list, and produce as output a sorted version of that list. Examples include bubble sort,  insertion sort, selection sort, merge sort, shell sort, quick sort, and heap sort."
   ]
  },
  {
   "cell_type": "markdown",
   "id": "853f7da9-f34f-4e1c-8166-5e6c6a756dad",
   "metadata": {},
   "source": [
    "*Note: if you'd like to see Bubble Sorting visualized, Google it. It makes the most sense in a number table*"
   ]
  },
  {
   "cell_type": "code",
   "execution_count": 131,
   "id": "4ce53e9a-b74a-471d-b557-61ac076ca7d0",
   "metadata": {},
   "outputs": [
    {
     "name": "stdout",
     "output_type": "stream",
     "text": [
      "[3, 1, 1, 2, 4]\n"
     ]
    }
   ],
   "source": [
    "# Bubble Sort\n",
    "\n",
    "#We've written the function, sort_with_bubbles, below. It takes\n",
    "#in one list parameter, lst. However, there are two problems in\n",
    "#our current code:\n",
    "# - There's a missing line\n",
    "# - There's a semantic error (the code does not raise an\n",
    "#   error message, but it does not perform correctly)\n",
    "#\n",
    "#Find and fix these problems! Note that you should only need\n",
    "#to change or add code where explicitly indicated.\n",
    "#\n",
    "#Hint: If you're stuck, use an example input list and trace\n",
    "#the code and how it modifies your list on paper. For\n",
    "#example, try writing out what happens to the following list:\n",
    "#\n",
    "#  [34, 16, 2, 78, 4, 6, 1]\n",
    "\n",
    "def sort_with_bubbles(lst):\n",
    "    #Set swap_occurred to True to guarantee the loop runs once\n",
    "    swap_occurred = True\n",
    "    \n",
    "    #Run the loop as long as a swap occurred the previous time\n",
    "    while swap_occurred:\n",
    "        \n",
    "        #Start off assuming a swap did not occur\n",
    "        swap_occurred = False\n",
    "        \n",
    "        #For every item in the list except the last one...\n",
    "        for i in range(len(lst) - 1):\n",
    "\n",
    "            #If the item should swap with the next item...\n",
    "            if lst[i] > lst[i + 1]:\n",
    "\n",
    "                #Then, swap them! But these lines aren't\n",
    "                #quite right: fix this code!\n",
    "                lst[i] = lst[i + 1]\n",
    "                temp = lst[i]\n",
    "                lst[i + 1] = temp\n",
    "\n",
    "                #One more line is needed here; add it!\n",
    "\n",
    "    return lst\n",
    "\n",
    "#Below are some lines of code that will test your function.\n",
    "#You can change the value of the variable(s) to test your\n",
    "#function with different inputs.\n",
    "#\n",
    "#If your function works correctly, this will originally\n",
    "#print: [1, 2, 3, 4, 5]\n",
    "print(sort_with_bubbles([5, 3, 1, 2, 4]))"
   ]
  },
  {
   "cell_type": "markdown",
   "id": "bbaebf52-0554-4e2b-b8f3-861e9ff61d50",
   "metadata": {},
   "source": [
    "#### **Sorting Algorithms, Part 2 of 2**"
   ]
  },
  {
   "cell_type": "markdown",
   "id": "078ac7e2-0bac-46fe-85c8-8119e5226a18",
   "metadata": {},
   "source": [
    "**Insertion Sort**"
   ]
  },
  {
   "cell_type": "code",
   "execution_count": 140,
   "id": "836c3873-223b-4000-a3cc-97099baed0f0",
   "metadata": {},
   "outputs": [
    {
     "name": "stdout",
     "output_type": "stream",
     "text": [
      "[1, 2, 3, 4, 5]\n"
     ]
    }
   ],
   "source": [
    "def sort_with_select(a_list):\n",
    "    \n",
    "    # For each index in the list...\n",
    "    for i in range(len(a_list)):\n",
    "        \n",
    "        # Assume first that current item is already correct...\n",
    "        minIndex = i\n",
    "\n",
    "        # For each index from i to the end...\n",
    "        for j in range(i + 1, len(a_list)):\n",
    "            \n",
    "            # Complete the reasoning of this conditional to\n",
    "            # complete the algorithm! Remember, the goal is\n",
    "            # to find the lowest item in the list between\n",
    "            # index i and the end of the list, and store its\n",
    "            # index in the variable minIndex.\n",
    "            #\n",
    "            # Write your code here!\n",
    "            if a_list[j] < a_list[minIndex]:\n",
    "                minIndex = j\n",
    "\n",
    "        # Save the current minimum value since we're about\n",
    "        # to delete it\n",
    "        minValue = a_list[minIndex]\n",
    "        \n",
    "        # Delete the minimum value from its current index\n",
    "        del a_list[minIndex]\n",
    "        \n",
    "        # Insert the minimum value at its new index\n",
    "        a_list.insert(i, minValue)\n",
    "    \n",
    "    # Return the resultant list\n",
    "    return a_list\n",
    "\n",
    "# Below are some lines of code that will test your function.\n",
    "# You can change the value of the variable(s) to test your\n",
    "# function with different inputs.\n",
    "#\n",
    "# If your function works correctly, this will originally\n",
    "# print: [1, 2, 3, 4, 5]\n",
    "print(sort_with_select([5, 3, 1, 2, 4]))"
   ]
  },
  {
   "cell_type": "markdown",
   "id": "37bbc92c-c876-4079-ace7-95ea4240e4b8",
   "metadata": {},
   "source": [
    "**Merge Sort**"
   ]
  },
  {
   "cell_type": "code",
   "execution_count": 142,
   "id": "eac7e091-f5a6-482e-9a22-f5e07ebb4340",
   "metadata": {},
   "outputs": [
    {
     "name": "stdout",
     "output_type": "stream",
     "text": [
      "[1, 2, 3, 4, 5, 6, 7, 8, 9]\n"
     ]
    }
   ],
   "source": [
    "#Let's implement Mergesort! This is a complex problem\n",
    "#because it applies recursion to sorting algorithms, but\n",
    "#it's also by far the most efficient sorting algorithm we'll\n",
    "#cover.\n",
    "\n",
    "#First, we need a function definition: MergeSort should take\n",
    "#as input one list.\n",
    "\n",
    "def mergesort(lst):\n",
    "    \n",
    "    #Then, what does it do? mergesort should recursively\n",
    "    #run mergesort on the left and right sides of lst until\n",
    "    #it's given a list only one item. So, if lst has only\n",
    "    #one item, we should just return that one-item list.\n",
    "    \n",
    "    if len(lst) <= 1:\n",
    "        return lst\n",
    "    \n",
    "    #Otherwise, we should call mergesort separately on the\n",
    "    #left and right sides. Since each successive call to\n",
    "    #mergesort sends half as many items, we're guaranteed\n",
    "    #to eventually send it a list with only one item, at\n",
    "    #which point we'll stop calling mergesort again.\n",
    "    else:\n",
    "\n",
    "        #Floor division on the length of the list will\n",
    "        #find us the index of the middle value.\n",
    "        midpoint = len(lst) // 2\n",
    "\n",
    "        #lst[:midpoint] will get the left side of the\n",
    "        #list based on list slicing syntax. So, we want\n",
    "        #to sort the left side of the list alone and\n",
    "        #assign the result to the new smaller list left.\n",
    "        left = mergesort(lst[:midpoint])\n",
    "\n",
    "        #And same for the right side.\n",
    "        right = mergesort(lst[midpoint:])\n",
    "\n",
    "        #So, left and right now hold sorted lists of\n",
    "        #each half of the original list. They might\n",
    "        #each have only one item, or they could each\n",
    "        #have several items.\n",
    "\n",
    "        #Now we want to compare the first items in each\n",
    "        #list one-by-one, adding the smaller to our new\n",
    "        #result list until one list is completely empty.\n",
    "\n",
    "        newlist = []\n",
    "        while len(left) and len(right) > 0:\n",
    "\n",
    "            #If the first number in left is lower, add\n",
    "            #it to the new list and remove it from left\n",
    "            if left[0] < right[0]:\n",
    "                newlist.append(left[0])\n",
    "                del left[0]\n",
    "\n",
    "            #Otherwise, add the first number from right\n",
    "            #to the new list and remove it from right\n",
    "            else:\n",
    "                newlist.append(right[0])\n",
    "                del right[0]\n",
    "\n",
    "        #When the while loop above is done, it means\n",
    "        #one of the two lists is empty. Because both\n",
    "        #lists were sorted, we can now add the remainder\n",
    "        #of each list to the new list. The empty list\n",
    "        #will have no items to add, and the non-empty\n",
    "        #list will add its items in order.\n",
    "\n",
    "        newlist.extend(left)\n",
    "        newlist.extend(right)\n",
    "\n",
    "        #newlist is now the sorted version of lst! So,\n",
    "        #we can return it. If this was a recursive call\n",
    "        #to mergesort, then this sends a sorted half-\n",
    "        #list up the ladder. If this was the original\n",
    "        #call, then this is the final sorted list.\n",
    "\n",
    "        return newlist\n",
    "\n",
    "#Let's try it out!\n",
    "print(mergesort([2, 5, 3, 8, 6, 9, 1, 4, 7]))\n",
    "\n",
    "#It works! To see more about how it works, check out\n",
    "#MergesortwithPrints.py. To get a succinct version of\n",
    "#this algorithm, checkout MergesortShort.py."
   ]
  },
  {
   "cell_type": "markdown",
   "id": "bd0b6e36-64ad-453c-a91a-1debf551d43d",
   "metadata": {},
   "source": [
    "#### **Search Algorithms**"
   ]
  },
  {
   "cell_type": "markdown",
   "id": "1f5389e3-d306-43f1-990a-f5d4e2f3c5c3",
   "metadata": {},
   "source": [
    "**Search Algorithms**: Algorithms that take as input a list and a value for which to search, and produce as output the index or indices where that  value was found in the list."
   ]
  },
  {
   "cell_type": "markdown",
   "id": "94de402a-028e-4ca9-b14c-a6a0e868deb3",
   "metadata": {},
   "source": [
    "**Binary Search**"
   ]
  },
  {
   "cell_type": "code",
   "execution_count": 149,
   "id": "d9e42aea-edec-4b14-a1aa-f83082e28e1f",
   "metadata": {},
   "outputs": [
    {
     "name": "stdout",
     "output_type": "stream",
     "text": [
      "23 is in intlist: True\n",
      "50 is in intlist: False\n",
      "David is in strlist: True\n",
      "Lucy is in strlist: False\n",
      "10/13/1885 is in datelist: True\n",
      "11/28/2015 is in datelist: False\n"
     ]
    }
   ],
   "source": [
    "#Let's implement a binary search using a loop! For now,\n",
    "#our search will just return True if the item is found,\n",
    "#False if it's not.\n",
    "\n",
    "#Like our linear search, our binary search needs to\n",
    "#parameters: a list to search, and an item to search for.\n",
    "\n",
    "def binary_search(searchList, searchTerm):\n",
    "\n",
    "    #First, the list must be sorted.\n",
    "    searchList.sort()\n",
    "\n",
    "    #Now, each iteration of the loop, we want to narrow\n",
    "    #down the part of the list to look at. So, we need to\n",
    "    #keep track of the range we've narrowed down to so\n",
    "    #far. Initially, that will be the entire list, from\n",
    "    #the first index to the last.\n",
    "    \n",
    "    min = 0\n",
    "    max = len(searchList) - 1\n",
    "    \n",
    "    #Now, we want to loop as long as our range has any\n",
    "    #numbers left to investigate. As long as there is\n",
    "    #more than one number between minimum and maximum,\n",
    "    #we're not done searching.\n",
    "    \n",
    "    while min <= max:\n",
    "\n",
    "        #We want to check the middle item of the\n",
    "        #current range, which is the average of the\n",
    "        #current minimum and maximum index. For\n",
    "        #example, if min was 5 and max was 15, our\n",
    "        #middle number would be at index 5. We'll\n",
    "        #use floor division because indices must be\n",
    "        #integers.\n",
    "        currentMiddle = (min + max) // 2\n",
    "\n",
    "        #If the term in the middle is the term we're\n",
    "        #looking for, we're done!\n",
    "        if searchList[currentMiddle] == searchTerm:\n",
    "            return True\n",
    "\n",
    "        #If not, we want to check if the term we're\n",
    "        #looking for should come earlier or later.\n",
    "\n",
    "        #If the term we're looking for is less than\n",
    "        #the current middle, then search the first\n",
    "        #half of the list:\n",
    "        elif searchTerm < searchList[currentMiddle]:\n",
    "            max = currentMiddle - 1\n",
    "\n",
    "        #If the term we're looking for is greater\n",
    "        #than the current middle, search the second\n",
    "        #half of the list:\n",
    "        else:\n",
    "            min = currentMiddle + 1\n",
    "\n",
    "        #Each iteration of the loop, one of three\n",
    "        #things happens: the term is found, max\n",
    "        #shrinks, or min grows. Eventually, either\n",
    "        #the term will be found, or min will be\n",
    "        #equal to max.\n",
    "\n",
    "    #If the search term was found, this line will\n",
    "    #never be reached because the return statement\n",
    "    #will end the function. So, if we get this\n",
    "    #far, then the search term was not found, and\n",
    "    #we can return False.\n",
    "    return False\n",
    "\n",
    "#Let's try it out!\n",
    "intlist = [12, 64, 23, 3, 57, 19, 1, 17, 51, 62]\n",
    "print(\"23 is in intlist:\", binary_search(intlist, 23))\n",
    "print(\"50 is in intlist:\", binary_search(intlist, 50))\n",
    "\n",
    "#Want to see something else interesting? Because of\n",
    "#the way Python handles types, this exact same\n",
    "#function works for any sortable data type. Check\n",
    "#it out with strings:\n",
    "strlist = [\"David\", \"Joshua\", \"Marguerite\", \"Jackie\"]\n",
    "print(\"David is in strlist:\", binary_search(strlist, \"David\"))\n",
    "print(\"Lucy is in strlist:\", binary_search(strlist, \"Lucy\"))\n",
    "\n",
    "#Or with dates!\n",
    "from datetime import date\n",
    "datelist = [date(1885, 10, 13), date(2014, 11, 29), date(2016, 11, 26)]\n",
    "print(\"10/13/1885 is in datelist:\", binary_search(datelist, date(1885, 10, 13)))\n",
    "print(\"11/28/2015 is in datelist:\", binary_search(datelist, date(2015, 11, 28)))\n",
    "\n",
    "\n",
    "#Now, go see how it works with recursion instead of loops\n",
    "#in RecursiveBinarySearch.py! Or, print how this works with\n",
    "#LoopingBinarySearchwithPrints.py."
   ]
  },
  {
   "cell_type": "code",
   "execution_count": 155,
   "id": "b293639c-6c66-4fd7-8bb9-8d710e2de9f2",
   "metadata": {},
   "outputs": [
    {
     "name": "stdout",
     "output_type": "stream",
     "text": [
      "1\n"
     ]
    }
   ],
   "source": [
    "def factorial(some_number):\n",
    "    if some_number > 1:\n",
    "        return 1\n",
    "    else:\n",
    "        return some_number * factorial(some_number - 1)\n",
    "    \n",
    "print(factorial(5))"
   ]
  }
 ],
 "metadata": {
  "kernelspec": {
   "display_name": "anaconda-panel-2023.05-py310",
   "language": "python",
   "name": "conda-env-anaconda-panel-2023.05-py310-py"
  },
  "language_info": {
   "codemirror_mode": {
    "name": "ipython",
    "version": 3
   },
   "file_extension": ".py",
   "mimetype": "text/x-python",
   "name": "python",
   "nbconvert_exporter": "python",
   "pygments_lexer": "ipython3",
   "version": "3.11.5"
  }
 },
 "nbformat": 4,
 "nbformat_minor": 5
}
