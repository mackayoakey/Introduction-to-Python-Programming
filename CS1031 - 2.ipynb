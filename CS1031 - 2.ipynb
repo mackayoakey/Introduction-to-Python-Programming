{
 "cells": [
  {
   "cell_type": "markdown",
   "id": "65a5f012-d34d-4db8-a3d0-6f76e1229f77",
   "metadata": {},
   "source": [
    "# Computing in Python II: Control Structures\n",
    "This is meant to be a cheat sheet for everything I learn in this section of the CS1301 course"
   ]
  },
  {
   "cell_type": "markdown",
   "id": "7f3b7872-f820-4ef2-a7a6-6fa776eb6471",
   "metadata": {},
   "source": [
    "### Chapter 3.1: Control Structures"
   ]
  },
  {
   "cell_type": "markdown",
   "id": "46bd36f3-10b4-4ab9-8f21-872f1a9f4dfe",
   "metadata": {},
   "source": [
    "\"The fundamental idea of control structures is that certain lines of code tell the computer how to interpret or when to execute other lines of code.\""
   ]
  },
  {
   "cell_type": "code",
   "execution_count": 8,
   "id": "646e25ca-8724-43c7-8fde-57c026a53809",
   "metadata": {},
   "outputs": [
    {
     "name": "stdout",
     "output_type": "stream",
     "text": [
      "myNum2 is greater than myNum1!\n",
      "Execution complete!\n"
     ]
    }
   ],
   "source": [
    "# Conditionals\n",
    "myNum1 = 1\n",
    "myNum2 = 2\n",
    "\n",
    "if myNum1 < myNum2:\n",
    "    print(\"myNum2 is greater than myNum1!\")\n",
    "# This will print regardless\n",
    "print(\"Execution complete!\")"
   ]
  },
  {
   "cell_type": "code",
   "execution_count": 10,
   "id": "39a58497-326d-4b46-bf0b-0eaf40fd6da8",
   "metadata": {},
   "outputs": [
    {
     "name": "stdout",
     "output_type": "stream",
     "text": [
      "myNum2 is greater than myNum1!\n",
      "Yes it is!\n",
      "Execution complete!\n"
     ]
    }
   ],
   "source": [
    "# Indentations and conditionals\n",
    "# The indented lines after the if statement will only run if the conditional (if statement) is true\n",
    "\n",
    "myNum1 = 1\n",
    "myNum2 = 2\n",
    "\n",
    "if myNum1 < myNum2:\n",
    "    print(\"myNum2 is greater than myNum1!\")\n",
    "    print(\"Yes it is!\")\n",
    "# This will print regardless\n",
    "print(\"Execution complete!\")"
   ]
  },
  {
   "cell_type": "code",
   "execution_count": 12,
   "id": "9e2e3f49-7118-40ac-81bd-c5386c24120b",
   "metadata": {},
   "outputs": [
    {
     "name": "stdout",
     "output_type": "stream",
     "text": [
      "myNum2 is greater than myNum1!\n",
      "myNum3 is also greater than myNum1\n",
      "Execution complete!\n"
     ]
    }
   ],
   "source": [
    "# Nested indentation\n",
    "myNum1 = 1\n",
    "myNum2 = 2\n",
    "myNum3 = 3\n",
    "\n",
    "if myNum1 < myNum2:\n",
    "    print(\"myNum2 is greater than myNum1!\")\n",
    "    if myNum1 < myNum3:\n",
    "        print(\"myNum3 is also greater than myNum1\")\n",
    "    print(\"Execution complete!\")"
   ]
  },
  {
   "cell_type": "markdown",
   "id": "1382b4bd-ff79-4cb7-9458-4771b7d7c5d1",
   "metadata": {},
   "source": [
    "### Chapter 3.2: Conditionals"
   ]
  },
  {
   "cell_type": "code",
   "execution_count": 18,
   "id": "4c156d06-ef62-4951-9135-79044337ca8c",
   "metadata": {},
   "outputs": [
    {
     "name": "stdout",
     "output_type": "stream",
     "text": [
      "Done!\n"
     ]
    }
   ],
   "source": [
    "# A simple conditional testing a string\n",
    "todaysWeather = \"cold\"\n",
    "\n",
    "if todaysWeather == \"raining\":\n",
    "    print(\"Raincoat\")\n",
    "    print(\"Rainboots\")\n",
    "print(\"Done!\")"
   ]
  },
  {
   "cell_type": "code",
   "execution_count": 20,
   "id": "2ab213cf-857d-4c33-b5a1-e1bf8f1e4359",
   "metadata": {},
   "outputs": [
    {
     "name": "stdout",
     "output_type": "stream",
     "text": [
      "t-shirt\n",
      "shorts\n",
      "done!\n"
     ]
    }
   ],
   "source": [
    "# If - Then - Else\n",
    "weather = \"cold\"\n",
    "\n",
    "if weather == \"raining\":\n",
    "    print(\"raincoat\")\n",
    "    print(\"rainboots\")\n",
    "else:\n",
    "    print(\"t-shirt\")\n",
    "    print(\"shorts\")\n",
    "print(\"done!\")"
   ]
  },
  {
   "cell_type": "code",
   "execution_count": 22,
   "id": "3c87c3d1-e813-491a-9a7f-53b2168986fb",
   "metadata": {},
   "outputs": [
    {
     "name": "stdout",
     "output_type": "stream",
     "text": [
      "jacket\n",
      "done!\n"
     ]
    }
   ],
   "source": [
    "# If - Then - If - Else\n",
    "weather = \"windy\"\n",
    "\n",
    "if weather == \"raining\":\n",
    "    print(\"raincoat\")\n",
    "    print(\"rainboots\")\n",
    "elif weather == \"cold\":\n",
    "    print(\"long-sleeved shirt\")\n",
    "    print(\"scarf\")\n",
    "elif weather == \"windy\":\n",
    "    print(\"jacket\")\n",
    "elif weather == \"snowy\":\n",
    "    print(\"snowboots\")\n",
    "else:\n",
    "    print(\"t-shirt\")\n",
    "    print(\"shorts\")\n",
    "print(\"done!\")"
   ]
  },
  {
   "cell_type": "markdown",
   "id": "dc868f0c-d04d-4405-baa7-fe946c1ab84c",
   "metadata": {},
   "source": [
    "**Relational Operators**\n",
    "Keep in mind that you can use logical operators, for example:\n",
    "\n",
    "\"<\"\n",
    "\n",
    "\">\"\n",
    "\n",
    "\"<=\"\n",
    "\n",
    "\">=\""
   ]
  },
  {
   "cell_type": "code",
   "execution_count": 30,
   "id": "455cccc3-a5ec-490b-9362-1956c08b92dd",
   "metadata": {},
   "outputs": [
    {
     "name": "stdout",
     "output_type": "stream",
     "text": [
      "Purchase not approved!\n",
      "Done!\n"
     ]
    }
   ],
   "source": [
    "# Boolean operators with multiple clauses\n",
    "balance = 20.0\n",
    "salesTax = 1.08\n",
    "cardholderName = \"David Joyner\"\n",
    "trustedVendors = [\"Maria's\", \"Bob's\", \"Vrushali's\", \"Ling's\", \"Tia's\"]\n",
    "\n",
    "purchasePrice = 19.0\n",
    "customerName = \"David Joyner\"\n",
    "vendor = \"Vrushali's\"\n",
    "\n",
    "if balance > purchasePrice * salesTax and cardholderName == \\\n",
    "        customerName and vendor in trustedVendors:\n",
    "    print(\"Purchase approved!\")\n",
    "else:\n",
    "    print(\"Purchase not approved!\")\n",
    "print(\"Done!\")"
   ]
  },
  {
   "cell_type": "code",
   "execution_count": 32,
   "id": "328ac637-2690-4537-8533-ced3a9605f01",
   "metadata": {},
   "outputs": [
    {
     "name": "stdout",
     "output_type": "stream",
     "text": [
      "21.6\n"
     ]
    }
   ],
   "source": [
    "# It looks like the reason it was not approved is because David didn't have enough money in his account\n",
    "print(20*1.08)"
   ]
  },
  {
   "cell_type": "code",
   "execution_count": 34,
   "id": "180171cb-bffa-4a64-829d-8a6def1e4b4e",
   "metadata": {},
   "outputs": [
    {
     "name": "stdout",
     "output_type": "stream",
     "text": [
      "Purchase not approved; untrusted vendor.\n",
      "Done!\n"
     ]
    }
   ],
   "source": [
    "# Nested conditionals in Python\n",
    "balance = 20.0  \n",
    "salesTax = 1.08 \n",
    "cardholderName = \"David Joyner\"\n",
    "trustedVendors = [\"Maria's\", \"Bob's\", \"Vrushali's\", \"Ling's\", \"Tia's\"]\n",
    "\n",
    "purchasePrice = 19.0\n",
    "customerName = \"David Joyner\"\n",
    "vendor = \"Freddy's\"\n",
    "overdraftProtection = True\n",
    "\n",
    "#This nested conditional checks whether the balance is less than or\n",
    "#equal to the total price and overdraft protection is not available;\n",
    "#otherwise, whether the cardholder is not also the customer; and\n",
    "#otherwise, whether the vendor is not trusted.\n",
    "if balance <= purchasePrice * salesTax and not overdraftProtection:\n",
    "    print(\"Purchase not approved; no funds or overdraft protection.\")\n",
    "else:\n",
    "    if not cardholderName == customerName:\n",
    "        print(\"Purchase not approved; invalid customer.\")\n",
    "    else:\n",
    "        if not vendor in trustedVendors:\n",
    "            print(\"Purchase not approved; untrusted vendor.\")\n",
    "        else:\n",
    "            print(\"Purchase approved!\")\n",
    "print(\"Done!\")"
   ]
  },
  {
   "cell_type": "markdown",
   "id": "8b748089-0d33-4688-8836-8efdf31c8862",
   "metadata": {},
   "source": [
    "### Chapter 3.3: Loops"
   ]
  },
  {
   "cell_type": "code",
   "execution_count": null,
   "id": "6b0403e8-c6a4-4693-b972-a579988f3236",
   "metadata": {},
   "outputs": [],
   "source": [
    "# For Loops\n",
    "# Repeats some code a specified nubmer of times.\n",
    "\n",
    "# While Loops\n",
    "# Runs a block of code until a certain logical expression is  satisfied.\n",
    "# A repeated conditional. Repeats until the condition is no longer true."
   ]
  },
  {
   "cell_type": "code",
   "execution_count": 10,
   "id": "0b2d45b9-5248-4844-8ed2-7fbbd4a524bb",
   "metadata": {},
   "outputs": [
    {
     "name": "stdout",
     "output_type": "stream",
     "text": [
      "1\n",
      "2\n",
      "3\n",
      "4\n",
      "5\n",
      "6\n",
      "7\n",
      "8\n",
      "9\n",
      "10\n"
     ]
    }
   ],
   "source": [
    "# Traditional For Loops in Python\n",
    "for i in range(1, 11):\n",
    "    print(i)"
   ]
  },
  {
   "cell_type": "code",
   "execution_count": 12,
   "id": "bc2bff24-5f9a-4b27-852e-21a9de0596e4",
   "metadata": {},
   "outputs": [
    {
     "name": "stdout",
     "output_type": "stream",
     "text": [
      "Before addition: 1\n",
      "After addition: 2\n",
      "Before addition: 2\n",
      "After addition: 3\n",
      "Before addition: 3\n",
      "After addition: 4\n",
      "Before addition: 4\n",
      "After addition: 5\n",
      "Before addition: 5\n",
      "After addition: 6\n",
      "Before addition: 6\n",
      "After addition: 7\n",
      "Before addition: 7\n",
      "After addition: 8\n",
      "Before addition: 8\n",
      "After addition: 9\n",
      "Before addition: 9\n",
      "After addition: 10\n",
      "Before addition: 10\n",
      "After addition: 11\n"
     ]
    }
   ],
   "source": [
    "# Showing the steps\n",
    "for i in range(1, 11):\n",
    "    print(\"Before addition:\", i)\n",
    "    i += 1\n",
    "    print(\"After addition:\", i)"
   ]
  },
  {
   "cell_type": "code",
   "execution_count": 18,
   "id": "e75fcd62-804a-4690-a751-b91ea0a8d966",
   "metadata": {},
   "outputs": [
    {
     "name": "stdin",
     "output_type": "stream",
     "text": [
      "Enter number #1:  91\n",
      "Enter number #2:  92\n",
      "Enter number #3:  93\n",
      "Enter number #4:  94\n",
      "Enter number #5:  95\n",
      "Enter number #6:  96\n",
      "Enter number #7:  97\n",
      "Enter number #8:  98\n",
      "Enter number #9:  99\n",
      "Enter number #10:  100\n"
     ]
    },
    {
     "name": "stdout",
     "output_type": "stream",
     "text": [
      "95.5\n"
     ]
    }
   ],
   "source": [
    "# For Loops with Unknown Ranges\n",
    "# We are creating a function that lets us input 10 numbers then find the average of those 10 numbers\n",
    "sum = 0\n",
    "for i in range(1, 11):\n",
    "    nextNumber = int(input(\"Enter number #\" + str(i) + \": \"))\n",
    "    sum += nextNumber\n",
    "print(sum / 10)"
   ]
  },
  {
   "cell_type": "code",
   "execution_count": 22,
   "id": "1eda3778-e0bc-4915-b795-59b184571c0d",
   "metadata": {},
   "outputs": [
    {
     "name": "stdin",
     "output_type": "stream",
     "text": [
      "How many numbers will you average?  5\n",
      "Enter number #1:  91\n",
      "Enter number #2:  92\n",
      "Enter number #3:  93\n",
      "Enter number #4:  94\n",
      "Enter number #5:  95\n"
     ]
    },
    {
     "name": "stdout",
     "output_type": "stream",
     "text": [
      "93.0\n"
     ]
    }
   ],
   "source": [
    "# Similar to the previous function, this function lets us decide how many numbers there will be before we input\n",
    "sum = 0\n",
    "numCount = int(input(\"How many numbers will you average? \"))\n",
    "for i in range(1, numCount + 1):\n",
    "    nextNumber = int(input(\"Enter number #\" + str(i) + \": \"))\n",
    "    sum += nextNumber\n",
    "print(sum / numCount)"
   ]
  },
  {
   "cell_type": "code",
   "execution_count": 3,
   "id": "64517d36-7b20-4c9f-8df4-d9809ab701bc",
   "metadata": {},
   "outputs": [
    {
     "name": "stdout",
     "output_type": "stream",
     "text": [
      "Index 5\n",
      "Index 6\n",
      "Index 7\n",
      "Index 8\n"
     ]
    }
   ],
   "source": [
    "# Printing strings and numbers\n",
    "for i in range(5, 9):\n",
    "    print(\"Index\", i)"
   ]
  },
  {
   "cell_type": "code",
   "execution_count": 5,
   "id": "fd757352-c1c2-4444-b54d-383753ae2b5b",
   "metadata": {},
   "outputs": [
    {
     "name": "stdout",
     "output_type": "stream",
     "text": [
      "0 G\n",
      "1 e\n",
      "2 o\n",
      "3 r\n",
      "4 g\n",
      "5 i\n",
      "6 a\n",
      "7  \n",
      "8 T\n",
      "9 e\n",
      "10 c\n",
      "11 h\n"
     ]
    }
   ],
   "source": [
    "# Breaking down a string by characters\n",
    "some_string = \"Georgia Tech\"\n",
    "for i in range(0, len(some_string)):\n",
    "    print(i, some_string[i])"
   ]
  },
  {
   "cell_type": "code",
   "execution_count": 7,
   "id": "9b75cd56-7cf2-458b-a512-0eb60309049b",
   "metadata": {},
   "outputs": [
    {
     "name": "stdout",
     "output_type": "stream",
     "text": [
      "0 I\n",
      "1 like\n",
      "2 shorts\n",
      "3 they're\n",
      "4 comfy\n",
      "5 and\n",
      "6 easy\n",
      "7 to\n",
      "8 wear\n"
     ]
    }
   ],
   "source": [
    "# Breaking down a string by words in the string\n",
    "some_list = [\"I\", \"like\", \"shorts\", \"they're\", \"comfy\", \"and\", \"easy\", \"to\", \"wear\"]\n",
    "for i in range(0, len(some_list)):\n",
    "    print(i, some_list[i])\n",
    "# This has some cool NLP applications"
   ]
  },
  {
   "cell_type": "markdown",
   "id": "ff9e8f84-3b04-4969-aefa-7ac4abea12f3",
   "metadata": {},
   "source": [
    "For-Each Loops in Python\n",
    "\n",
    "\"A for-each loop runs the same way as a for loop. But it streamlines the process of creating a variable, getting the length of the list, and grabbing the next item during eaceh iteration.\""
   ]
  },
  {
   "cell_type": "markdown",
   "id": "ab8a0e92-19f5-4834-b803-2f1fd1890681",
   "metadata": {},
   "source": [
    "**For-Each Loop**: A loop control structure that runs a block of code a predetermined number of times, where the number of times comes from the length of some list and the items in the list are automatically loaded into a variable for usage in the block of code.\n",
    "\n",
    "**Iterate**: To repeat code a number of times. For example, if a loop runs for each item in a list, the loop “iterates” over the list. Each time the code is repeated is a single iteration."
   ]
  },
  {
   "cell_type": "code",
   "execution_count": 11,
   "id": "02981c8b-4781-4fa3-ba2c-3988d3778a0b",
   "metadata": {},
   "outputs": [
    {
     "name": "stdout",
     "output_type": "stream",
     "text": [
      "95.5\n"
     ]
    }
   ],
   "source": [
    "# For-Each and Lists\n",
    "# Averaging\n",
    "listOfNumbers = [91, 92, 93, 94, 95, 96, 97, 98, 99, 100]\n",
    "sum = 0\n",
    "\n",
    "for i in range(0, len(listOfNumbers)):\n",
    "    currentNumber = listOfNumbers[i]\n",
    "    sum += currentNumber\n",
    "print(sum / len(listOfNumbers))\n",
    "\n",
    "# It looks like we assign sum = 0 at the beginning so that we start at 0 and add values to it with the \"sum += currentNumber\" function afterward."
   ]
  },
  {
   "cell_type": "code",
   "execution_count": 13,
   "id": "c3592add-b46a-4ef0-9d5c-2363f958f5e0",
   "metadata": {},
   "outputs": [
    {
     "name": "stdout",
     "output_type": "stream",
     "text": [
      "95.5\n"
     ]
    }
   ],
   "source": [
    "# We could also write this as:\n",
    "listOfNumbers = [91, 92, 93, 94, 95, 96, 97, 98, 99, 100]\n",
    "sum = 0\n",
    "\n",
    "for currentNumber in listOfNumbers:\n",
    "    sum += currentNumber\n",
    "print(sum / len(listOfNumbers))"
   ]
  },
  {
   "cell_type": "code",
   "execution_count": 24,
   "id": "8886520b-d1c0-4217-8ba7-fa8816671970",
   "metadata": {},
   "outputs": [
    {
     "name": "stdout",
     "output_type": "stream",
     "text": [
      "There are 7 spaces in the string.\n"
     ]
    }
   ],
   "source": [
    "# For-Each and Other Types\n",
    "myString = \"There are seven words in this string\"\n",
    "numSpaces = 0\n",
    "\n",
    "for currentCharacter in myString:\n",
    "    if currentCharacter == \" \":\n",
    "        numSpaces += 1\n",
    "print(\"There are \" + str(numSpaces + 1) + \" spaces in the string.\")"
   ]
  },
  {
   "cell_type": "markdown",
   "id": "bea3a2bb-044c-4a34-87aa-557b4c111bab",
   "metadata": {},
   "source": [
    "**Introduction to While Loops in Python**\n",
    "\n",
    "\"While loops are good for code where we don't know how many times we need to repeat in advance.\""
   ]
  },
  {
   "cell_type": "code",
   "execution_count": 32,
   "id": "f7cad009-d662-48cb-92ab-3cf8e389aba6",
   "metadata": {},
   "outputs": [
    {
     "name": "stdout",
     "output_type": "stream",
     "text": [
      "1\n",
      "2\n",
      "3\n",
      "4\n",
      "5\n",
      "6\n",
      "7\n",
      "8\n",
      "9\n",
      "10\n"
     ]
    }
   ],
   "source": [
    "# Simple While Loops\n",
    "i = 1\n",
    "while i < 11:\n",
    "    print(i)\n",
    "    i += 1\n",
    "# Note: \"Any for loop can be written as a while loop.\""
   ]
  },
  {
   "cell_type": "code",
   "execution_count": 36,
   "id": "b3c28c08-014d-42f1-927f-b1a075463eff",
   "metadata": {},
   "outputs": [
    {
     "name": "stdin",
     "output_type": "stream",
     "text": [
      "Guess a number:  50\n"
     ]
    },
    {
     "name": "stdout",
     "output_type": "stream",
     "text": [
      "Too high!\n"
     ]
    },
    {
     "name": "stdin",
     "output_type": "stream",
     "text": [
      "Guess a number:  25\n"
     ]
    },
    {
     "name": "stdout",
     "output_type": "stream",
     "text": [
      "Too low!\n"
     ]
    },
    {
     "name": "stdin",
     "output_type": "stream",
     "text": [
      "Guess a number:  35\n"
     ]
    },
    {
     "name": "stdout",
     "output_type": "stream",
     "text": [
      "Too low!\n"
     ]
    },
    {
     "name": "stdin",
     "output_type": "stream",
     "text": [
      "Guess a number:  42\n"
     ]
    },
    {
     "name": "stdout",
     "output_type": "stream",
     "text": [
      "Too low!\n"
     ]
    },
    {
     "name": "stdin",
     "output_type": "stream",
     "text": [
      "Guess a number:  45\n"
     ]
    },
    {
     "name": "stdout",
     "output_type": "stream",
     "text": [
      "That's right!\n"
     ]
    }
   ],
   "source": [
    "# While Loops and Number Guessing\n",
    "import random\n",
    "#Get a random number from 1 to 100\n",
    "hiddenNumber = random.randint(1, 100)\n",
    "#Create userGuess and give is a value that can't be correct\n",
    "userGuess = 0   \n",
    "#Repeat until the guess is correct\n",
    "while not userGuess == hiddenNumber:    \n",
    "    #Get the user's next guess as an integer\n",
    "    userGuess = int(input(\"Guess a number: \"))  \n",
    "    #Check if the guess is too high\n",
    "    if userGuess > hiddenNumber:    \n",
    "        print(\"Too high!\")\n",
    "    #Check if the guess is too low\n",
    "    elif userGuess < hiddenNumber:  \n",
    "        print(\"Too low!\")\n",
    "    #The guess must be right!\n",
    "    else:   \n",
    "        print(\"That's right!\")"
   ]
  },
  {
   "cell_type": "code",
   "execution_count": 38,
   "id": "fe4ed56c-f047-4f7b-9085-52b32e1c4dac",
   "metadata": {},
   "outputs": [
    {
     "ename": "SyntaxError",
     "evalue": "incomplete input (794502071.py, line 5)",
     "output_type": "error",
     "traceback": [
      "\u001b[0;36m  Cell \u001b[0;32mIn[38], line 5\u001b[0;36m\u001b[0m\n\u001b[0;31m    # If you ran this with the print function it would be an infinite loop\u001b[0m\n\u001b[0m                                                                          ^\u001b[0m\n\u001b[0;31mSyntaxError\u001b[0m\u001b[0;31m:\u001b[0m incomplete input\n"
     ]
    }
   ],
   "source": [
    "# Infinite Loops\n",
    "i = 1\n",
    "while i > 0:\n",
    "#    print(i)\n",
    "# If you ran this with the print function it would be an infinite loop"
   ]
  },
  {
   "cell_type": "markdown",
   "id": "a64fe4ad-7efe-4190-84a3-356a0cb45e63",
   "metadata": {},
   "source": [
    "**Debugging with Loops**\n",
    "\n",
    "\"Debugging is like being the detective in a crime movie where you are also the murderer.\" - Filipe Fortes Nov 9, 2013"
   ]
  },
  {
   "cell_type": "code",
   "execution_count": 55,
   "id": "a9082719-b130-4725-a5ea-92c11788a698",
   "metadata": {},
   "outputs": [
    {
     "name": "stdout",
     "output_type": "stream",
     "text": [
      "1 times 1 equals 1\n",
      "1 times 2 equals 2\n",
      "1 times 3 equals 3\n",
      "1 times 4 equals 4\n",
      "1 times 5 equals 5\n",
      "1 times 6 equals 6\n",
      "1 times 7 equals 7\n",
      "1 times 8 equals 8\n",
      "1 times 9 equals 9\n",
      "1 times 10 equals 10\n",
      "2 times 1 equals 2\n",
      "2 times 2 equals 4\n",
      "2 times 3 equals 6\n",
      "2 times 4 equals 8\n",
      "2 times 5 equals 10\n",
      "2 times 6 equals 12\n",
      "2 times 7 equals 14\n",
      "2 times 8 equals 16\n",
      "2 times 9 equals 18\n",
      "2 times 10 equals 20\n",
      "3 times 1 equals 3\n",
      "3 times 2 equals 6\n",
      "3 times 3 equals 9\n",
      "3 times 4 equals 12\n",
      "3 times 5 equals 15\n",
      "3 times 6 equals 18\n",
      "3 times 7 equals 21\n",
      "3 times 8 equals 24\n",
      "3 times 9 equals 27\n",
      "3 times 10 equals 30\n",
      "4 times 1 equals 4\n",
      "4 times 2 equals 8\n",
      "4 times 3 equals 12\n",
      "4 times 4 equals 16\n",
      "4 times 5 equals 20\n",
      "4 times 6 equals 24\n",
      "4 times 7 equals 28\n",
      "4 times 8 equals 32\n",
      "4 times 9 equals 36\n",
      "4 times 10 equals 40\n",
      "5 times 1 equals 5\n",
      "5 times 2 equals 10\n",
      "5 times 3 equals 15\n",
      "5 times 4 equals 20\n",
      "5 times 5 equals 25\n",
      "5 times 6 equals 30\n",
      "5 times 7 equals 35\n",
      "5 times 8 equals 40\n",
      "5 times 9 equals 45\n",
      "5 times 10 equals 50\n",
      "6 times 1 equals 6\n",
      "6 times 2 equals 12\n",
      "6 times 3 equals 18\n",
      "6 times 4 equals 24\n",
      "6 times 5 equals 30\n",
      "6 times 6 equals 36\n",
      "6 times 7 equals 42\n",
      "6 times 8 equals 48\n",
      "6 times 9 equals 54\n",
      "6 times 10 equals 60\n",
      "7 times 1 equals 7\n",
      "7 times 2 equals 14\n",
      "7 times 3 equals 21\n",
      "7 times 4 equals 28\n",
      "7 times 5 equals 35\n",
      "7 times 6 equals 42\n",
      "7 times 7 equals 49\n",
      "7 times 8 equals 56\n",
      "7 times 9 equals 63\n",
      "7 times 10 equals 70\n",
      "8 times 1 equals 8\n",
      "8 times 2 equals 16\n",
      "8 times 3 equals 24\n",
      "8 times 4 equals 32\n",
      "8 times 5 equals 40\n",
      "8 times 6 equals 48\n",
      "8 times 7 equals 56\n",
      "8 times 8 equals 64\n",
      "8 times 9 equals 72\n",
      "8 times 10 equals 80\n",
      "9 times 1 equals 9\n",
      "9 times 2 equals 18\n",
      "9 times 3 equals 27\n",
      "9 times 4 equals 36\n",
      "9 times 5 equals 45\n",
      "9 times 6 equals 54\n",
      "9 times 7 equals 63\n",
      "9 times 8 equals 72\n",
      "9 times 9 equals 81\n",
      "9 times 10 equals 90\n",
      "10 times 1 equals 10\n",
      "10 times 2 equals 20\n",
      "10 times 3 equals 30\n",
      "10 times 4 equals 40\n",
      "10 times 5 equals 50\n",
      "10 times 6 equals 60\n",
      "10 times 7 equals 70\n",
      "10 times 8 equals 80\n",
      "10 times 9 equals 90\n",
      "10 times 10 equals 100\n"
     ]
    }
   ],
   "source": [
    "# Advanced Loops: Nesting in Python\n",
    "for i in range(1, 11):\n",
    "    for j in range(1, 11):\n",
    "        print(i, \"times\", j, \"equals\", i * j)"
   ]
  },
  {
   "cell_type": "code",
   "execution_count": 59,
   "id": "c3899ed5-16e9-4888-be0a-6044ffc9cf88",
   "metadata": {},
   "outputs": [
    {
     "name": "stdout",
     "output_type": "stream",
     "text": [
      "There are 25 words in these strings\n"
     ]
    }
   ],
   "source": [
    "# Counting the number of words in a list of strings\n",
    "listOfStrings = [\"This is the first string\",\n",
    "                 \"This is the second string\",\n",
    "                 \"This is the third string\",\n",
    "                 \"This is the fourth string\",\n",
    "                 \"This is the fifth string\"]\n",
    "numSpaces = 0\n",
    "for currentString in listOfStrings:\n",
    "    for currentCharacter in currentString:\n",
    "        if currentCharacter == \" \":\n",
    "            numSpaces += 1\n",
    "\n",
    "numWords = numSpaces + len(listOfStrings)\n",
    "print(\"There are\", numWords, \"words in these strings\")"
   ]
  },
  {
   "cell_type": "code",
   "execution_count": 61,
   "id": "b2012f8c-bcd3-4a56-8bca-c5d9f0d87d06",
   "metadata": {},
   "outputs": [
    {
     "name": "stdout",
     "output_type": "stream",
     "text": [
      "Game start!\n"
     ]
    },
    {
     "name": "stdin",
     "output_type": "stream",
     "text": [
      "Guess a number:  50\n"
     ]
    },
    {
     "name": "stdout",
     "output_type": "stream",
     "text": [
      "Too low!\n"
     ]
    },
    {
     "name": "stdin",
     "output_type": "stream",
     "text": [
      "Guess a number:  75\n"
     ]
    },
    {
     "name": "stdout",
     "output_type": "stream",
     "text": [
      "Too low!\n"
     ]
    },
    {
     "name": "stdin",
     "output_type": "stream",
     "text": [
      "Guess a number:  90\n"
     ]
    },
    {
     "name": "stdout",
     "output_type": "stream",
     "text": [
      "Too high!\n"
     ]
    },
    {
     "name": "stdin",
     "output_type": "stream",
     "text": [
      "Guess a number:  85\n"
     ]
    },
    {
     "name": "stdout",
     "output_type": "stream",
     "text": [
      "Too high!\n"
     ]
    },
    {
     "name": "stdin",
     "output_type": "stream",
     "text": [
      "Guess a number:  80\n"
     ]
    },
    {
     "name": "stdout",
     "output_type": "stream",
     "text": [
      "Too low!\n"
     ]
    },
    {
     "name": "stdin",
     "output_type": "stream",
     "text": [
      "Guess a number:  82\n"
     ]
    },
    {
     "name": "stdout",
     "output_type": "stream",
     "text": [
      "Too low!\n"
     ]
    },
    {
     "name": "stdin",
     "output_type": "stream",
     "text": [
      "Guess a number:  83\n"
     ]
    },
    {
     "name": "stdout",
     "output_type": "stream",
     "text": [
      "Too low!\n"
     ]
    },
    {
     "name": "stdin",
     "output_type": "stream",
     "text": [
      "Guess a number:  84\n"
     ]
    },
    {
     "name": "stdout",
     "output_type": "stream",
     "text": [
      "That's right!\n"
     ]
    },
    {
     "name": "stdin",
     "output_type": "stream",
     "text": [
      "Play again (y for yes, n for no)?  y\n"
     ]
    },
    {
     "name": "stdout",
     "output_type": "stream",
     "text": [
      "Game start!\n"
     ]
    },
    {
     "name": "stdin",
     "output_type": "stream",
     "text": [
      "Guess a number:  50\n"
     ]
    },
    {
     "name": "stdout",
     "output_type": "stream",
     "text": [
      "Too low!\n"
     ]
    },
    {
     "name": "stdin",
     "output_type": "stream",
     "text": [
      "Guess a number:  75\n"
     ]
    },
    {
     "name": "stdout",
     "output_type": "stream",
     "text": [
      "Too low!\n"
     ]
    },
    {
     "name": "stdin",
     "output_type": "stream",
     "text": [
      "Guess a number:  90\n"
     ]
    },
    {
     "name": "stdout",
     "output_type": "stream",
     "text": [
      "Too high!\n"
     ]
    },
    {
     "name": "stdin",
     "output_type": "stream",
     "text": [
      "Guess a number:  80\n"
     ]
    },
    {
     "name": "stdout",
     "output_type": "stream",
     "text": [
      "Too high!\n"
     ]
    },
    {
     "name": "stdin",
     "output_type": "stream",
     "text": [
      "Guess a number:  77\n"
     ]
    },
    {
     "name": "stdout",
     "output_type": "stream",
     "text": [
      "That's right!\n"
     ]
    },
    {
     "name": "stdin",
     "output_type": "stream",
     "text": [
      "Play again (y for yes, n for no)?  n\n"
     ]
    }
   ],
   "source": [
    "# Nesting Both Loops\n",
    "# Applying it to our number guessing game\n",
    "import random\n",
    "keepPlaying = \"y\"\n",
    "#While keepPlaying is \"y\"\n",
    "while keepPlaying == \"y\":   \n",
    "    print(\"Game start!\")\n",
    "    #Get a random number from 1 to 100\n",
    "    hiddenNumber = random.randint(1, 100)   \n",
    "    #Create userGuess and give is a value that can't be correct\n",
    "    userGuess = 0   \n",
    "    #Repeat until the guess is correct\n",
    "    while not userGuess == hiddenNumber:    \n",
    "        #Get the user's next guess as an integer\n",
    "        userGuess = int(input(\"Guess a number: \"))  \n",
    "        #Check if the guess is too high\n",
    "        if userGuess > hiddenNumber:    \n",
    "            print(\"Too high!\")\n",
    "        #Check if the guess is too low\n",
    "        elif userGuess < hiddenNumber:  \n",
    "            print(\"Too low!\")\n",
    "        #The guess must be right!\n",
    "        else:   \n",
    "            print(\"That's right!\")\n",
    "    #Update keepPlaying\n",
    "    keepPlaying = input(\"Play again (y for yes, n for no)? \")"
   ]
  },
  {
   "cell_type": "markdown",
   "id": "7bd14fea-f68d-45be-8458-7269ab73beb9",
   "metadata": {},
   "source": [
    "**Advanced Loops: Keywords and Scope in Python**\n",
    "\n",
    "\n",
    "**continue**: Skip the rest of the current iteration of the loop and continue with the next iteration of the loop (if there is a next iteration).\n",
    "\n",
    "**break**: Skip the rest of the current iteration of the loop and break out of the loop altogether, skipping any later iterations, too.\n",
    "\n",
    "**pass**: Designate an 'empty' body for a control structure."
   ]
  },
  {
   "cell_type": "code",
   "execution_count": 64,
   "id": "f547f131-843e-4e68-bfa1-559ad1ce7014",
   "metadata": {},
   "outputs": [
    {
     "name": "stdout",
     "output_type": "stream",
     "text": [
      "1 is odd.\n",
      "3 is odd.\n",
      "5 is odd.\n",
      "7 is odd.\n",
      "9 is odd.\n",
      "11 is odd.\n",
      "13 is odd.\n",
      "15 is odd.\n",
      "17 is odd.\n",
      "19 is odd.\n",
      "Done!\n"
     ]
    }
   ],
   "source": [
    "for i in range(1, 21):\n",
    "    if i % 2 == 0:\n",
    "        continue\n",
    "    print(i, \"is odd.\")\n",
    "print(\"Done!\")"
   ]
  },
  {
   "cell_type": "code",
   "execution_count": 68,
   "id": "e4b0ea1f-fbec-480d-8fd6-ed591e22d82d",
   "metadata": {},
   "outputs": [
    {
     "name": "stdout",
     "output_type": "stream",
     "text": [
      "1 is odd.\n",
      "Done!\n"
     ]
    }
   ],
   "source": [
    "for i in range(1, 21):\n",
    "    if i % 2 == 0:\n",
    "        break\n",
    "    print(i, \"is odd.\")\n",
    "print(\"Done!\")\n",
    "# The \"break\" function tells Python to only run the loop once."
   ]
  },
  {
   "cell_type": "code",
   "execution_count": 1,
   "id": "26cd62be-1837-4025-a58f-b715a1fa3a88",
   "metadata": {},
   "outputs": [
    {
     "name": "stdin",
     "output_type": "stream",
     "text": [
      "How many numbers will you average?  6\n",
      "Enter number #1:  1\n",
      "Enter number #2:  2\n",
      "Enter number #3:  3\n",
      "Enter number #4:  4\n",
      "Enter number #5:  5\n",
      "Enter number #6:  6\n"
     ]
    },
    {
     "name": "stdout",
     "output_type": "stream",
     "text": [
      "1.0\n"
     ]
    }
   ],
   "source": [
    "# Scope and Loops\n",
    "\n",
    "#Get the number of numbers to average\n",
    "numCount = int(input(\"How many numbers will you average? \"))   \n",
    "#Loop numCount times\n",
    "for i in range(1, numCount + 1):  \n",
    "    #Creates sum with the value 0\n",
    "    sum = 0 \n",
    "    #Gets the user's number\n",
    "    nextNumber = int(input(\"Enter number #\" + str(i) + \": \"))   \n",
    "    #Add the inputted number to the sum\n",
    "    sum += nextNumber \n",
    "#Print the sum over numCount\n",
    "print(sum / numCount)   "
   ]
  },
  {
   "cell_type": "markdown",
   "id": "e56dba88-28b3-48d2-a994-eeb63d1363a1",
   "metadata": {},
   "source": [
    "### Chapter 3.4: Functions"
   ]
  },
  {
   "cell_type": "markdown",
   "id": "e219a602-bee3-4faa-b89d-073c6783290a",
   "metadata": {},
   "source": [
    "**What is a Function?**\n",
    "\n",
    "**Function**: A segment of code that performs a specific task, sometimes taking some input and sometimes returning some output.\n",
    "\n",
    "**Function Call**: A place where a function is actually used in some code.\n",
    "\n",
    "**Function Definition**: A segment of code that creates a function, including its name, parameters, and code, to be used by other portions of a program.\n",
    "\n",
    "**Parameter**: A variable for which a function expects to receive a value when called, whose scope is the function’s own execution.\n",
    "\n",
    "**Function Header**: The name and list of parameters a function expects, provided as reference to the rest of the program to use when calling the function.\n",
    "\n",
    "**Function Body**: The code that a function runs when called.\n",
    "\n",
    "**Return Statement**: The line of code that defines what output will be sent back at the end of a function."
   ]
  },
  {
   "cell_type": "code",
   "execution_count": 17,
   "id": "d767f616-8b1c-4b6b-ac11-c5fdb5460246",
   "metadata": {},
   "outputs": [
    {
     "data": {
      "text/plain": [
       "3"
      ]
     },
     "execution_count": 17,
     "metadata": {},
     "output_type": "execute_result"
    }
   ],
   "source": [
    "# Creating a function to add two elements together\n",
    "def add(num1, num2):\n",
    "    sum = num1 + num2\n",
    "    return sum\n",
    "\n",
    "add(1, 2)"
   ]
  },
  {
   "cell_type": "code",
   "execution_count": 25,
   "id": "30a06249-9643-4805-8287-5c9b32139c1b",
   "metadata": {},
   "outputs": [
    {
     "data": {
      "text/plain": [
       "4.0"
      ]
     },
     "execution_count": 25,
     "metadata": {},
     "output_type": "execute_result"
    }
   ],
   "source": [
    "# Mystery function\n",
    "def mystery(num1, num2, num3):\n",
    "    value1 = num1 + num2 + num3\n",
    "    value2 = value1 / 3\n",
    "    return value2\n",
    "\n",
    "mystery(2, 4, 6)"
   ]
  },
  {
   "cell_type": "markdown",
   "id": "2834f4e5-8df5-480b-8b99-a8bedf6440b6",
   "metadata": {},
   "source": [
    "**The Office Analogy of a Function**\n",
    "\n",
    "\n",
    "- Your coworker is a **function**.\n",
    "- Their name is a **function name**.\n",
    "- The declaration by the company of what their job will be is the **function definition**.\n",
    "- The information you give them is the **input** to the function.\n",
    "- What they do on their own with that input is the **body** of the function.\n",
    "- The result they return to you is the **output** of the function."
   ]
  },
  {
   "cell_type": "code",
   "execution_count": 38,
   "id": "2b7e57a8-9242-41f7-83f8-ab9561c084e8",
   "metadata": {},
   "outputs": [
    {
     "ename": "NameError",
     "evalue": "name 'date' is not defined",
     "output_type": "error",
     "traceback": [
      "\u001b[0;31m---------------------------------------------------------------------------\u001b[0m",
      "\u001b[0;31mNameError\u001b[0m                                 Traceback (most recent call last)",
      "Cell \u001b[0;32mIn[38], line 4\u001b[0m\n\u001b[1;32m      1\u001b[0m \u001b[38;5;66;03m# Some functions to help us out:\u001b[39;00m\n\u001b[1;32m      2\u001b[0m \n\u001b[1;32m      3\u001b[0m \u001b[38;5;66;03m# Finding today's date\u001b[39;00m\n\u001b[0;32m----> 4\u001b[0m date\u001b[38;5;241m.\u001b[39mtoday()\n\u001b[1;32m      6\u001b[0m \u001b[38;5;66;03m# Length\u001b[39;00m\n\u001b[1;32m      7\u001b[0m x \u001b[38;5;241m=\u001b[39m \u001b[38;5;241m123\u001b[39m\n",
      "\u001b[0;31mNameError\u001b[0m: name 'date' is not defined"
     ]
    }
   ],
   "source": [
    "# Some functions to help us out:\n",
    "\n",
    "# Finding today's date\n",
    "date.today()\n",
    "\n",
    "# Length\n",
    "x = 123\n",
    "len(x)\n",
    "\n",
    "# String\n",
    "y = 456\n",
    "str(y)\n",
    "\n",
    "# Print\n",
    "z = 789\n",
    "print(z)\n",
    "\n",
    "# Integer\n",
    "a = x + y + z\n",
    "int(a)\n",
    "\n",
    "# Random Integer\n",
    "random.randint()"
   ]
  },
  {
   "cell_type": "code",
   "execution_count": 44,
   "id": "bfb0ea9b-c503-4b94-9008-40fc4743e49a",
   "metadata": {},
   "outputs": [
    {
     "name": "stdout",
     "output_type": "stream",
     "text": [
      "¥5\n"
     ]
    }
   ],
   "source": [
    "# The Function Definition\n",
    "\n",
    "# Defines the function \"printYen\"\n",
    "def printYen():\n",
    "    # Prints \"¥\" without the new line afterward\n",
    "    print(\"¥\", end='')\n",
    "    \n",
    "# Calls the function \"printYen\"\n",
    "printYen()\n",
    "print(5)\n",
    "\n",
    "# Note that the \"end=''\" at the end of the print statement tells Python not to move to the next line with the following print function\n",
    "# More simply: \"Followed by no line break\""
   ]
  },
  {
   "cell_type": "code",
   "execution_count": 46,
   "id": "faf65aa6-9276-4d09-8006-dfbfd37589d4",
   "metadata": {},
   "outputs": [
    {
     "name": "stdout",
     "output_type": "stream",
     "text": [
      "¥5\n"
     ]
    }
   ],
   "source": [
    "# Functions with Returns and Parameters in Python\n",
    "# Creating a function that simply created the Yen symbol\n",
    "def returnYen():\n",
    "    return \"¥\"\n",
    "\n",
    "print(returnYen(), end = \"\")\n",
    "print(5)"
   ]
  },
  {
   "cell_type": "markdown",
   "id": "55664e0b-7758-4f91-9ea8-14428a7182b7",
   "metadata": {},
   "source": [
    "Note that any word that returns in that \n",
    "\n",
    "<span style=\"color:darkgreen\">**darker green shade**</span>\n",
    "\n",
    "above is a reserved word in Python. We cannot use it in any other way than its original use."
   ]
  },
  {
   "cell_type": "code",
   "execution_count": 55,
   "id": "3e8e8fb5-aee2-4df3-a68f-66366d2b78ca",
   "metadata": {},
   "outputs": [
    {
     "name": "stdout",
     "output_type": "stream",
     "text": [
      "¥5\n"
     ]
    }
   ],
   "source": [
    "# Another way of doing things:\n",
    "def returnYen():\n",
    "    return \"¥\"\n",
    "print(returnYen(), 5, sep = \"\")"
   ]
  },
  {
   "cell_type": "code",
   "execution_count": 57,
   "id": "6efef96f-6910-4e99-bb9c-769fe9c7cdfd",
   "metadata": {},
   "outputs": [
    {
     "name": "stdout",
     "output_type": "stream",
     "text": [
      "¥5\n"
     ]
    }
   ],
   "source": [
    "# A Function with a Parameter\n",
    "def returnYenAmount(amount):\n",
    "    return \"¥\" + str(amount)\n",
    "\n",
    "print(returnYenAmount(5))"
   ]
  },
  {
   "cell_type": "code",
   "execution_count": 61,
   "id": "149b54ca-bd98-430b-8c71-efa3de2f1108",
   "metadata": {},
   "outputs": [
    {
     "name": "stdin",
     "output_type": "stream",
     "text": [
      "Enter the amount:  5\n"
     ]
    },
    {
     "name": "stdout",
     "output_type": "stream",
     "text": [
      "¥5\n"
     ]
    }
   ],
   "source": [
    "# With an Input\n",
    "def returnYenAmount(amount):\n",
    "    return \"¥\" + str(amount)\n",
    "\n",
    "inputAmount = int(input(\"Enter the amount: \"))\n",
    "print(returnYenAmount(inputAmount))"
   ]
  },
  {
   "cell_type": "code",
   "execution_count": 63,
   "id": "678b703c-cec7-44ca-9ee8-4ecf16304960",
   "metadata": {},
   "outputs": [
    {
     "name": "stdout",
     "output_type": "stream",
     "text": [
      "£5\n"
     ]
    }
   ],
   "source": [
    "# A function with multiple parameters\n",
    "\n",
    "#Defines the function \"currencyAmount\"\n",
    "def currencyAmount(currency, amount): \n",
    "    if currency == \"JPY\":\n",
    "        return \"¥\" + str(amount)\n",
    "    elif currency == \"USD\":\n",
    "        return \"$\" + str(amount)\n",
    "    elif currency == \"GBP\":\n",
    "        return \"£\" + str(amount)\n",
    "    else:\n",
    "        return str(amount)\n",
    "\n",
    "#Prints the output of currencyAmount(\"GBP\", 5)\n",
    "print(currencyAmount(\"GBP\", 5))  "
   ]
  },
  {
   "cell_type": "markdown",
   "id": "8998063f-882b-4ee1-9a15-0edfca750d39",
   "metadata": {},
   "source": [
    "**Interlude 3.4.1: Variables Outside of Functions**\n",
    "\n",
    "If your code seems to work fine when run but fails the autograder, try commenting out all the code except the function. If you're using a variable defined outside the function, the error the autograder reports will change."
   ]
  },
  {
   "cell_type": "markdown",
   "id": "3ed8885a-f62d-4ba3-9231-f6f5d1fb8bac",
   "metadata": {},
   "source": [
    "#### Interlude 3.4.2: Functions Returning None\n",
    "\n",
    "Recall all the way back in Chapter 2.2, we talked about the strange type NoneType, which can only have one value: None. You probably haven't seen None since then, but None comes up a lot with functions, it usually isn't what you're looking for. So, let's take a moment and chat about where it comes from and how to resolve it.\n",
    "\n",
    "**Where Does None Come From?**\n",
    "\n",
    "Although it can be confusing in practice, the principle of None and functions is relatively simple: if a function does not otherwise return anything, it returns None.\n",
    "\n",
    "**NOTE:**\n",
    "\n",
    "*In your mind, you can imagine adding return None as the last line in any function. If no other return statement has already been run, then return None is run and None is returned. Remember, though, running a return statement terminates the function: as soon as one runs, the entire function ends no matter what.*"
   ]
  },
  {
   "cell_type": "markdown",
   "id": "3209fbfe-0f26-4a83-81f1-135fb8cd8534",
   "metadata": {},
   "source": [
    "**Lesson 6: Advanced Python Functions**\n",
    "\n",
    "**Keyword Parameters**: A special kind of optional parameter to which the program may choose to assign an argument during a function call, or may ignore. Typically, keyword parameters have a default value that is used if it is not overridden by a function call."
   ]
  },
  {
   "cell_type": "code",
   "execution_count": 78,
   "id": "7fa44f28-b551-4b23-8abb-f58fe4a3d06d",
   "metadata": {},
   "outputs": [
    {
     "name": "stdout",
     "output_type": "stream",
     "text": [
      "A B C\n",
      "D E F\n"
     ]
    }
   ],
   "source": [
    "# Using Keyword Parameters\n",
    "print(\"A\", \"B\", \"C\")\n",
    "print(\"D\", \"E\", \"F\")\n",
    "\n",
    "# Python is assuming that we want a space between each element\n",
    "# Also assuming that we want a line break between the two print statements"
   ]
  },
  {
   "cell_type": "code",
   "execution_count": 80,
   "id": "b1761880-5a3d-4f87-ad77-452ce9f4c39e",
   "metadata": {},
   "outputs": [
    {
     "name": "stdout",
     "output_type": "stream",
     "text": [
      "ABCDEF"
     ]
    }
   ],
   "source": [
    "# Eliminating spaces and line breaks\n",
    "print(\"A\", \"B\", \"C\", sep = \"\", end = \"\")\n",
    "print(\"D\", \"E\", \"F\", sep = \"\", end = \"\")\n",
    "\n",
    "# These are keyword parameters"
   ]
  },
  {
   "cell_type": "code",
   "execution_count": 84,
   "id": "078b652e-3409-4898-a86e-2bc178de26a3",
   "metadata": {},
   "outputs": [
    {
     "name": "stdout",
     "output_type": "stream",
     "text": [
      "A#B#C?D%E%F!"
     ]
    }
   ],
   "source": [
    "# As a test we could also do the following:\n",
    "print(\"A\", \"B\", \"C\", sep = \"#\", end = \"?\")\n",
    "print(\"D\", \"E\", \"F\", sep = \"%\", end = \"!\")"
   ]
  },
  {
   "cell_type": "code",
   "execution_count": 127,
   "id": "ffc2bb60-14af-4d40-a4ea-92aec7f8aad8",
   "metadata": {},
   "outputs": [
    {
     "name": "stdout",
     "output_type": "stream",
     "text": [
      "Watch a movie!\n"
     ]
    }
   ],
   "source": [
    "# Problem Set 11\n",
    "def select_a_show(num):\n",
    "    if num <= 0:\n",
    "        return \"You're late!\"\n",
    "    elif num >= 1 and num <= 10:\n",
    "        return \"Leave now, be early!\"\n",
    "    elif num >= 11 and num <= 45:\n",
    "        return \"Watch a comedy!\"\n",
    "    elif num >= 46 and num <= 100:\n",
    "        return \"Watch a drama!\"\n",
    "    else:\n",
    "        return \"Watch a movie!\"\n",
    "        \n",
    "print(select_a_show(124))"
   ]
  },
  {
   "cell_type": "code",
   "execution_count": 131,
   "id": "ec516f56-62f4-4214-ba8c-e14d2a1bb632",
   "metadata": {},
   "outputs": [
    {
     "name": "stdout",
     "output_type": "stream",
     "text": [
      "Northwest\n"
     ]
    }
   ],
   "source": [
    "# Problem Set 12\n",
    "def semihemisphere(lng, lat):\n",
    "    if lng > 0 and lat < 0:\n",
    "        return \"Northwest\"\n",
    "    elif lng < 0 and lat > 0:\n",
    "        return \"Southeast\"\n",
    "    elif lng > 0 and lat > 0:\n",
    "        return \"Northeast\"\n",
    "    elif lng <0 and lat < 0:\n",
    "        return \"Southwest\"\n",
    "    else:\n",
    "        return \"Error\"\n",
    "print(semihemisphere(33.7, -84.4))"
   ]
  },
  {
   "cell_type": "code",
   "execution_count": 161,
   "id": "89058a80-e8d2-49a0-88a2-fb24191f4bca",
   "metadata": {},
   "outputs": [
    {
     "name": "stdout",
     "output_type": "stream",
     "text": [
      "1\n",
      "2\n",
      "3\n",
      "4\n",
      "Ready or not, here I come!\n"
     ]
    }
   ],
   "source": [
    "# Problem Set 13\n",
    "def hide_and_seek(num):\n",
    "    for i in range(1, num + 1):\n",
    "        print(i)\n",
    "        \n",
    "hide_and_seek(4)\n",
    "\n",
    "print(\"Ready or not, here I come!\")"
   ]
  },
  {
   "cell_type": "code",
   "execution_count": 177,
   "id": "93b02acc-2f73-4039-bda0-ad9ef2f9cf35",
   "metadata": {},
   "outputs": [
    {
     "name": "stdout",
     "output_type": "stream",
     "text": [
      "False\n",
      "True\n",
      "False\n",
      "True\n"
     ]
    }
   ],
   "source": [
    "# Problem Set 14\n",
    "def is_leap_year(year):\n",
    "    if year % 400 == 0:\n",
    "        return True\n",
    "    elif year % 100 == 0:\n",
    "        return False\n",
    "    elif year % 4 == 0:\n",
    "        return True\n",
    "    else:\n",
    "        return False\n",
    "    \n",
    "print(is_leap_year(100))\n",
    "print(is_leap_year(400))\n",
    "print(is_leap_year(401))\n",
    "print(is_leap_year(444))"
   ]
  },
  {
   "cell_type": "code",
   "execution_count": 181,
   "id": "579a7f3d-98b6-40c4-bc18-072e63603d9e",
   "metadata": {},
   "outputs": [
    {
     "name": "stdout",
     "output_type": "stream",
     "text": [
      "True\n",
      "True\n",
      "False\n",
      "False\n"
     ]
    }
   ],
   "source": [
    "# Problem Set 15\n",
    "def lucky_sevens(a_string):\n",
    "    count_sevens = 0\n",
    "\n",
    "    for char in a_string:\n",
    "        if char == '7':\n",
    "            count_sevens += 1\n",
    "\n",
    "    return count_sevens == 3\n",
    "\n",
    "# Examples\n",
    "print(lucky_sevens(\"happy777bday\"))  # True\n",
    "print(lucky_sevens(\"h7app7ybd7ay\"))  # True\n",
    "print(lucky_sevens(\"happy77bday\"))   # False\n",
    "print(lucky_sevens(\"h777appy777bday\"))  # False"
   ]
  },
  {
   "cell_type": "code",
   "execution_count": 207,
   "id": "2fe330ee-f2e6-4389-8b09-0ecefb677a21",
   "metadata": {},
   "outputs": [
    {
     "name": "stdout",
     "output_type": "stream",
     "text": [
      "Winter\n",
      "Spring\n",
      "Summer\n",
      "Fall\n"
     ]
    }
   ],
   "source": [
    "# Problem Set 19\n",
    "def what_season(month, day):\n",
    "    if month == \"January\":\n",
    "        return \"Winter\"\n",
    "    elif month == \"February\":\n",
    "        return \"Winter\"\n",
    "    elif month == \"March\" and day < 20:\n",
    "        return \"Winter\"\n",
    "    elif month == \"March\" and day >= 20:\n",
    "        return \"Spring\"\n",
    "    elif month == \"April\":\n",
    "        return \"Spring\"\n",
    "    elif month == \"May\":\n",
    "        return \"Spring\"\n",
    "    elif month == \"June\" and day < 21:\n",
    "        return \"Spring\"\n",
    "    elif month == \"June\" and day >= 21:\n",
    "        return \"Summer\"\n",
    "    elif month == \"July\":\n",
    "        return \"Summer\"\n",
    "    elif month == \"August\":\n",
    "        return \"Summer\"\n",
    "    elif month == \"September\" and day < 22:\n",
    "        return \"Summer\"\n",
    "    elif month == \"September\" and day >= 22:\n",
    "        return \"Fall\"\n",
    "    elif month == \"October\":\n",
    "        return \"Fall\"\n",
    "    elif month == \"November\":\n",
    "        return \"Fall\"\n",
    "    elif month == \"December\" and day < 21:\n",
    "        return \"Fall\"\n",
    "    elif month == \"December\" and day >= 21:\n",
    "        return \"Winter\"\n",
    "    \n",
    "print(what_season(\"December\", 25))\n",
    "print(what_season(\"June\", 15))\n",
    "print(what_season(\"June\", 23))\n",
    "print(what_season(\"September\", 27))"
   ]
  },
  {
   "cell_type": "markdown",
   "id": "8d78afc3-c4a9-4d52-ad3d-416ca9e49c8f",
   "metadata": {},
   "source": [
    "### Chapter 3.5: Exception Handling"
   ]
  },
  {
   "cell_type": "markdown",
   "id": "c555571f-c6d6-43dc-bf21-6bbb6271015d",
   "metadata": {},
   "source": [
    "Large programs like video games and operating systems often generate and catch dozens of errors per second. Most of these are unimportant unless we let them affect the user experience. Exception handling should be used to prevent users from being affected by as many errors as possible."
   ]
  },
  {
   "cell_type": "markdown",
   "id": "808834db-346c-47d9-a35b-bbbe831fbb5e",
   "metadata": {},
   "source": [
    "**Catching Errors**: Using error handling to prevent a program from crashing when an error is encountered.\n",
    "\n",
    "**Uncaught Error**: An error that is not handled by error handling code, and thus usually forces the program to crash."
   ]
  },
  {
   "cell_type": "markdown",
   "id": "18a67cde-6cca-483d-83f5-38f479f4aca3",
   "metadata": {},
   "source": [
    "The three main structures for exception handling in most languages are the **try**, **catch**, and **finally** statements:\n",
    "\n",
    "- The **Try** statement marks a block of code to attempt, but in which we anticipate an error might arise.\n",
    "\n",
    "- The **Catch** statement names the errors to anticipate, and marks a block of code to run if an anticipated error arises. (Python often refers to this as the **Except** block as well.)\n",
    "\n",
    "- The **Finally** statement marks a block of code to run after the above two blocks no matter what.\n",
    "\n",
    "In Python, there is also an **Else** block for exception handling: it runs some code only if no errors arose in the Try block."
   ]
  },
  {
   "cell_type": "markdown",
   "id": "7140c607-0722-4d93-946e-1a43ad1a1a0d",
   "metadata": {},
   "source": [
    "**The Try Block**\n",
    "\n",
    "\"The try block of the error handling control structure is the simple one. It marks off the code in which an error is anticipated to possibly arise.\"\n",
    "\n",
    "\"The computer will run the code inside the try block until an error arises. If an error arises, the code will then skip the rest of the code in the try block, and jump to the code in the next block--the catch block.\""
   ]
  },
  {
   "cell_type": "markdown",
   "id": "e80a26ef-6bad-4afe-81be-39aebddab58f",
   "metadata": {},
   "source": [
    "**The Catch Block**\n",
    "\n",
    "\"For example, we could design code that would catch a divide by zero error only, and would let any other errors through to crash the program.\"\n",
    "\n",
    "*KEEP IN MIND THAT THE CATCH BLOCK IS WRITTEN AS **EXCEPT** IN PYTHON*"
   ]
  },
  {
   "cell_type": "markdown",
   "id": "32d19390-bf7d-4ac0-b30d-0192c1aa4975",
   "metadata": {},
   "source": [
    "**The Finally Block**\n",
    "\n",
    "\"The finally block is typically used for code that absolutely needs to run, even if other things have gone wrong.\"\n",
    "\n",
    "\"For example, imagine some code to close an application. If there is code in the close function that raises an error, then in theory the application couldn't exit at all. We would want to enclose the close function in a try catch finally structure, and in the finally block, we would want to ensure that the application really does close.\""
   ]
  },
  {
   "cell_type": "markdown",
   "id": "b4c2255f-bb3e-48a6-b961-645af0c1ccc7",
   "metadata": {},
   "source": [
    "#### Try and Except, Part 1 of 2"
   ]
  },
  {
   "cell_type": "code",
   "execution_count": 225,
   "id": "d3bb5bce-43a6-415f-ba4a-79a842e841a1",
   "metadata": {},
   "outputs": [
    {
     "name": "stdout",
     "output_type": "stream",
     "text": [
      "Converting my_string to int...\n",
      "Can't convert; my_string not a number.\n",
      "Done!\n"
     ]
    }
   ],
   "source": [
    "# Try and Except\n",
    "my_string = \"This string is not a number!\"\n",
    "#Run the code below until an error occurs\n",
    "try:    \n",
    "    print(\"Converting my_string to int...\")\n",
    "    my_int = int(my_string)\n",
    "    print(my_int)\n",
    "#If an error occurs, jump to here\n",
    "except: \n",
    "    print(\"Can't convert; my_string not a number.\")\n",
    "print(\"Done!\")"
   ]
  },
  {
   "cell_type": "code",
   "execution_count": 228,
   "id": "2cc59342-64bd-49bd-b8ac-edc2802f4c82",
   "metadata": {},
   "outputs": [
    {
     "name": "stdout",
     "output_type": "stream",
     "text": [
      "Converting my_string to int...\n"
     ]
    },
    {
     "ename": "ValueError",
     "evalue": "invalid literal for int() with base 10: 'This string is not a number!'",
     "output_type": "error",
     "traceback": [
      "\u001b[0;31m---------------------------------------------------------------------------\u001b[0m",
      "\u001b[0;31mValueError\u001b[0m                                Traceback (most recent call last)",
      "Cell \u001b[0;32mIn[228], line 4\u001b[0m\n\u001b[1;32m      2\u001b[0m my_string \u001b[38;5;241m=\u001b[39m \u001b[38;5;124m\"\u001b[39m\u001b[38;5;124mThis string is not a number!\u001b[39m\u001b[38;5;124m\"\u001b[39m\n\u001b[1;32m      3\u001b[0m \u001b[38;5;28mprint\u001b[39m(\u001b[38;5;124m\"\u001b[39m\u001b[38;5;124mConverting my_string to int...\u001b[39m\u001b[38;5;124m\"\u001b[39m)\n\u001b[0;32m----> 4\u001b[0m my_int \u001b[38;5;241m=\u001b[39m \u001b[38;5;28mint\u001b[39m(my_string)\n\u001b[1;32m      5\u001b[0m \u001b[38;5;28mprint\u001b[39m(my_int)\n\u001b[1;32m      6\u001b[0m \u001b[38;5;28mprint\u001b[39m(\u001b[38;5;124m\"\u001b[39m\u001b[38;5;124mDone!\u001b[39m\u001b[38;5;124m\"\u001b[39m)\n",
      "\u001b[0;31mValueError\u001b[0m: invalid literal for int() with base 10: 'This string is not a number!'"
     ]
    }
   ],
   "source": [
    "# The Try Statement\n",
    "my_string = \"This string is not a number!\"\n",
    "print(\"Converting my_string to int...\")\n",
    "my_int = int(my_string)\n",
    "print(my_int)\n",
    "print(\"Done!\")\n",
    "\n",
    "# We can't convert strings to integers, so it isn't surprising that we encoutered an error\n",
    "# Since there is a print line \"Converting my_string to int...\" we know that everything above that line ran without error"
   ]
  },
  {
   "cell_type": "code",
   "execution_count": 230,
   "id": "d5e10509-ba73-49e3-9109-226579cb7b70",
   "metadata": {},
   "outputs": [
    {
     "name": "stdout",
     "output_type": "stream",
     "text": [
      "Converting my_string to int...\n",
      "Done!\n"
     ]
    }
   ],
   "source": [
    "# The Try Statement\n",
    "# Here we include the Try and the Catch for the sake of Exception Handling / Testing\n",
    "my_string = \"This string is not a number!\"\n",
    "#Run the code below until an error occurs\n",
    "try:    \n",
    "    print(\"Converting my_string to int...\")\n",
    "    my_int = int(my_string)\n",
    "    print(my_int)\n",
    "#If an error occurs, jump to here\n",
    "except: \n",
    "    pass\n",
    "print(\"Done!\")\n",
    "\n",
    "# Run the Try block, if an error is encountered don't crash altogether\n",
    "# Instead, stop running that particular block and run what comes next instead\n",
    "# We can see from the print(\"Done!\") that we had to move to the Catch/Except Block, AKA the Try Block did in fact fail"
   ]
  },
  {
   "cell_type": "code",
   "execution_count": 233,
   "id": "c69c0031-73e7-48ce-8d2f-28bdfd38cdf4",
   "metadata": {},
   "outputs": [
    {
     "name": "stdout",
     "output_type": "stream",
     "text": [
      "Converting my_string to int...\n",
      "Can't convert; my_string not a number.\n",
      "Done!\n"
     ]
    }
   ],
   "source": [
    "# Catching Any Error\n",
    "# Calling it the Except Block from now on instead of the Catch Block\n",
    "my_string = \"This string is not a number!\"\n",
    "#Run the code below until an error occurs\n",
    "try:    \n",
    "    print(\"Converting my_string to int...\")\n",
    "    my_int = int(my_string)\n",
    "    print(my_int)\n",
    "#If an error occurs, jump to here\n",
    "except: \n",
    "    print(\"Can't convert; my_string not a number.\")\n",
    "print(\"Done!\")\n",
    "\n",
    "# We put a really obvious print statement in the Except / Catch Block, now we are certain that the Try Block failed"
   ]
  },
  {
   "cell_type": "markdown",
   "id": "a952b2b8-9245-475e-88bd-90f2e4c2ef77",
   "metadata": {},
   "source": [
    "#### Try and Except, Part 2 of 2"
   ]
  },
  {
   "cell_type": "markdown",
   "id": "109d6f9c-6d37-43ad-8f95-bc77b0065a1f",
   "metadata": {},
   "source": [
    "The way this is written will catch any error, regardless of the type of error. We can specify the type of error we are trying to catch in the Except Block. If this specific type of error occurs in the Try Block the program will kick over to the Except Block instead.\n",
    "\n",
    "Example:"
   ]
  },
  {
   "cell_type": "code",
   "execution_count": 237,
   "id": "94a12971-9eff-45f2-b710-01a624b4a472",
   "metadata": {},
   "outputs": [
    {
     "name": "stdout",
     "output_type": "stream",
     "text": [
      "Converting my_string to int...\n"
     ]
    },
    {
     "ename": "TypeError",
     "evalue": "can only concatenate str (not \"int\") to str",
     "output_type": "error",
     "traceback": [
      "\u001b[0;31m---------------------------------------------------------------------------\u001b[0m",
      "\u001b[0;31mTypeError\u001b[0m                                 Traceback (most recent call last)",
      "Cell \u001b[0;32mIn[237], line 6\u001b[0m\n\u001b[1;32m      4\u001b[0m \u001b[38;5;28;01mtry\u001b[39;00m:    \n\u001b[1;32m      5\u001b[0m     \u001b[38;5;28mprint\u001b[39m(\u001b[38;5;124m\"\u001b[39m\u001b[38;5;124mConverting my_string to int...\u001b[39m\u001b[38;5;124m\"\u001b[39m)\n\u001b[0;32m----> 6\u001b[0m     \u001b[38;5;28mprint\u001b[39m(\u001b[38;5;124m\"\u001b[39m\u001b[38;5;124mString #\u001b[39m\u001b[38;5;124m\"\u001b[39m \u001b[38;5;241m+\u001b[39m \u001b[38;5;241m1\u001b[39m \u001b[38;5;241m+\u001b[39m \u001b[38;5;124m\"\u001b[39m\u001b[38;5;124m: \u001b[39m\u001b[38;5;124m\"\u001b[39m \u001b[38;5;241m+\u001b[39m my_string)\n\u001b[1;32m      7\u001b[0m     my_int \u001b[38;5;241m=\u001b[39m \u001b[38;5;28mint\u001b[39m(my_string)\n\u001b[1;32m      8\u001b[0m     \u001b[38;5;28mprint\u001b[39m(my_int)\n",
      "\u001b[0;31mTypeError\u001b[0m: can only concatenate str (not \"int\") to str"
     ]
    }
   ],
   "source": [
    "# Catching a Specific Error - 1\n",
    "my_string = \"This string is not a number!\"\n",
    "#Run the code below until an error occurs\n",
    "try:    \n",
    "    print(\"Converting my_string to int...\")\n",
    "    print(\"String #\" + 1 + \": \" + my_string)\n",
    "    my_int = int(my_string)\n",
    "    print(my_int)\n",
    "#If a ValueError occurs, jump to here\n",
    "except ValueError: \n",
    "    print(\"Can't convert; my_string not a number.\")\n",
    "print(\"Done!\")\n",
    "\n",
    "# This wasn't a value error, so it will continue to run the Try Block\n",
    "# In this case the Try Block is also going to produce an error as well"
   ]
  },
  {
   "cell_type": "code",
   "execution_count": 239,
   "id": "98c93e96-0d24-48fa-8061-a8538812c895",
   "metadata": {},
   "outputs": [
    {
     "name": "stdout",
     "output_type": "stream",
     "text": [
      "Converting my_string to int...\n",
      "Can't convert; my_string not a number.\n",
      "Done!\n"
     ]
    }
   ],
   "source": [
    "# Catching a Specific Error - 2\n",
    "my_string = \"This string is not a number!\"\n",
    "#Run the code below until an error occurs\n",
    "try:    \n",
    "    print(\"Converting my_string to int...\")\n",
    "    my_int = int(my_string)\n",
    "    print(my_int)\n",
    "#If a ValueError occurs, jump to here\n",
    "except ValueError: \n",
    "    print(\"Can't convert; my_string not a number.\")\n",
    "print(\"Done!\")"
   ]
  },
  {
   "cell_type": "code",
   "execution_count": 243,
   "id": "fde2dd82-d65c-4e9d-9b01-3c5d2b8a09a1",
   "metadata": {},
   "outputs": [
    {
     "name": "stdout",
     "output_type": "stream",
     "text": [
      "Converting my_string to int...\n",
      "invalid literal for int() with base 10: 'This string is not a number!'\n",
      "Done!\n"
     ]
    }
   ],
   "source": [
    "# Catching a Specific Error - 3\n",
    "my_string = \"This string is not a number!\"\n",
    "#Run the code below until an error occurs\n",
    "try:    \n",
    "    print(\"Converting my_string to int...\")\n",
    "    my_int = int(my_string)\n",
    "    print(my_int)\n",
    "#If a ValueError occurs, jump to here\n",
    "except ValueError as error: \n",
    "    print(error)\n",
    "print(\"Done!\")\n",
    "\n",
    "# We added the \"as error\" to the Except Block\n",
    "# Now we can see what the actual error is, very cool!"
   ]
  },
  {
   "cell_type": "code",
   "execution_count": 245,
   "id": "6d928f24-39fc-40cf-b302-a60211a5342b",
   "metadata": {},
   "outputs": [
    {
     "name": "stdout",
     "output_type": "stream",
     "text": [
      "Converting my_string to int...\n",
      "can only concatenate str (not \"int\") to str\n",
      "Done!\n"
     ]
    }
   ],
   "source": [
    "# Catching Multiple Specific Errors - 1\n",
    "my_string = \"This string is not a number!\"\n",
    "#Run the code below until an error occurs\n",
    "try:    \n",
    "    print(\"Converting my_string to int...\")\n",
    "    print(\"String #\" + 1 + \": \" + my_string)\n",
    "    my_int = int(my_string)\n",
    "    print(my_int)\n",
    "#If an error occurs, check if it's a ValueError\n",
    "except ValueError as error: \n",
    "    print(error)\n",
    "#If an error occurs, check if it's a TypeError\n",
    "except TypeError as error:  \n",
    "    print(error)\n",
    "print(\"Done!\")\n",
    "\n",
    "# We have two types of Except Blocks (to test for multiple types of errors)\n",
    "# This is a type error, and we will print the error as well."
   ]
  },
  {
   "cell_type": "code",
   "execution_count": 255,
   "id": "0e3a1742-f680-4b4e-bb0e-01807e29d80e",
   "metadata": {},
   "outputs": [
    {
     "name": "stdout",
     "output_type": "stream",
     "text": [
      "Converting my_string to int...\n"
     ]
    },
    {
     "ename": "ZeroDivisionError",
     "evalue": "division by zero",
     "output_type": "error",
     "traceback": [
      "\u001b[0;31m---------------------------------------------------------------------------\u001b[0m",
      "\u001b[0;31mZeroDivisionError\u001b[0m                         Traceback (most recent call last)",
      "Cell \u001b[0;32mIn[255], line 6\u001b[0m\n\u001b[1;32m      4\u001b[0m \u001b[38;5;28;01mtry\u001b[39;00m:    \n\u001b[1;32m      5\u001b[0m     \u001b[38;5;28mprint\u001b[39m(\u001b[38;5;124m\"\u001b[39m\u001b[38;5;124mConverting my_string to int...\u001b[39m\u001b[38;5;124m\"\u001b[39m)\n\u001b[0;32m----> 6\u001b[0m     \u001b[38;5;28mprint\u001b[39m(\u001b[38;5;241m1\u001b[39m \u001b[38;5;241m/\u001b[39m \u001b[38;5;241m0\u001b[39m)\n\u001b[1;32m      7\u001b[0m     \u001b[38;5;28mprint\u001b[39m(\u001b[38;5;124m\"\u001b[39m\u001b[38;5;124mString #\u001b[39m\u001b[38;5;124m\"\u001b[39m \u001b[38;5;241m+\u001b[39m \u001b[38;5;241m1\u001b[39m \u001b[38;5;241m+\u001b[39m \u001b[38;5;124m\"\u001b[39m\u001b[38;5;124m: \u001b[39m\u001b[38;5;124m\"\u001b[39m \u001b[38;5;241m+\u001b[39m my_string)\n\u001b[1;32m      8\u001b[0m     my_int \u001b[38;5;241m=\u001b[39m \u001b[38;5;28mint\u001b[39m(my_string)\n",
      "\u001b[0;31mZeroDivisionError\u001b[0m: division by zero"
     ]
    }
   ],
   "source": [
    "# Catching Multiple Specific Errors - 2\n",
    "my_string = \"This string is not a number!\"\n",
    "#Run the code below until an error occurs\n",
    "try:    \n",
    "    print(\"Converting my_string to int...\")\n",
    "    print(1 / 0)\n",
    "    print(\"String #\" + 1 + \": \" + my_string)\n",
    "    my_int = int(my_string)\n",
    "    print(my_int)\n",
    "#If an error occurs, check if it's a ValueError\n",
    "except ValueError as error: \n",
    "    print(error)\n",
    "#If an error occurs, check if it's a TypeError\n",
    "except TypeError as error:  \n",
    "    print(error)\n",
    "print(\"Done!\")\n",
    "\n",
    "# Neither Error Block is catching the ZeroDivision Error"
   ]
  },
  {
   "cell_type": "code",
   "execution_count": 257,
   "id": "20ca9d36-e7a6-4cec-8708-8c96da84031f",
   "metadata": {},
   "outputs": [
    {
     "name": "stdout",
     "output_type": "stream",
     "text": [
      "Converting my_string to int...\n",
      "can only concatenate str (not \"int\") to str\n",
      "Done!\n"
     ]
    }
   ],
   "source": [
    "# Catching Multiple Specific Errors - 3\n",
    "my_string = \"This string is not a number!\"\n",
    "#Run the code below until an error occurs\n",
    "try:    \n",
    "    print(\"Converting my_string to int...\")\n",
    "    print(\"String #\" + 1 + \": \" + my_string)\n",
    "    my_int = int(my_string)\n",
    "    print(my_int)\n",
    "    print(1 / 0)\n",
    "#If an error occurs, check if it's a ValueError\n",
    "except ValueError as error: \n",
    "    print(error)\n",
    "#If an error occurs, check if it's a TypeError\n",
    "except TypeError as error:  \n",
    "    print(error)\n",
    "print(\"Done!\")\n",
    "\n",
    "# Caught as a Type Error"
   ]
  },
  {
   "cell_type": "code",
   "execution_count": 259,
   "id": "5fd45f25-26ba-48fc-87be-11ee9ce76a26",
   "metadata": {},
   "outputs": [
    {
     "name": "stdout",
     "output_type": "stream",
     "text": [
      "Converting my_string to int...\n",
      "A ValueError or TypeError occurred.\n",
      "Done!\n"
     ]
    }
   ],
   "source": [
    "# Catching Multiple Specific Errors - 4\n",
    "my_string = \"This string is not a number!\"\n",
    "#Run the code below until an error occurs\n",
    "try:    \n",
    "    print(\"Converting my_string to int...\")\n",
    "    print(\"String #\" + 1 + \": \" + my_string)\n",
    "    my_int = int(my_string)\n",
    "    print(my_int)\n",
    "    print(1 / 0)\n",
    "#If an error occurs, check if it's a ValueError or #TypeError\n",
    "except (ValueError, TypeError) as error: \n",
    "    print(\"A ValueError or TypeError occurred.\")\n",
    "#Check if some other type of error occurred\n",
    "except Exception as error:  \n",
    "    print(\"Some other type of error occurred.\")\n",
    "print(\"Done!\")\n",
    "\n",
    "# Multiple types of errors in a single Error Block"
   ]
  },
  {
   "cell_type": "code",
   "execution_count": 265,
   "id": "66e1a44a-5752-4934-9151-5353d5db780b",
   "metadata": {},
   "outputs": [
    {
     "name": "stdout",
     "output_type": "stream",
     "text": [
      "Converting my_string to int...\n",
      "Some other type of error occurred.\n",
      "Done!\n"
     ]
    }
   ],
   "source": [
    "# Catching Multiple Specific Errors - 5\n",
    "my_string = \"This string is not a number!\"\n",
    "#Run the code below until an error occurs\n",
    "try:    \n",
    "    print(\"Converting my_string to int...\")\n",
    "    print(1 / 0)\n",
    "    print(\"String #\" + 1 + \": \" + my_string)\n",
    "    my_int = int(my_string)\n",
    "    print(my_int)\n",
    "#If an error occurs, check if it's a ValueError or \n",
    "#TypeError\n",
    "except (ValueError, TypeError) as error: \n",
    "    print(\"A ValueError or TypeError occurred.\")\n",
    "#Check if some other type of error occurred\n",
    "except Exception as error:  \n",
    "    print(\"Some other type of error occurred.\")\n",
    "print(\"Done!\")\n",
    "\n",
    "# The last Error Block here will catch all types of errors\n",
    "# We now know that this was a case with a different type of error\n",
    "\n",
    "# If we want to know what happened with the error we can check the following still:\n",
    "#print(error)"
   ]
  },
  {
   "cell_type": "markdown",
   "id": "b2297446-5c16-4b6c-a4de-499edb3f8b44",
   "metadata": {},
   "source": [
    "#### Else and Finally"
   ]
  },
  {
   "cell_type": "markdown",
   "id": "d64bf40e-9923-41d4-af03-35d104ed49e9",
   "metadata": {},
   "source": [
    "Most languages have a **Finally** statement, but **Else** (at least as it applies to error handling) is relatively unique to Python.\n",
    "\n",
    "The Finally Statement is going to run no matter what--whether or not an error occurred."
   ]
  },
  {
   "cell_type": "code",
   "execution_count": 2,
   "id": "8483723d-efb1-4271-8863-a08276b86313",
   "metadata": {},
   "outputs": [
    {
     "name": "stdout",
     "output_type": "stream",
     "text": [
      "An input error occurred!\n"
     ]
    }
   ],
   "source": [
    "# Else and File Input - 1\n",
    "try:\n",
    "    #Open InputFile.txt in read-only mode\n",
    "    input_file = open(\"InputFile.txt\", mode = \"r\")\n",
    "    #For each line in the file\n",
    "    for line in input_file:\n",
    "        #Print the line\n",
    "        print(line)\n",
    "    #Close the file\n",
    "    input_file.close()\n",
    "#Catch an IOError\n",
    "except IOError as error:\n",
    "    print(\"An input error occurred!\")\n",
    "    \n",
    "# IOError - Input Output Error\n",
    "# We're trying to catch whether or not there is an IOError"
   ]
  },
  {
   "cell_type": "code",
   "execution_count": 29,
   "id": "2018d203-fb6d-4fb0-bbae-8c1fe2095ba8",
   "metadata": {},
   "outputs": [
    {
     "name": "stdout",
     "output_type": "stream",
     "text": [
      "An input error occurred!\n"
     ]
    }
   ],
   "source": [
    "# Else and File Input - 2\n",
    "try:\n",
    "    #Open InputFile.txt in read-only mode\n",
    "    input_file = open(\"InputFile.txt\", mode = \"r\")  \n",
    "#Catch an IOError\n",
    "except IOError as error:    \n",
    "    print(\"An input error occurred!\")\n",
    "else:\n",
    "    #For each line in the file\n",
    "    for line in input_file:  \n",
    "        #Print the line\n",
    "        print(line) \n",
    "    #Close the file\n",
    "    input_file.close()   \n",
    "    \n",
    "# We're still testing for an IOError\n",
    "# Only runs the Else block if there is no error encountered inside of the Try block\n",
    "# \"The only thing inside the Try block is the code that can actually generate an error.\"\n",
    "# Since there is no \"FakeInputFile.txt\" (as you can probably gather from the name) we are expecting an input problem."
   ]
  },
  {
   "cell_type": "code",
   "execution_count": 6,
   "id": "39eed807-ccb2-40e4-8004-7b1ce57c1bb2",
   "metadata": {},
   "outputs": [
    {
     "name": "stdout",
     "output_type": "stream",
     "text": [
      "An input error occurred!\n"
     ]
    }
   ],
   "source": [
    "# Else and File Input - 3\n",
    "try:\n",
    "    #Open InputFile.txt in read-only mode\n",
    "    input_file = open(\"FakeInputFile.txt\", mode = \"r\")  \n",
    "#Catch an IOError\n",
    "except IOError as error:    \n",
    "    print(\"An input error occurred!\")\n",
    "else:\n",
    "    #For each line in the file\n",
    "    for line in input_file:  \n",
    "        #Print the line\n",
    "        print(line) \n",
    "    #Close the file\n",
    "    input_file.close() "
   ]
  },
  {
   "cell_type": "code",
   "execution_count": 27,
   "id": "b7bd5e98-5872-4242-9b88-78eef3e846b5",
   "metadata": {},
   "outputs": [
    {
     "name": "stdout",
     "output_type": "stream",
     "text": [
      "Converting my_string to int...\n",
      "1\n",
      "No errors occurred!\n",
      "Done!\n"
     ]
    }
   ],
   "source": [
    "# Else for Error Handling\n",
    "my_string = \"1\"\n",
    "#Run the code below until an error occurs\n",
    "try:    \n",
    "    print(\"Converting my_string to int...\")\n",
    "    my_int = int(my_string)\n",
    "    print(my_int)\n",
    "#If an error occurs, check if it's a ValueError or \n",
    "#TypeError\n",
    "except (ValueError, TypeError) as error: \n",
    "    print(\"A ValueError or TypeError occurred.\")\n",
    "#Check if some other type of error occurred\n",
    "except Exception as error:  \n",
    "    print(\"Some other type of error occurred.\")\n",
    "#If no errors occurred, then do the following\n",
    "else:   \n",
    "    print(\"No errors occurred!\")\n",
    "print(\"Done!\")\n",
    "\n",
    "# We can practically use these blocks of code as conditionals for catching errors."
   ]
  },
  {
   "cell_type": "code",
   "execution_count": 10,
   "id": "b5b3fc2a-588b-4423-b78f-180d069141ba",
   "metadata": {},
   "outputs": [
    {
     "ename": "FileNotFoundError",
     "evalue": "[Errno 2] No such file or directory: 'NumberFile.txt'",
     "output_type": "error",
     "traceback": [
      "\u001b[0;31m---------------------------------------------------------------------------\u001b[0m",
      "\u001b[0;31mFileNotFoundError\u001b[0m                         Traceback (most recent call last)",
      "Cell \u001b[0;32mIn[10], line 3\u001b[0m\n\u001b[1;32m      1\u001b[0m \u001b[38;5;66;03m# Finally\u001b[39;00m\n\u001b[1;32m      2\u001b[0m \u001b[38;5;66;03m#Open NumberFile.txt in read-only mode\u001b[39;00m\n\u001b[0;32m----> 3\u001b[0m input_file \u001b[38;5;241m=\u001b[39m \u001b[38;5;28mopen\u001b[39m(\u001b[38;5;124m\"\u001b[39m\u001b[38;5;124mNumberFile.txt\u001b[39m\u001b[38;5;124m\"\u001b[39m, mode \u001b[38;5;241m=\u001b[39m \u001b[38;5;124m\"\u001b[39m\u001b[38;5;124mr\u001b[39m\u001b[38;5;124m\"\u001b[39m)  \n\u001b[1;32m      4\u001b[0m \u001b[38;5;28;01mtry\u001b[39;00m:\n\u001b[1;32m      5\u001b[0m     \u001b[38;5;66;03m#For each line in the file\u001b[39;00m\n\u001b[1;32m      6\u001b[0m     \u001b[38;5;28;01mfor\u001b[39;00m line \u001b[38;5;129;01min\u001b[39;00m input_file:  \n\u001b[1;32m      7\u001b[0m         \u001b[38;5;66;03m#Print the line\u001b[39;00m\n",
      "File \u001b[0;32m/opt/conda/envs/anaconda-panel-2023.05-py310/lib/python3.11/site-packages/IPython/core/interactiveshell.py:286\u001b[0m, in \u001b[0;36m_modified_open\u001b[0;34m(file, *args, **kwargs)\u001b[0m\n\u001b[1;32m    279\u001b[0m \u001b[38;5;28;01mif\u001b[39;00m file \u001b[38;5;129;01min\u001b[39;00m {\u001b[38;5;241m0\u001b[39m, \u001b[38;5;241m1\u001b[39m, \u001b[38;5;241m2\u001b[39m}:\n\u001b[1;32m    280\u001b[0m     \u001b[38;5;28;01mraise\u001b[39;00m \u001b[38;5;167;01mValueError\u001b[39;00m(\n\u001b[1;32m    281\u001b[0m         \u001b[38;5;124mf\u001b[39m\u001b[38;5;124m\"\u001b[39m\u001b[38;5;124mIPython won\u001b[39m\u001b[38;5;124m'\u001b[39m\u001b[38;5;124mt let you open fd=\u001b[39m\u001b[38;5;132;01m{\u001b[39;00mfile\u001b[38;5;132;01m}\u001b[39;00m\u001b[38;5;124m by default \u001b[39m\u001b[38;5;124m\"\u001b[39m\n\u001b[1;32m    282\u001b[0m         \u001b[38;5;124m\"\u001b[39m\u001b[38;5;124mas it is likely to crash IPython. If you know what you are doing, \u001b[39m\u001b[38;5;124m\"\u001b[39m\n\u001b[1;32m    283\u001b[0m         \u001b[38;5;124m\"\u001b[39m\u001b[38;5;124myou can use builtins\u001b[39m\u001b[38;5;124m'\u001b[39m\u001b[38;5;124m open.\u001b[39m\u001b[38;5;124m\"\u001b[39m\n\u001b[1;32m    284\u001b[0m     )\n\u001b[0;32m--> 286\u001b[0m \u001b[38;5;28;01mreturn\u001b[39;00m io_open(file, \u001b[38;5;241m*\u001b[39margs, \u001b[38;5;241m*\u001b[39m\u001b[38;5;241m*\u001b[39mkwargs)\n",
      "\u001b[0;31mFileNotFoundError\u001b[0m: [Errno 2] No such file or directory: 'NumberFile.txt'"
     ]
    }
   ],
   "source": [
    "# Finally\n",
    "#Open NumberFile.txt in read-only mode\n",
    "input_file = open(\"NumberFile.txt\", mode = \"r\")  \n",
    "try:\n",
    "    #For each line in the file\n",
    "    for line in input_file:  \n",
    "        #Print the line\n",
    "        print(int(line)) \n",
    "#Catch an IOError\n",
    "except ValueError as error:    \n",
    "    print(\"A value error occurred!\")\n",
    "else:\n",
    "    print(\"No errors occurred!\")\n",
    "finally:\n",
    "    #Close the file\n",
    "    input_file.close() "
   ]
  },
  {
   "cell_type": "code",
   "execution_count": 12,
   "id": "1ad9d1f8-aec9-4769-ad99-0491b853aab2",
   "metadata": {},
   "outputs": [
    {
     "ename": "FileNotFoundError",
     "evalue": "[Errno 2] No such file or directory: 'NumberFile.txt'",
     "output_type": "error",
     "traceback": [
      "\u001b[0;31m---------------------------------------------------------------------------\u001b[0m",
      "\u001b[0;31mFileNotFoundError\u001b[0m                         Traceback (most recent call last)",
      "Cell \u001b[0;32mIn[12], line 3\u001b[0m\n\u001b[1;32m      1\u001b[0m \u001b[38;5;66;03m# Finally and Uncaught Errors - 1\u001b[39;00m\n\u001b[1;32m      2\u001b[0m \u001b[38;5;66;03m#Open NumberFile.txt in read-only mode\u001b[39;00m\n\u001b[0;32m----> 3\u001b[0m input_file \u001b[38;5;241m=\u001b[39m \u001b[38;5;28mopen\u001b[39m(\u001b[38;5;124m\"\u001b[39m\u001b[38;5;124mNumberFile.txt\u001b[39m\u001b[38;5;124m\"\u001b[39m, mode \u001b[38;5;241m=\u001b[39m \u001b[38;5;124m\"\u001b[39m\u001b[38;5;124mr\u001b[39m\u001b[38;5;124m\"\u001b[39m)  \n\u001b[1;32m      4\u001b[0m \u001b[38;5;28;01mtry\u001b[39;00m:\n\u001b[1;32m      5\u001b[0m     \u001b[38;5;66;03m#For each line in the file\u001b[39;00m\n\u001b[1;32m      6\u001b[0m     \u001b[38;5;28;01mfor\u001b[39;00m line \u001b[38;5;129;01min\u001b[39;00m input_file:  \n\u001b[1;32m      7\u001b[0m         \u001b[38;5;66;03m#Print the line\u001b[39;00m\n",
      "File \u001b[0;32m/opt/conda/envs/anaconda-panel-2023.05-py310/lib/python3.11/site-packages/IPython/core/interactiveshell.py:286\u001b[0m, in \u001b[0;36m_modified_open\u001b[0;34m(file, *args, **kwargs)\u001b[0m\n\u001b[1;32m    279\u001b[0m \u001b[38;5;28;01mif\u001b[39;00m file \u001b[38;5;129;01min\u001b[39;00m {\u001b[38;5;241m0\u001b[39m, \u001b[38;5;241m1\u001b[39m, \u001b[38;5;241m2\u001b[39m}:\n\u001b[1;32m    280\u001b[0m     \u001b[38;5;28;01mraise\u001b[39;00m \u001b[38;5;167;01mValueError\u001b[39;00m(\n\u001b[1;32m    281\u001b[0m         \u001b[38;5;124mf\u001b[39m\u001b[38;5;124m\"\u001b[39m\u001b[38;5;124mIPython won\u001b[39m\u001b[38;5;124m'\u001b[39m\u001b[38;5;124mt let you open fd=\u001b[39m\u001b[38;5;132;01m{\u001b[39;00mfile\u001b[38;5;132;01m}\u001b[39;00m\u001b[38;5;124m by default \u001b[39m\u001b[38;5;124m\"\u001b[39m\n\u001b[1;32m    282\u001b[0m         \u001b[38;5;124m\"\u001b[39m\u001b[38;5;124mas it is likely to crash IPython. If you know what you are doing, \u001b[39m\u001b[38;5;124m\"\u001b[39m\n\u001b[1;32m    283\u001b[0m         \u001b[38;5;124m\"\u001b[39m\u001b[38;5;124myou can use builtins\u001b[39m\u001b[38;5;124m'\u001b[39m\u001b[38;5;124m open.\u001b[39m\u001b[38;5;124m\"\u001b[39m\n\u001b[1;32m    284\u001b[0m     )\n\u001b[0;32m--> 286\u001b[0m \u001b[38;5;28;01mreturn\u001b[39;00m io_open(file, \u001b[38;5;241m*\u001b[39margs, \u001b[38;5;241m*\u001b[39m\u001b[38;5;241m*\u001b[39mkwargs)\n",
      "\u001b[0;31mFileNotFoundError\u001b[0m: [Errno 2] No such file or directory: 'NumberFile.txt'"
     ]
    }
   ],
   "source": [
    "# Finally and Uncaught Errors - 1\n",
    "#Open NumberFile.txt in read-only mode\n",
    "input_file = open(\"NumberFile.txt\", mode = \"r\")  \n",
    "try:\n",
    "    #For each line in the file\n",
    "    for line in input_file:  \n",
    "        #Print the line\n",
    "        print(int(line)) \n",
    "#Catch an IOError\n",
    "except ValueError as error:    \n",
    "    print(\"A value error occurred!\")\n",
    "else:\n",
    "    print(\"No errors occurred!\")\n",
    "#Close the file\n",
    "input_file.close()"
   ]
  },
  {
   "cell_type": "code",
   "execution_count": 14,
   "id": "41095325-7873-4b9d-b06b-23c025ea59c7",
   "metadata": {},
   "outputs": [
    {
     "name": "stdout",
     "output_type": "stream",
     "text": [
      "Converting my_string to int...\n",
      "An unknown error occurred!\n"
     ]
    },
    {
     "ename": "ZeroDivisionError",
     "evalue": "division by zero",
     "output_type": "error",
     "traceback": [
      "\u001b[0;31m---------------------------------------------------------------------------\u001b[0m",
      "\u001b[0;31mZeroDivisionError\u001b[0m                         Traceback (most recent call last)",
      "Cell \u001b[0;32mIn[14], line 6\u001b[0m\n\u001b[1;32m      4\u001b[0m \u001b[38;5;28;01mtry\u001b[39;00m:    \n\u001b[1;32m      5\u001b[0m     \u001b[38;5;28mprint\u001b[39m(\u001b[38;5;124m\"\u001b[39m\u001b[38;5;124mConverting my_string to int...\u001b[39m\u001b[38;5;124m\"\u001b[39m)\n\u001b[0;32m----> 6\u001b[0m     \u001b[38;5;28mprint\u001b[39m(\u001b[38;5;241m1\u001b[39m \u001b[38;5;241m/\u001b[39m \u001b[38;5;241m0\u001b[39m)\n\u001b[1;32m      7\u001b[0m     \u001b[38;5;28mprint\u001b[39m(\u001b[38;5;124m\"\u001b[39m\u001b[38;5;124mString #\u001b[39m\u001b[38;5;124m\"\u001b[39m \u001b[38;5;241m+\u001b[39m \u001b[38;5;241m1\u001b[39m \u001b[38;5;241m+\u001b[39m \u001b[38;5;124m\"\u001b[39m\u001b[38;5;124m: \u001b[39m\u001b[38;5;124m\"\u001b[39m \u001b[38;5;241m+\u001b[39m my_string)\n\u001b[1;32m      8\u001b[0m     my_int \u001b[38;5;241m=\u001b[39m \u001b[38;5;28mint\u001b[39m(my_string)\n",
      "\u001b[0;31mZeroDivisionError\u001b[0m: division by zero"
     ]
    }
   ],
   "source": [
    "# Finally and Uncaught Errors - 2\n",
    "my_string = \"This string is not a number!\"\n",
    "#Run the code below until an error occurs\n",
    "try:    \n",
    "    print(\"Converting my_string to int...\")\n",
    "    print(1 / 0)\n",
    "    print(\"String #\" + 1 + \": \" + my_string)\n",
    "    my_int = int(my_string)\n",
    "    print(my_int)\n",
    "#If an error occurs, check if it's a ValueError\n",
    "except ValueError as error: \n",
    "    print(error)\n",
    "#If an error occurs, check if it's a TypeError\n",
    "except TypeError as error:  \n",
    "    print(error)\n",
    "finally:\n",
    "    print(\"An unknown error occurred!\")\n",
    "print(\"Done!\")"
   ]
  },
  {
   "cell_type": "code",
   "execution_count": 16,
   "id": "79a5f83c-ebb7-4f8e-bf6a-3cf4be8acabc",
   "metadata": {},
   "outputs": [
    {
     "name": "stdout",
     "output_type": "stream",
     "text": [
      "An error occurred reading the file!\n"
     ]
    }
   ],
   "source": [
    "# Nested Try Catch Else Finally - 1\n",
    "try:\n",
    "    #Open NumberFile.txt in read-only mode\n",
    "    input_file = open(\"NumberFile.txt\", mode = \"r\")  \n",
    "    try:\n",
    "        #For each line in the file\n",
    "        for line in input_file:  \n",
    "            #Print the line\n",
    "            print(int(line)) \n",
    "    #Catch a ValueError\n",
    "    except ValueError as error:    \n",
    "        print(\"A value error occurred!\")\n",
    "    else:\n",
    "        print(\"No errors occurred converting the file!\")\n",
    "    finally:\n",
    "        #Close the file\n",
    "        input_file.close()  \n",
    "#Catch an IOError\n",
    "except IOError as error:\n",
    "    print(\"An error occurred reading the file!\")"
   ]
  },
  {
   "cell_type": "code",
   "execution_count": 22,
   "id": "11b61264-056d-4dfd-b3f3-d459aad2e838",
   "metadata": {},
   "outputs": [
    {
     "name": "stdout",
     "output_type": "stream",
     "text": [
      "An error occurred reading the file!\n"
     ]
    }
   ],
   "source": [
    "# Nested Try Catch Else Finally - 2\n",
    "try:\n",
    "    #Open InputFile.txt in read-only mode\n",
    "    input_file = open(\"InputFile.txt\", mode = \"r\")  \n",
    "    try:\n",
    "        #For each line in the file\n",
    "        for line in input_file:  \n",
    "            #Print the line\n",
    "            print(int(line)) \n",
    "    #Catch a ValueError\n",
    "    except ValueError as error:    \n",
    "        print(\"A value error occurred!\")\n",
    "    else:\n",
    "        print(\"No errors occurred converting the file!\")\n",
    "    finally:\n",
    "        #Close the file\n",
    "        input_file.close()  \n",
    "#Catch an IOError\n",
    "except IOError as error:\n",
    "    print(\"An error occurred reading the file!\")"
   ]
  },
  {
   "cell_type": "code",
   "execution_count": 31,
   "id": "ca2ad85a-2e1e-4f22-bcd1-e3cf3e485e10",
   "metadata": {},
   "outputs": [
    {
     "name": "stdout",
     "output_type": "stream",
     "text": [
      "An error occurred reading the file!\n"
     ]
    }
   ],
   "source": [
    "# Nested Try Catch Else Finally - 3\n",
    "try:\n",
    "    #Open InputFile.txt in read-only mode\n",
    "    input_file = open(\"FakeFile.txt\", mode = \"r\")  \n",
    "    try:\n",
    "        #For each line in the file\n",
    "        for line in input_file:  \n",
    "            #Print the line\n",
    "            print(int(line)) \n",
    "    #Catch a ValueError\n",
    "    except ValueError as error:    \n",
    "        print(\"A value error occurred!\")\n",
    "    else:\n",
    "        print(\"No errors occurred converting the file!\")\n",
    "    finally:\n",
    "        #Close the file\n",
    "        input_file.close()\n",
    "#Catch an IOError\n",
    "except IOError as error:\n",
    "    print(\"An error occurred reading the file!\")"
   ]
  },
  {
   "cell_type": "markdown",
   "id": "ced9d60f-ba83-4791-bafc-5a2539cfca1d",
   "metadata": {},
   "source": [
    "#### Early Function Terminations\n",
    "\n",
    "This interlude covers a simple idea with significant implications. The major idea is: **when a function runs a line with a return statement, it *immediately* ends the function and sends the result back.**"
   ]
  },
  {
   "cell_type": "markdown",
   "id": "c9096aa5-a5d7-418f-ac79-fa1d841fbe36",
   "metadata": {},
   "source": [
    "**Different Types of Errors**\n",
    "\n",
    "ValueError, IOError, TypeError, NameError, ZeroDivisionError, AttributeError\n",
    "\n",
    "They're all pretty easy to understand based on their names."
   ]
  }
 ],
 "metadata": {
  "kernelspec": {
   "display_name": "anaconda-panel-2023.05-py310",
   "language": "python",
   "name": "conda-env-anaconda-panel-2023.05-py310-py"
  },
  "language_info": {
   "codemirror_mode": {
    "name": "ipython",
    "version": 3
   },
   "file_extension": ".py",
   "mimetype": "text/x-python",
   "name": "python",
   "nbconvert_exporter": "python",
   "pygments_lexer": "ipython3",
   "version": "3.11.5"
  }
 },
 "nbformat": 4,
 "nbformat_minor": 5
}
