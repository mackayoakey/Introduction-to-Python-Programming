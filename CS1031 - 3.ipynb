{
 "cells": [
  {
   "cell_type": "markdown",
   "id": "e450c8b5-0207-4116-a896-e3f2aec8c909",
   "metadata": {},
   "source": [
    "# Computing in Python III: Data Structures\n",
    "This is meant to be a cheat sheet for everything I learn in this section of the CS1301 course"
   ]
  },
  {
   "cell_type": "markdown",
   "id": "bcca3a46-b639-49cb-9a85-3a33f14185af",
   "metadata": {},
   "source": [
    "### Chapter 4.1: Data Structures"
   ]
  },
  {
   "cell_type": "markdown",
   "id": "9c6ffd22-8550-4226-b3b9-349abe4c28c8",
   "metadata": {},
   "source": [
    "- List structures let you add more values to it as time goes on, so if more students join the roster you are easily able to add them to the list."
   ]
  },
  {
   "cell_type": "markdown",
   "id": "1d1f684d-b52e-4cfb-9a1a-409523416968",
   "metadata": {},
   "source": [
    "**String**: A data structure that holds a list, or a string, of characters.\n",
    "\n",
    "**Lists**: A data structure that holds multiple individual values gathered together under one variable name, accessed via indices. Similar to arrays and tuples.\n",
    "\n",
    "**File Input and Output**: The complementary processes of saving data to a file and loading data from a file, generally such that the state of the memory of the program is the same after saving and loading have occurred.\n",
    "\n",
    "**Dictionaries**: A data structure comprised of key-value pairs, where a key is entered into the dictionary to get out a value. Similar to or synonymous with Maps, Associative Arrays, HashMaps, and Hashtables."
   ]
  },
  {
   "cell_type": "markdown",
   "id": "439ed5a5-c38d-4e73-8333-4d89a761461d",
   "metadata": {},
   "source": [
    "**Passing by Value**: (5, 2) This lets the computer know the values we are working with, and the computer would already know that any values it receives are in reference to (A, B)\n",
    "\n",
    "**Passing by Reference**: This is where we tell the computer the values and the variables, for example: (A = 5, B = 2)"
   ]
  },
  {
   "cell_type": "code",
   "execution_count": 16,
   "id": "a4fc7bc1-1c3c-488c-8c51-9b070e6c169c",
   "metadata": {},
   "outputs": [
    {
     "name": "stdout",
     "output_type": "stream",
     "text": [
      "True\n",
      "bool2 will take the value when assigned, not take whatever bool2 equals at the end of this code block\n"
     ]
    }
   ],
   "source": [
    "# Values of variables at certain points of the code block\n",
    "bool1 = True\n",
    "bool2 = bool1\n",
    "bool1 = False\n",
    "print(bool2)\n",
    "print(\"bool2 will take the value when assigned, not take whatever bool2 equals at the end of this code block\")"
   ]
  },
  {
   "cell_type": "code",
   "execution_count": 22,
   "id": "35f72dc5-252f-4435-b23f-f0e09bacdf1c",
   "metadata": {},
   "outputs": [
    {
     "name": "stdout",
     "output_type": "stream",
     "text": [
      "[1, 2, 3]\n",
      "[1, 2, 3, 4]\n",
      "do you see what happened there?\n"
     ]
    }
   ],
   "source": [
    "# Using append to update a list\n",
    "list1 = [1, 2, 3]\n",
    "list2 = list1\n",
    "print(list2)\n",
    "list1.append(4)\n",
    "print(list2)\n",
    "print(\"do you see what happened there?\")"
   ]
  },
  {
   "cell_type": "markdown",
   "id": "4bc2312e-9089-4a89-8f75-272a4b03a8ef",
   "metadata": {},
   "source": [
    "**Mutability**: Whether or not a variable can have its value changed after being declared.\n",
    "\n",
    "**Mutable Variable**: A variable whose value can change after it has been declared.\n",
    "\n",
    "**Immutable Variable**: A variable whose value cannot change after it has been declared."
   ]
  },
  {
   "cell_type": "code",
   "execution_count": 26,
   "id": "d5c73c7c-9799-4f62-a80e-42368f306f90",
   "metadata": {},
   "outputs": [
    {
     "name": "stdout",
     "output_type": "stream",
     "text": [
      "8885448\n",
      "8885544\n",
      "8885512\n",
      "8885448\n"
     ]
    }
   ],
   "source": [
    "# Python has a unique id for every specified object\n",
    "my_int = 5\n",
    "print(id(my_int))\n",
    "my_int += 3\n",
    "print(id(my_int))\n",
    "my_int = 7\n",
    "print(id(my_int))\n",
    "my_int = 5\n",
    "print(id(my_int))"
   ]
  },
  {
   "cell_type": "markdown",
   "id": "ee60b6d7-902c-4bba-b01e-18ddfa1b9f7d",
   "metadata": {},
   "source": [
    "#### Methods\n",
    "A function inside of the data stucture"
   ]
  },
  {
   "cell_type": "code",
   "execution_count": 37,
   "id": "a84f53cd-d552-4ee6-a9ef-14d839245db6",
   "metadata": {},
   "outputs": [
    {
     "name": "stdout",
     "output_type": "stream",
     "text": [
      "True\n",
      "False\n"
     ]
    }
   ],
   "source": [
    "myString = \"123\"\n",
    "print(myString.isdigit())\n",
    "myString2 = \"ABC\"\n",
    "print(myString2.isdigit())"
   ]
  },
  {
   "cell_type": "code",
   "execution_count": 45,
   "id": "8e508876-3196-4f37-8292-a1bd4a20e635",
   "metadata": {},
   "outputs": [
    {
     "data": {
      "text/plain": [
       "True"
      ]
     },
     "execution_count": 45,
     "metadata": {},
     "output_type": "execute_result"
    }
   ],
   "source": [
    "# Other examples\n",
    "b = \"abc\"\n",
    "b.startswith(\"a\")"
   ]
  },
  {
   "cell_type": "markdown",
   "id": "ed5cb825-de5f-4e20-a495-150182c78534",
   "metadata": {},
   "source": [
    "### Chapter 4.2: Strings"
   ]
  },
  {
   "cell_type": "markdown",
   "id": "5016727e-6417-4f4d-89be-972e622ba791",
   "metadata": {},
   "source": [
    "All characters have a unicode version, including Greek letters, Russian letters, emojis, English letters, etc."
   ]
  },
  {
   "cell_type": "code",
   "execution_count": 56,
   "id": "029f63f7-ff21-43ea-8abf-2551ca4fbbf0",
   "metadata": {},
   "outputs": [
    {
     "name": "stdout",
     "output_type": "stream",
     "text": [
      "12345\n",
      "67890\n"
     ]
    }
   ],
   "source": [
    "# Printing on multiple lines\n",
    "myString = \"12345\\n67890\"\n",
    "print(myString)"
   ]
  },
  {
   "cell_type": "code",
   "execution_count": 58,
   "id": "c33ea2c9-7400-4c04-b158-ef3a26f8adb2",
   "metadata": {},
   "outputs": [
    {
     "name": "stdout",
     "output_type": "stream",
     "text": [
      "12345\n",
      "67890\tabcde\"fghijklm\\no\n"
     ]
    }
   ],
   "source": [
    "# Now what if we want a \\ to be in our string?\n",
    "myString = \"12345\\n67890\\tabcde\\\"fghijklm\\\\no\"\n",
    "print(myString)"
   ]
  },
  {
   "cell_type": "code",
   "execution_count": 62,
   "id": "6bbd3335-a394-42a6-aec9-a9a13b7951ad",
   "metadata": {},
   "outputs": [
    {
     "name": "stdout",
     "output_type": "stream",
     "text": [
      "12345\n",
      "67890\n"
     ]
    }
   ],
   "source": [
    "# Triple apostrophes\n",
    "myString = '''12345\n",
    "67890'''\n",
    "print(myString)"
   ]
  },
  {
   "cell_type": "code",
   "execution_count": 68,
   "id": "77ef0e52-831b-4160-9c27-8737b124aa62",
   "metadata": {},
   "outputs": [
    {
     "name": "stdout",
     "output_type": "stream",
     "text": [
      "1234567890\n"
     ]
    }
   ],
   "source": [
    "# Concatenating and Slicing in Python\n",
    "myString1 = \"12345\"\n",
    "myString2 = \"67890\"\n",
    "myString3 = myString1 + myString2\n",
    "print(myString3)"
   ]
  },
  {
   "cell_type": "code",
   "execution_count": 70,
   "id": "e824ae4c-e809-47a3-aca9-2ebbb1d3fdc1",
   "metadata": {},
   "outputs": [
    {
     "name": "stdout",
     "output_type": "stream",
     "text": [
      "Hello\n",
      "Hello!\n",
      "!Hello!\n",
      "?!Hello!?\n",
      "?!Hello!??!Hello!?\n"
     ]
    }
   ],
   "source": [
    "# Concatenating\n",
    "# Example\n",
    "my_string = \"Hello\"\n",
    "print(my_string)\n",
    "my_string += \"!\"\n",
    "print(my_string)\n",
    "my_string = \"!\" + my_string\n",
    "print(my_string)\n",
    "my_string = \"?\" + my_string + \"?\"\n",
    "print(my_string)\n",
    "my_string += my_string\n",
    "print(my_string)"
   ]
  },
  {
   "cell_type": "code",
   "execution_count": 74,
   "id": "44d63b3e-f75f-42d7-8984-1814b82dd72a",
   "metadata": {},
   "outputs": [
    {
     "name": "stdout",
     "output_type": "stream",
     "text": [
      "This is my string:\n",
      "ABCDE\n",
      "This will print the first digit, base zero:\n",
      "A\n",
      "I chose digit 4, which should give us the 5th digit:\n",
      "E\n"
     ]
    }
   ],
   "source": [
    "# Slicing in Python\n",
    "# You use brackets to find the specified digit in a string, base zero system.\n",
    "myString = \"ABCDE\"\n",
    "print(\"This is my string:\")\n",
    "print(myString)\n",
    "print(\"This will print the first digit, base zero:\")\n",
    "print(myString[0])\n",
    "print(\"I chose digit 4, which should give us the 5th digit:\")\n",
    "print(myString[4])"
   ]
  },
  {
   "cell_type": "code",
   "execution_count": 80,
   "id": "4415fa5c-b38f-4199-b756-e9464982e2c0",
   "metadata": {},
   "outputs": [
    {
     "name": "stdout",
     "output_type": "stream",
     "text": [
      "a\n"
     ]
    }
   ],
   "source": [
    "my_string = \"You-are-a-strange-loop\"\n",
    "print(my_string[13])"
   ]
  },
  {
   "cell_type": "code",
   "execution_count": 82,
   "id": "e45053a6-b58a-4143-a6d0-26d84aa792d2",
   "metadata": {},
   "outputs": [
    {
     "name": "stdout",
     "output_type": "stream",
     "text": [
      "mySubstring: ABCDE\n"
     ]
    }
   ],
   "source": [
    "# You can use For Loops to grab certain parts of a string\n",
    "myString = \"ABCDE\"\n",
    "mySubstring = \"\"\n",
    "for character in myString:\n",
    "    mySubstring += character\n",
    "print(\"mySubstring: \" + mySubstring)"
   ]
  },
  {
   "cell_type": "code",
   "execution_count": 1,
   "id": "a2b10249-d215-4926-bd49-8b5dddf38a96",
   "metadata": {},
   "outputs": [
    {
     "name": "stdout",
     "output_type": "stream",
     "text": [
      "First three characters: ABC\n"
     ]
    }
   ],
   "source": [
    "# Use a FOR Loop to grab a set of characters from a string\n",
    "myString = \"ABCDE\"\n",
    "mySubstring = \"\"\n",
    "# Run a loop from i = 0 to i = 2\n",
    "for i in range(0, 3):\n",
    "    # Add character i to mySubstring\n",
    "    mySubstring += myString[i]\n",
    "print(\"First three characters: \" + mySubstring)"
   ]
  },
  {
   "cell_type": "code",
   "execution_count": 11,
   "id": "8166d5be-ce42-446f-8828-5b416b732024",
   "metadata": {},
   "outputs": [
    {
     "name": "stdout",
     "output_type": "stream",
     "text": [
      "Printing 4:7\n",
      "are\n",
      "Printing 1:6\n",
      "ou-ar\n",
      "Printing 20:25\n",
      "op\n",
      "Printing 26:30\n",
      "\n",
      "Printing 17:\n",
      "-loop\n",
      "Printing :7\n",
      "You-are\n"
     ]
    }
   ],
   "source": [
    "my_string = \"You-are-a-strange-loop\"\n",
    "print(\"Printing 4:7\")\n",
    "print(my_string[4:7])\n",
    "\n",
    "print(\"Printing 1:6\")\n",
    "print(my_string[1:6])\n",
    "\n",
    "print(\"Printing 20:25\")\n",
    "print(my_string[20:25])\n",
    "\n",
    "print(\"Printing 26:30\")\n",
    "print(my_string[26:30])\n",
    "\n",
    "print(\"Printing 17:\")\n",
    "print(my_string[17:])\n",
    "\n",
    "print(\"Printing :7\")\n",
    "print(my_string[:7])"
   ]
  },
  {
   "cell_type": "code",
   "execution_count": 21,
   "id": "65de5a9a-7d52-4e19-a406-7a55d6550ea3",
   "metadata": {},
   "outputs": [
    {
     "name": "stdout",
     "output_type": "stream",
     "text": [
      "Last two characters: ABC\n"
     ]
    }
   ],
   "source": [
    "# Negative indices\n",
    "myString = \"ABCDE\"\n",
    "print(\"Last two characters: \" + \\\n",
    "      myString[:-2])"
   ]
  },
  {
   "cell_type": "code",
   "execution_count": 33,
   "id": "264f59e8-d387-4580-a955-40bd6b8fc664",
   "metadata": {},
   "outputs": [
    {
     "data": {
      "text/plain": [
       "''"
      ]
     },
     "execution_count": 33,
     "metadata": {},
     "output_type": "execute_result"
    }
   ],
   "source": [
    "myString = \"You-are-a-strange-loop\"\n",
    "myString[-5:15]"
   ]
  },
  {
   "cell_type": "code",
   "execution_count": 43,
   "id": "1d52d409-ab26-4d20-808b-3fbe3428b4ed",
   "metadata": {},
   "outputs": [
    {
     "name": "stdout",
     "output_type": "stream",
     "text": [
      "True\n",
      "False\n",
      "True\n"
     ]
    }
   ],
   "source": [
    "# String searching in Python\n",
    "a = \"Hello, world\"\n",
    "b = \"Hello, world\"\n",
    "c = \"Hello, \"\n",
    "d = \"world\"\n",
    "print(a == b)\n",
    "print(a == c)\n",
    "print(a == c + d)"
   ]
  },
  {
   "cell_type": "code",
   "execution_count": 45,
   "id": "819872b6-dee5-4052-ac2d-66ebaab52095",
   "metadata": {},
   "outputs": [
    {
     "name": "stdout",
     "output_type": "stream",
     "text": [
      "BC was found!\n",
      "GH was not found!\n"
     ]
    }
   ],
   "source": [
    "# Searching strings\n",
    "myString = \"ABCDE\"\n",
    "\n",
    "if \"BC\" in myString:\n",
    "    print(\"BC was found!\")\n",
    "else:\n",
    "    print(\"BC was not found!\")\n",
    "if \"GH\" in myString:\n",
    "    print(\"GH was found!\")\n",
    "else:\n",
    "    print(\"GH was not found!\")"
   ]
  },
  {
   "cell_type": "code",
   "execution_count": 49,
   "id": "2d857b45-2da3-4024-a0e7-ed42c907b717",
   "metadata": {},
   "outputs": [
    {
     "name": "stdout",
     "output_type": "stream",
     "text": [
      "0\n"
     ]
    }
   ],
   "source": [
    "# Find where a string is in our string\n",
    "myString = \"ABCDE\"\n",
    "\n",
    "print(myString.find(\"ABC\"))"
   ]
  },
  {
   "cell_type": "code",
   "execution_count": 51,
   "id": "3b9feb72-a796-4d0e-a994-20c8f96be1c7",
   "metadata": {},
   "outputs": [
    {
     "name": "stdout",
     "output_type": "stream",
     "text": [
      "2\n",
      "7\n",
      "7\n"
     ]
    }
   ],
   "source": [
    "# Parameters of the Find Method\n",
    "myString = \"ABCDEABCDEABCDE\"\n",
    "\n",
    "# Prints the first index of \"CDE\" in myString\n",
    "print(myString.find(\"CDE\"))\n",
    "# Prints the first index od \"CDE\" in myString after 5\n",
    "print(myString.find(\"CDE\", 5))\n",
    "# Prints the first index od \"CDE\" in myString between 4 and 10\n",
    "print(myString.find(\"CDE\", 4, 10))"
   ]
  },
  {
   "cell_type": "code",
   "execution_count": 77,
   "id": "b1bf9ee6-d688-4aba-87c5-958766672161",
   "metadata": {},
   "outputs": [
    {
     "data": {
      "text/plain": [
       "9"
      ]
     },
     "execution_count": 77,
     "metadata": {},
     "output_type": "execute_result"
    }
   ],
   "source": [
    "# Testing\n",
    "my_string = \"I like shorts!\"\n",
    "\n",
    "#1\n",
    "my_string.find(\"I\")\n",
    "\n",
    "#2\n",
    "my_search_character = \"!\"\n",
    "my_string.find(my_search_character)\n",
    "\n",
    "#3\n",
    "my_string.find(\"o\")\n",
    "\n",
    "#4\n",
    "my_string.find(\"s\")\n",
    "\n",
    "#5\n",
    "my_string.find(\"s\", 9)\n",
    "\n",
    "#6\n",
    "my_string.find(\"s\", 9, 11)\n",
    "\n",
    "#7\n",
    "#my_string.find(\"s\", end = 5)\n",
    "\n",
    "#8\n",
    "my_string.find(\"s\", 0 ,5)"
   ]
  },
  {
   "cell_type": "code",
   "execution_count": 83,
   "id": "d2c1be40-ce78-4773-9fd1-753a3c61e99f",
   "metadata": {},
   "outputs": [
    {
     "name": "stdout",
     "output_type": "stream",
     "text": [
      "CS1301\n"
     ]
    }
   ],
   "source": [
    "# Split Method\n",
    "my_string = \"CS1301\"\n",
    "my_string.replace(\"CS\", \"Computer Science\")\n",
    "my_string.lower()\n",
    "print(my_string)"
   ]
  },
  {
   "cell_type": "code",
   "execution_count": 85,
   "id": "c7160240-491f-4ba9-8ff6-f1af77f3cc32",
   "metadata": {},
   "outputs": [
    {
     "name": "stdout",
     "output_type": "stream",
     "text": [
      "COMPUTERSCIENCE1301\n"
     ]
    }
   ],
   "source": [
    "my_string_1 = \"CS1301\"\n",
    "my_string_2 = my_string_1.replace(\"CS\", \"Computer Science\")\n",
    "my_string_3 = my_string_2.replace(\" \", \"\")\n",
    "my_string_4 = my_string_3.upper()\n",
    "print(my_string_4)"
   ]
  },
  {
   "cell_type": "code",
   "execution_count": 89,
   "id": "c66b2743-8aa9-4243-9104-b9f21be89fd2",
   "metadata": {},
   "outputs": [
    {
     "name": "stdout",
     "output_type": "stream",
     "text": [
      "Computer Science 101\n"
     ]
    }
   ],
   "source": [
    "my_string = \"CS1301\"\n",
    "my_string = my_string.replace(\"CS\", \"computer science\")\n",
    "my_string = my_string.replace(\"1301\", \"101\")\n",
    "my_string = my_string.replace(\"e1\", \"e 1\")\n",
    "my_string = my_string.title()\n",
    "print(my_string)"
   ]
  },
  {
   "cell_type": "code",
   "execution_count": 91,
   "id": "c2b28ec2-0f59-471b-9b90-6bac67404514",
   "metadata": {},
   "outputs": [
    {
     "name": "stdout",
     "output_type": "stream",
     "text": [
      "\t1332\n",
      "\n",
      "1301\n",
      "1331\n"
     ]
    }
   ],
   "source": [
    "# Problem set questions\n",
    "a = \"\\n1301\"\n",
    "b = \"1331\"\n",
    "c = \"\\t1332\"\n",
    "print(c)\n",
    "print(a)\n",
    "print(b)"
   ]
  },
  {
   "cell_type": "code",
   "execution_count": 99,
   "id": "80fce820-5a1b-41a9-98b0-9284042204d0",
   "metadata": {},
   "outputs": [
    {
     "name": "stdout",
     "output_type": "stream",
     "text": [
      "abb\n"
     ]
    }
   ],
   "source": [
    "my_string = \"a\" + \"b\" * 2\n",
    "print(my_string)"
   ]
  },
  {
   "cell_type": "code",
   "execution_count": 103,
   "id": "f45aeb0f-49a4-4570-9009-090faaca4294",
   "metadata": {},
   "outputs": [
    {
     "name": "stdout",
     "output_type": "stream",
     "text": [
      "ABCDEFDEFGHI\n"
     ]
    }
   ],
   "source": [
    "my_string = \"DEF\"\n",
    "my_string *= 2\n",
    "my_string += \"GHI\"\n",
    "my_string = \"ABC\" + my_string\n",
    "print(my_string)"
   ]
  },
  {
   "cell_type": "code",
   "execution_count": 107,
   "id": "48f365c5-c392-44c1-aebb-e466d2b6d76a",
   "metadata": {},
   "outputs": [],
   "source": [
    "num_puppies = 5\n",
    "num_kittens = 3\n",
    "#if num_puppies + num_kittens > 5:\n",
    "#    my_string = \"We have \" + num_puppies + \" puppies and \" + num_kittens + \" kittens! Wow!\"\n",
    "#else:\n",
    "#    my_string = \"We only have \" + num_puppies + \" puppies and \" + num_kittens + \" kittens. Sadface.\""
   ]
  },
  {
   "cell_type": "code",
   "execution_count": 27,
   "id": "924b9a59-04d1-4acc-b3d0-9e1405d4fb55",
   "metadata": {},
   "outputs": [
    {
     "data": {
      "text/plain": [
       "'13579'"
      ]
     },
     "execution_count": 27,
     "metadata": {},
     "output_type": "execute_result"
    }
   ],
   "source": [
    "string = \"1234567890\"\n",
    "string[0:10:2]"
   ]
  },
  {
   "cell_type": "code",
   "execution_count": 45,
   "id": "39daf475-4e1b-4254-89db-36e07866013a",
   "metadata": {},
   "outputs": [
    {
     "data": {
      "text/plain": [
       "'7890'"
      ]
     },
     "execution_count": 45,
     "metadata": {},
     "output_type": "execute_result"
    }
   ],
   "source": [
    "unknown = \"12345678901234567890\"\n",
    "unknown[len(unknown) -4:]"
   ]
  },
  {
   "cell_type": "code",
   "execution_count": 79,
   "id": "04151969-e9d5-439e-b991-45fdd4a39770",
   "metadata": {},
   "outputs": [
    {
     "data": {
      "text/plain": [
       "'579'"
      ]
     },
     "execution_count": 79,
     "metadata": {},
     "output_type": "execute_result"
    }
   ],
   "source": [
    "s = \"1234567890\"\n",
    "s[4::2]"
   ]
  },
  {
   "cell_type": "markdown",
   "id": "be51f6d2-2320-43fc-b2bd-bc7bf6401d13",
   "metadata": {},
   "source": [
    "### Chapter 4.3: Lists"
   ]
  },
  {
   "cell_type": "markdown",
   "id": "9142a26c-694a-40b6-8688-02a350b52a42",
   "metadata": {},
   "source": [
    "Many names of similar ideas: lists, arrays, tuples, vectors, tables, etc."
   ]
  },
  {
   "cell_type": "markdown",
   "id": "fc354c98-bd0f-49b8-8b90-a6fa82d973f1",
   "metadata": {},
   "source": [
    "**Tuple**: An immutable form of a list-like structure in Python.\n",
    "\n",
    "**Lists**: A mutable form of a list-like structure in Python."
   ]
  },
  {
   "cell_type": "code",
   "execution_count": 6,
   "id": "bc88cbb8-eb30-461a-b7fb-f98a6d299bab",
   "metadata": {},
   "outputs": [
    {
     "name": "stdout",
     "output_type": "stream",
     "text": [
      "(1, 2, 3)\n"
     ]
    }
   ],
   "source": [
    "myTuple = (1, 2, 3)\n",
    "print(myTuple)"
   ]
  },
  {
   "cell_type": "code",
   "execution_count": 12,
   "id": "3fe218aa-cb39-41b9-8ca4-b2731ca2394b",
   "metadata": {},
   "outputs": [
    {
     "name": "stdout",
     "output_type": "stream",
     "text": [
      "(1, 'a', True)\n"
     ]
    }
   ],
   "source": [
    "myTuple2 = (1, 'a', True)\n",
    "print(myTuple2)"
   ]
  },
  {
   "cell_type": "code",
   "execution_count": 18,
   "id": "b910b333-2275-4cd5-a161-05e802880484",
   "metadata": {},
   "outputs": [
    {
     "name": "stdout",
     "output_type": "stream",
     "text": [
      "('Hello, world!', 5.1, 5)\n",
      "Hello, world!\n",
      "5.1\n",
      "5\n"
     ]
    }
   ],
   "source": [
    "myString = \"Hello, world!\"\n",
    "myFloat = 5.1\n",
    "myInteger = 5\n",
    "\n",
    "myTuple = (myString, myFloat, myInteger)\n",
    "\n",
    "print(myTuple)\n",
    "\n",
    "print(myTuple[0])\n",
    "print(myTuple[1])\n",
    "print(myTuple[2])"
   ]
  },
  {
   "cell_type": "markdown",
   "id": "b2d75655-5ef7-41f8-b840-43de5d7ec707",
   "metadata": {},
   "source": [
    "So if you can't alter, sort, or really change anything about a tuple, what are they useful for? Functions. Typically, functions only let you return one value, but tuples can have multiple values within, so a tuple inside of a function would let you return multiple values."
   ]
  },
  {
   "cell_type": "code",
   "execution_count": 24,
   "id": "d0053616-5dcd-4783-be58-50a3b3bec274",
   "metadata": {},
   "outputs": [
    {
     "name": "stdout",
     "output_type": "stream",
     "text": [
      "Quotient: 2\n",
      "Remainder: 3\n"
     ]
    }
   ],
   "source": [
    "# Example of using a tuple within a function to return multiple values\n",
    "def quotientAndRemainder(dividend, divisor):\n",
    "    quotient = dividend // divisor\n",
    "    remainder = dividend % divisor\n",
    "    return(quotient, remainder)\n",
    "\n",
    "myDividend = 11\n",
    "myDivisor = 4\n",
    "tupleResults = quotientAndRemainder(myDividend, myDivisor)\n",
    "\n",
    "print(\"Quotient:\", tupleResults[0])\n",
    "print(\"Remainder:\", tupleResults[1])"
   ]
  },
  {
   "cell_type": "code",
   "execution_count": 26,
   "id": "b7af165d-f57d-41af-b662-900f2525048e",
   "metadata": {},
   "outputs": [
    {
     "name": "stdout",
     "output_type": "stream",
     "text": [
      "((1, 2, 3), (4, 5, 6), (7, 8, 9))\n"
     ]
    }
   ],
   "source": [
    "# You can also nest tuples\n",
    "\n",
    "myTuple1 = (1, 2, 3)\n",
    "myTuple2 = (4, 5, 6)\n",
    "myTuple3 = (7, 8, 9)\n",
    "\n",
    "mySuperTuple = (myTuple1, myTuple2, myTuple3)\n",
    "print(mySuperTuple)"
   ]
  },
  {
   "cell_type": "code",
   "execution_count": 28,
   "id": "ecf87031-454c-4d3b-952b-72468a8513a0",
   "metadata": {},
   "outputs": [
    {
     "name": "stdout",
     "output_type": "stream",
     "text": [
      "4\n"
     ]
    }
   ],
   "source": [
    "# If you wanted to print the 1st value from the 2nd tuple you would do the following:\n",
    "print(mySuperTuple[1][0])"
   ]
  },
  {
   "cell_type": "code",
   "execution_count": 34,
   "id": "4efe306f-7b03-407d-ab28-64bb03a3bf9e",
   "metadata": {},
   "outputs": [
    {
     "name": "stdout",
     "output_type": "stream",
     "text": [
      "[1, 2, 3]\n",
      "[1, 2, 3]\n"
     ]
    }
   ],
   "source": [
    "# Lists in Python (part 1 of 2)\n",
    "# \"For the most part, anything you can do with a tuplem you can also do with a list.\"\n",
    "# The main difference is that you can add or take away from a list whenever you'd like to\n",
    "myList = [1, 2, 3]\n",
    "print(myList)\n",
    "\n",
    "myInt1 = 1\n",
    "myInt2 = 2\n",
    "myInt3 = 3\n",
    "myList2 = [myInt1, myInt2, myInt3]\n",
    "print(myList2)"
   ]
  },
  {
   "cell_type": "code",
   "execution_count": 54,
   "id": "f6ffc2b8-a15f-4753-8578-aec09283786f",
   "metadata": {},
   "outputs": [
    {
     "name": "stdout",
     "output_type": "stream",
     "text": [
      "[17, 2, 5, 9, 12, 11, 1, 3, 6, 19]\n",
      "[1, 2, 3, 5, 6, 9, 11, 12, 17, 19]\n",
      "[1, 2, 3, 5, 6, 9, 11, 12, 17, 19, 21]\n",
      "[1, 2, 3, 5, 6, 9, 11, 12, 17, 19, 21, 1, 2, 3, 5, 6, 9, 11, 12, 17, 19, 21, 1, 2, 3, 5, 6, 9, 11, 12, 17, 19, 21]\n",
      "[1, 2, 3, 4, 5, 6, 9, 11, 12, 17, 19, 21, 1, 2, 3, 5, 6, 9, 11, 12, 17, 19, 21, 1, 2, 3, 5, 6, 9, 11, 12, 17, 19, 21]\n",
      "[1, 2, 3, 4, 6, 9, 11, 12, 17, 19, 21, 1, 2, 3, 5, 6, 9, 11, 12, 17, 19, 21, 1, 2, 3, 5, 6, 9, 11, 12, 17, 19, 21]\n",
      "[21, 19, 17, 12, 11, 9, 6, 5, 3, 2, 1, 21, 19, 17, 12, 11, 9, 6, 5, 3, 2, 1, 21, 19, 17, 12, 11, 9, 6, 4, 3, 2, 1]\n",
      "[21, 19, 17, 12, 11, 9, 6, 5, 3, 2, 1, 21, 19, 17, 12, 11, 9, 6, 5, 3, 2, 1, 21, 19, 17, 12, 11, 9, 6, 4, 3, 2]\n",
      "7\n"
     ]
    }
   ],
   "source": [
    "# Lists in Python (Part 2 of 2)\n",
    "myList = [17, 2, 5, 9, 12, 11, 1, 3, 6, 19]\n",
    "print(myList)\n",
    "\n",
    "# Sort the list\n",
    "myList.sort()\n",
    "print(myList)\n",
    "\n",
    "# Append a number to the end of the list\n",
    "myList.append(21)\n",
    "print(myList)\n",
    "\n",
    "# Add another list to the end of this list\n",
    "myList2 = myList * 2\n",
    "\n",
    "myList.extend(myList2)\n",
    "print(myList)\n",
    "\n",
    "# Insert a number at a specific point in the list\n",
    "myList.insert(3, 4) # Inserts a 4 at index 3\n",
    "print(myList)\n",
    "\n",
    "# Removes an element from the list\n",
    "myList.remove(5)\n",
    "print(myList)\n",
    "\n",
    "# Reverse the order of the list\n",
    "myList.reverse()\n",
    "print(myList)\n",
    "\n",
    "# Not sure what this does:\n",
    "myList.pop()\n",
    "print(myList)\n",
    "\n",
    "# Find index 5\n",
    "print(myList.index(5))\n"
   ]
  },
  {
   "cell_type": "code",
   "execution_count": 60,
   "id": "2e7eea45-d8a6-4c16-9c97-db38ac09a942",
   "metadata": {},
   "outputs": [
    {
     "name": "stdout",
     "output_type": "stream",
     "text": [
      "5.0\n",
      "89.4\n"
     ]
    }
   ],
   "source": [
    "# Lists, Loops, and Functions, Part 1 of 2\n",
    "# \"to iterate over a sequence is to execute some block of code individually for each item in that sequence\"\n",
    "def average(inList):\n",
    "    sum = 0\n",
    "    for number in inList:\n",
    "        sum += number\n",
    "    return sum / len(inList)\n",
    "\n",
    "myList1 = [1, 2, 3, 4, 5, 6, 7, 8, 9]\n",
    "myList2 = [97, 87, 91, 83, 85, 91, 95, 99, 81, 85]\n",
    "\n",
    "print(average(myList1))\n",
    "print(average(myList2))"
   ]
  },
  {
   "cell_type": "code",
   "execution_count": 64,
   "id": "2c05dff2-37c9-4e57-be9e-2061b74ef158",
   "metadata": {},
   "outputs": [
    {
     "name": "stdout",
     "output_type": "stream",
     "text": [
      "[90.4, 85.2, 82.2, 88.4, 92.8]\n"
     ]
    }
   ],
   "source": [
    "# Iterating over a 2-dimensional list\n",
    "def TwoDAverage(in2DList):\n",
    "    result = []\n",
    "    for numList in in2DList:\n",
    "        sum = 0\n",
    "        for number in numList:\n",
    "            sum += number\n",
    "        result.append(sum / len(numList))\n",
    "    return result\n",
    "\n",
    "my2DList = [[91, 95, 89, 92, 85],\n",
    "            [85, 87, 91, 81, 82],\n",
    "            [79, 75, 85, 83, 89],\n",
    "            [81, 89, 91, 91, 90],\n",
    "            [99, 91, 95, 89, 90]]\n",
    "\n",
    "print(TwoDAverage(my2DList))"
   ]
  },
  {
   "cell_type": "markdown",
   "id": "d290115b-bf03-4eb1-aada-2623dbf7bb6d",
   "metadata": {},
   "source": [
    "Lists, Loops, and Functions, Part 2 of 2\n",
    "\n",
    "Lists are mutable, so if we pass a list to a function or method the function or method can change the values of the list.\n",
    "\n",
    "Lists can do everything that a tuple can do and more, so why ever use a tuple? When do we use tuples?\n",
    "\n",
    "1) When we are dealing with a pre-determined number of items\n",
    "\n",
    "2) When the elements on the list are qualitatively different"
   ]
  },
  {
   "cell_type": "markdown",
   "id": "73701641-9580-47ba-acf9-95f3616db869",
   "metadata": {},
   "source": [
    "Some other Advanced List-Liek structures\n",
    "\n",
    "**Stacks**: Also called LIFO (Last In First Out). \"we can only access the most recently-added item on the list and can only access it by removing it from the list.\"\n",
    "\n",
    "**Queue**: A list-like structure that follows the “First-In-First-Out” paradigm, where we can only access the least recently-added item on the list  and can only access it by removing it from the list.\n",
    "\n",
    "**Linked List**: A list-like structure where the location of each item in the list is contained in the previous item in the list."
   ]
  },
  {
   "cell_type": "markdown",
   "id": "7e9dfa5d-9f4a-4708-9f0a-f310e16be598",
   "metadata": {},
   "source": [
    "### Chapter 4.4: File Input and Output"
   ]
  },
  {
   "cell_type": "markdown",
   "id": "fb491a12-372e-4108-80c6-32e782587228",
   "metadata": {},
   "source": [
    "Usually all of the data is something we've either loaded in or assigned in terms of variables when writing the script. We can also save all of the data so that when we open things up we have all the data waiting for us. We refer to this as file input and file output."
   ]
  },
  {
   "cell_type": "markdown",
   "id": "432a113e-1291-461f-a3ee-00b6643186f9",
   "metadata": {},
   "source": [
    "When we open a file we are either going to:\n",
    "   \n",
    "1) Read\n",
    "2) Write\n",
    "3) Append"
   ]
  },
  {
   "cell_type": "code",
   "execution_count": 15,
   "id": "60c7eabd-d004-453e-917a-7a7de341762a",
   "metadata": {},
   "outputs": [],
   "source": [
    "# Simple File Writing\n",
    "myInt1 = str(12)\n",
    "myInt2 = str(23)\n",
    "myInt3 = str(34)\n",
    "\n",
    "#Open OutputFile.txt in write mode\n",
    "outputFile = open(\"OutputFile.txt\", \"w\")\n",
    "# The 'w' here is referring to write, instead of read or append\n",
    "\n",
    "outputFile.write(str(myInt1 + \"\\n\"))\n",
    "outputFile.write(str(myInt2 + \"\\n\"))\n",
    "outputFile.write(str(myInt3 + \"\\n\"))\n",
    "#We add the \\n so that the output of each variable is on a separate line in the .txt file\n",
    "outputFile.close()"
   ]
  },
  {
   "cell_type": "code",
   "execution_count": 18,
   "id": "c70001d3-6ab1-4a91-9892-38e3259b69d3",
   "metadata": {},
   "outputs": [],
   "source": [
    "# We can also do something similar using a For Loop\n",
    "myList = [\"David\", \"Lucy\", \"Vrushali\", \"Ping\",\n",
    "          \"Natalie\", \"Dana\", \"Addison\", \"Jasmine\"]\n",
    "\n",
    "outputFile = open(\"OutputFile2.txt\", \"w\")\n",
    "\n",
    "for name in myList:\n",
    "    outputFile.write(name + \"\\n\")\n",
    "    \n",
    "outputFile.close()"
   ]
  },
  {
   "cell_type": "code",
   "execution_count": 21,
   "id": "f45ab20c-3563-4e89-9392-c6a07543e74d",
   "metadata": {},
   "outputs": [
    {
     "name": "stdout",
     "output_type": "stream",
     "text": [
      "<_io.TextIOWrapper name='OutputFile.txt' mode='r' encoding='UTF-8'>\n"
     ]
    }
   ],
   "source": [
    "# Reading files in Python\n",
    "inputFile = open(\"OutputFile.txt\", \"r\")\n",
    "print(inputFile)\n",
    "inputFile.close()"
   ]
  },
  {
   "cell_type": "code",
   "execution_count": 23,
   "id": "26223e6a-8835-4b48-ab0f-2cf728cc42c2",
   "metadata": {},
   "outputs": [
    {
     "name": "stdout",
     "output_type": "stream",
     "text": [
      "12\n",
      "\n",
      "23\n",
      "\n",
      "34\n",
      "\n"
     ]
    }
   ],
   "source": [
    "# You can read in one line at a time like this:\n",
    "inputFile = open(\"OutputFile.txt\", \"r\")\n",
    "\n",
    "print(inputFile.readline())\n",
    "print(inputFile.readline())\n",
    "print(inputFile.readline())\n",
    "\n",
    "inputFile.close()"
   ]
  },
  {
   "cell_type": "code",
   "execution_count": 25,
   "id": "e1df826d-1dcd-4713-9539-a629904c11a0",
   "metadata": {},
   "outputs": [
    {
     "name": "stdout",
     "output_type": "stream",
     "text": [
      "12\n",
      "23\n",
      "34\n"
     ]
    }
   ],
   "source": [
    "# If we want to avoid having spaces between each line:\n",
    "inputFile = open(\"OutputFile.txt\", \"r\")\n",
    "\n",
    "print(inputFile.readline().strip())\n",
    "print(inputFile.readline().strip())\n",
    "print(inputFile.readline().strip())\n",
    "\n",
    "inputFile.close()"
   ]
  },
  {
   "cell_type": "code",
   "execution_count": 27,
   "id": "fcb785af-86ae-4288-a7d2-26523ad7eb7e",
   "metadata": {},
   "outputs": [
    {
     "name": "stdout",
     "output_type": "stream",
     "text": [
      "myInt1: 12\n",
      "myInt2: 23\n",
      "myInt3: 34\n"
     ]
    }
   ],
   "source": [
    "# Now what if we want to cast them to integers (since we made them strings above)\n",
    "inputFile = open(\"OutputFile.txt\", \"r\")\n",
    "\n",
    "myInt1 = int(inputFile.readline())\n",
    "myInt2 = int(inputFile.readline())\n",
    "myInt3 = int(inputFile.readline())\n",
    "\n",
    "print(\"myInt1:\", myInt1)\n",
    "print(\"myInt2:\", myInt2)\n",
    "print(\"myInt3:\", myInt3)\n",
    "\n",
    "inputFile.close()"
   ]
  },
  {
   "cell_type": "code",
   "execution_count": 29,
   "id": "39196e62-0591-46df-a71a-3c19bdf5d7dd",
   "metadata": {},
   "outputs": [
    {
     "name": "stdout",
     "output_type": "stream",
     "text": [
      "['12', '23', '34']\n"
     ]
    }
   ],
   "source": [
    "# Now what if our list was hundreds or thousands of elements long? We can use a For Loop to pull everything from that list all at once.\n",
    "myList = []\n",
    "\n",
    "inputFile = open(\"OutputFile.txt\", \"r\")\n",
    "\n",
    "for line in inputFile:\n",
    "    myList.append(line.strip())\n",
    "    \n",
    "print(myList)\n",
    "\n",
    "inputFile.close()"
   ]
  },
  {
   "cell_type": "markdown",
   "id": "0f3be14b-39a6-4889-bc70-bb3a4f0fb439",
   "metadata": {},
   "source": [
    "### Chapter 4.5: Dictionaries"
   ]
  },
  {
   "cell_type": "markdown",
   "id": "bac34c0f-90f2-4ca4-bcda-6f08fc95ecd5",
   "metadata": {},
   "source": [
    "Keys in dictionaries. These are variables that give a one-to-one connection to a row of information. \"Mackay\" might bring up: Blonde, American, Dad, etc."
   ]
  },
  {
   "cell_type": "markdown",
   "id": "1da9da3c-e5aa-4110-bd7a-8bce5ba43e35",
   "metadata": {},
   "source": [
    "Keys are non-numeric indeces. You look things up by \"Mackay\" instead of 206081 (Glencoe) or 57-230-3387 (BYUI)"
   ]
  },
  {
   "cell_type": "code",
   "execution_count": 43,
   "id": "b83bec1e-ac2c-4003-bcb7-7247253b4907",
   "metadata": {},
   "outputs": [],
   "source": [
    "# Dictionaries in Python, Part 1 of 3\n",
    "# Python is unique in the fact that their 'dctionary' system is great to use, not clunky."
   ]
  },
  {
   "cell_type": "code",
   "execution_count": 47,
   "id": "1f38fcac-328c-42a0-b4a8-75bac37aa928",
   "metadata": {},
   "outputs": [
    {
     "name": "stdout",
     "output_type": "stream",
     "text": [
      "{'sprockets': 5, 'Widgets': 11, 'cogs': 3, 'gizmos': 15}\n"
     ]
    }
   ],
   "source": [
    "myDictionary = {\"sprockets\" : 5, \"Widgets\" : 11, \"cogs\" : 3, \"gizmos\" : 15}\n",
    "print(myDictionary)\n",
    "# We can pass the entire dictionary through functions, classes, etc. This makes it a very valuable tool.\n",
    "# We must use mutable data in a dictionary (anything but another list or another dictionary).\n",
    "# We can use floats, integers, even tuples, etc."
   ]
  },
  {
   "cell_type": "code",
   "execution_count": 45,
   "id": "8af81c04-ec30-4b75-82e4-8861c2a58795",
   "metadata": {},
   "outputs": [],
   "source": [
    "# Dictionaries in Python, Part 2 of 3 "
   ]
  },
  {
   "cell_type": "code",
   "execution_count": 52,
   "id": "a53fdc9b-c4a0-4c36-b91a-0f7cdf290df4",
   "metadata": {},
   "outputs": [
    {
     "name": "stdout",
     "output_type": "stream",
     "text": [
      "My first print of the dictionary:\n",
      "{'sprockets': 5, 'Widgets': 11, 'cogs': 3, 'gizmos': 15}\n",
      "My second print of the dictionary:\n",
      "{'sprockets': 5, 'Widgets': 11, 'cogs': 3, 'gizmos': 15, 'gadgets': 1}\n",
      "My third print of the dictionary:\n",
      "{'sprockets': 5, 'Widgets': 11, 'cogs': 3, 'gizmos': 15}\n"
     ]
    }
   ],
   "source": [
    "# Adding to and removing from a dictionary\n",
    "myDictionary = {\"sprockets\" : 5, \"Widgets\" : 11, \"cogs\" : 3, \"gizmos\" : 15}\n",
    "\n",
    "print(\"My first print of the dictionary:\")\n",
    "print(myDictionary)\n",
    "\n",
    "# Creates the new key \"gadgets\" with value 1\n",
    "myDictionary[\"gadgets\"] = 1\n",
    "print(\"My second print of the dictionary:\")\n",
    "print(myDictionary)\n",
    "\n",
    "del myDictionary[\"gadgets\"]\n",
    "print(\"My third print of the dictionary:\")\n",
    "print(myDictionary)"
   ]
  },
  {
   "cell_type": "code",
   "execution_count": 58,
   "id": "d17af6e2-2559-4e28-a598-53fdd84ae3bd",
   "metadata": {},
   "outputs": [
    {
     "name": "stdout",
     "output_type": "stream",
     "text": [
      "{'David': '4045551234', 'Lucy': '4045555678', 'Vrushali': '4045559101'}\n",
      "David is already in myDictionary!\n",
      "{'David': '4045551234', 'Lucy': '4045555678', 'Vrushali': '4045559101', 'David2': '4045551121'}\n"
     ]
    }
   ],
   "source": [
    "# Check if a value already exists in the dictionary\n",
    "myDictionary = {\"David\" : \"4045551234\", \"Lucy\" : \"4045555678\", \"Vrushali\" : \"4045559101\" }\n",
    "print(myDictionary)\n",
    "\n",
    "# Checks if \"David is a key in the dictionary\n",
    "if \"David\" in myDictionary:\n",
    "    print(\"David is already in myDictionary!\")\n",
    "    myDictionary[\"David2\"] = \"4045551121\"\n",
    "else:\n",
    "    myDictionary[\"David\"] = \"4045551121\"\n",
    "print(myDictionary)\n",
    "# This if statement is checking whether or not David is in the dictionary\n",
    "# If David is then we'll add \"David2\" with a different ID number\n",
    "# If David is not then we'll add \"David\" with that same different ID number"
   ]
  },
  {
   "cell_type": "code",
   "execution_count": 62,
   "id": "5a8acfa6-7c54-4f42-becb-43ee44316231",
   "metadata": {},
   "outputs": [
    {
     "name": "stdout",
     "output_type": "stream",
     "text": [
      "4045555678\n"
     ]
    }
   ],
   "source": [
    "# Simply check if \"Mackay\" is in the dictionary. If so (or if not) do nothing about it. Just inform us.\n",
    "myDictionary = {\"David\" : \"4045551234\", \"Lucy\" : \"4045555678\", \"Vrushali\" : \"4045559101\" }\n",
    "\n",
    "#print(myDictionary[\"Mackay\"])\n",
    "# Gave an error, just like expected. Let's check for \"Lucy\" now\n",
    "print(myDictionary[\"Lucy\"])"
   ]
  },
  {
   "cell_type": "code",
   "execution_count": 41,
   "id": "611c6580-17d4-44dc-af5d-00c27905efa9",
   "metadata": {},
   "outputs": [],
   "source": [
    "# Dictionaries in Python, Part 3 of 3"
   ]
  },
  {
   "cell_type": "code",
   "execution_count": 66,
   "id": "5240d42b-d279-4326-9ee3-a3e4e5233950",
   "metadata": {},
   "outputs": [
    {
     "name": "stdout",
     "output_type": "stream",
     "text": [
      "A value less than 5 was found: 3\n",
      "A value less than 5 was found: 1\n"
     ]
    }
   ],
   "source": [
    "# Create myDictionary\n",
    "myDictionary = {\"sprockets\" : 5, \"Widgets\" : 11, \"cogs\" : 3, \"gizmos\" : 15, \"gadgets\" : 1}\n",
    "\n",
    "# Tell me every instance where a variable has a value less than 5.\n",
    "for value in myDictionary.values():\n",
    "    if value < 5:\n",
    "        print(\"A value less than 5 was found:\", value)"
   ]
  },
  {
   "cell_type": "code",
   "execution_count": 70,
   "id": "45978239-0094-4032-899b-1fe21669c348",
   "metadata": {},
   "outputs": [
    {
     "name": "stdout",
     "output_type": "stream",
     "text": [
      "cogs A value less than 5 was found: 3\n",
      "gadgets A value less than 5 was found: 1\n"
     ]
    }
   ],
   "source": [
    "# Create myDictionary\n",
    "myDictionary = {\"sprockets\" : 5, \"Widgets\" : 11, \"cogs\" : 3, \"gizmos\" : 15, \"gadgets\" : 1}\n",
    "\n",
    "# Tell me every instance where a variable has a value less than 5.\n",
    "for (key, value) in myDictionary.items():\n",
    "    if value < 5:\n",
    "        print(key, \"A value less than 5 was found:\", value)\n",
    "# Rather than just tell me how many values are less than 5 (and tell us what they are) this will also tell us the variable name associated with those value (the keys)"
   ]
  },
  {
   "cell_type": "markdown",
   "id": "1248ad04-f7aa-4ca3-b376-f54d27efa73f",
   "metadata": {},
   "source": [
    "- Dictionaries give us low-overhead access to object-oriented programming.\n",
    "- It is very easy to create a frequency dictionary using these methods\n",
    "- This is probably the very first step of learning NLP!"
   ]
  },
  {
   "cell_type": "code",
   "execution_count": 73,
   "id": "2cbc96de-a218-406b-a712-bbfff0e8af7c",
   "metadata": {},
   "outputs": [
    {
     "name": "stdout",
     "output_type": "stream",
     "text": [
      "{'four': 1, 'score': 1, 'and': 6, 'seven': 1, 'years': 1, 'ago': 1, 'our': 2, 'fathers': 1, 'brought': 1, 'forth': 1, 'on': 2, 'this': 4, 'continent': 1, 'a': 7, 'new': 2, 'nation': 5, 'conceived': 2, 'in': 4, 'liberty': 1, 'dedicated': 4, 'to': 8, 'the': 11, 'proposition': 1, 'that': 12, 'all': 1, 'men': 2, 'are': 3, 'created': 1, 'equal': 1, '“now': 1, 'we': 10, 'engaged': 1, 'great': 3, 'civil': 1, 'war': 2, 'testing': 1, 'whether': 1, 'or': 2, 'any': 1, 'so': 3, 'can': 2, 'long': 2, 'endure': 1, 'met': 1, 'battlefield': 1, 'of': 5, 'have': 5, 'come': 1, 'dedicate': 2, 'portion': 1, 'field': 1, 'as': 1, 'final': 1, 'resting': 1, 'place': 1, 'for': 5, 'those': 1, 'who': 3, 'here': 8, 'gave': 2, 'their': 1, 'lives': 1, 'might': 1, 'live': 1, 'it': 5, 'is': 3, 'altogether': 1, 'fitting': 1, 'proper': 1, 'should': 1, 'do': 1, '“but': 1, 'larger': 1, 'sense': 1, 'cannot': 3, 'consecrate': 1, 'hallow': 1, 'ground': 1, 'brave': 1, 'living': 2, 'dead': 3, 'struggled': 1, 'consecrated': 1, 'far': 2, 'above': 1, 'poor': 1, 'power': 1, 'add': 1, 'detract': 1, 'world': 1, 'will': 1, 'little': 1, 'note': 1, 'nor': 1, 'remember': 1, 'what': 2, 'say': 1, 'but': 1, 'never': 1, 'forget': 1, 'they': 3, 'did': 1, 'us': 2, 'rather': 2, 'be': 2, 'unfinished': 1, 'work': 1, 'which': 2, 'fought': 1, 'thus': 1, 'nobly': 1, 'advanced': 1, 'task': 1, 'remaining': 1, 'before': 1, 'usthat': 1, 'from': 2, 'these': 2, 'honored': 1, 'take': 1, 'increased': 1, 'devotion': 2, 'cause': 1, 'last': 1, 'full': 1, 'measure': 1, 'highly': 1, 'resolve': 1, 'shall': 3, 'not': 2, 'died': 1, 'vain': 1, 'under': 1, 'god': 1, 'birth': 1, 'freedom': 1, 'government': 1, 'people': 3, 'by': 1, 'perish': 1, 'earth': 1}\n"
     ]
    }
   ],
   "source": [
    "# A really cool example of using dictionaries!\n",
    "myString = \"Four score and seven years ago our fathers brought forth on this continent a new nation, conceived in liberty, and dedicated to the proposition that all men are created equal. “Now we are engaged in a great civil war, testing whether that nation, or any nation so conceived and so dedicated, can long endure. We are met on a great battlefield of that war. We have come to dedicate a portion of that field as a final resting place for those who here gave their lives that that nation might live. It is altogether fitting and proper that we should do this. “But in a larger sense we cannot dedicate, we cannot consecrate, we cannot hallow this ground. The brave men, living and dead, who struggled here have consecrated it, far above our poor power to add or detract. The world will little note, nor long remember, what we say here, but it can never forget what they did here. It is for us the living, rather, to be dedicated here to the unfinished work which they who fought here have thus far so nobly advanced. It is rather for us to be here dedicated to the great task remaining before us,that from these honored dead we take increased devotion to that cause for which they gave the last full measure of devotion, that we here highly resolve that these dead shall not have died in vain, that this nation, under God, shall have a new birth of freedom, and that government of the people, by the people, for the people, shall not perish from the earth.\"\n",
    "\n",
    "# Remove periods\n",
    "myString = myString.replace(\".\",\"\")\n",
    "# Remove commas\n",
    "myString = myString.replace(\",\",\"\")\n",
    "# Remove apostrophes\n",
    "myString = myString.replace(\"'\",\"\")\n",
    "# Make all lower case\n",
    "myString = myString.lower()\n",
    "# Split by spaces\n",
    "mySplitString = myString.split()\n",
    "\n",
    "# Create the dictionary\n",
    "wordDictionary = {} #create empty dictionary\n",
    "for word in mySplitString: #for each word in the split strong\n",
    "    if word in wordDictionary: #if it's already been found...\n",
    "        wordDictionary[word] += 1 #add one to its count\n",
    "    else: #otherwise...\n",
    "        wordDictionary[word] = 1 #create it with value 1\n",
    "\n",
    "print(wordDictionary)"
   ]
  },
  {
   "cell_type": "code",
   "execution_count": null,
   "id": "c1ba15b6-0124-4916-967c-94f2f2044f4a",
   "metadata": {},
   "outputs": [],
   "source": []
  },
  {
   "cell_type": "code",
   "execution_count": null,
   "id": "f24aced9-d0e8-4927-a2e1-9ec817760ff3",
   "metadata": {},
   "outputs": [],
   "source": []
  }
 ],
 "metadata": {
  "kernelspec": {
   "display_name": "anaconda-panel-2023.05-py310",
   "language": "python",
   "name": "conda-env-anaconda-panel-2023.05-py310-py"
  },
  "language_info": {
   "codemirror_mode": {
    "name": "ipython",
    "version": 3
   },
   "file_extension": ".py",
   "mimetype": "text/x-python",
   "name": "python",
   "nbconvert_exporter": "python",
   "pygments_lexer": "ipython3",
   "version": "3.11.5"
  }
 },
 "nbformat": 4,
 "nbformat_minor": 5
}
