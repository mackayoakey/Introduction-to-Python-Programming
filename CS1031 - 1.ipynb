{
 "cells": [
  {
   "cell_type": "markdown",
   "id": "6ccf1fed-772f-46c4-a6e3-61ab3c71e1f7",
   "metadata": {},
   "source": [
    "# Computing in Python I: Fundamentals and Procedural Programming \n",
    "This is meant to be a cheat sheet for everything I learn in this CS1301 course"
   ]
  },
  {
   "cell_type": "markdown",
   "id": "355017cb-d656-49f1-af77-2e4f73515621",
   "metadata": {},
   "source": [
    "### Chapter 1.1: Computing"
   ]
  },
  {
   "cell_type": "markdown",
   "id": "93d91cbd-8355-4a1c-9fc8-80bdeeed5694",
   "metadata": {},
   "source": [
    "### Chapter 1.2: Programming "
   ]
  },
  {
   "cell_type": "markdown",
   "id": "db82d31a-3afe-4972-a5f8-bb42ded9a971",
   "metadata": {},
   "source": [
    "### Chapter 1.3: Debugging "
   ]
  },
  {
   "cell_type": "markdown",
   "id": "39330d9b-164e-40cd-a43d-14015c91f857",
   "metadata": {},
   "source": [
    "### Chapter 2.1: Procedural Programming "
   ]
  },
  {
   "cell_type": "markdown",
   "id": "aefb6223-cb21-40a1-a3a3-002b67f0d237",
   "metadata": {},
   "source": [
    "Basic functions of Python"
   ]
  },
  {
   "cell_type": "code",
   "execution_count": 11,
   "id": "c54b0494-c101-4503-8271-d7ba41682771",
   "metadata": {},
   "outputs": [
    {
     "name": "stdout",
     "output_type": "stream",
     "text": [
      "Hello, World!\n"
     ]
    }
   ],
   "source": [
    "# Print\n",
    "print(\"Hello, World!\")"
   ]
  },
  {
   "cell_type": "markdown",
   "id": "5981c165-443d-4aba-a48a-55f425e16610",
   "metadata": {},
   "source": [
    "### Chapter 2.2: Variables "
   ]
  },
  {
   "cell_type": "code",
   "execution_count": 1,
   "id": "8f8a599f-81ab-47d4-b5ee-800c25bd0496",
   "metadata": {},
   "outputs": [],
   "source": [
    "# Data Types\n",
    "# str - string, a set of characters or words\n",
    "x = \"Hello World\"\n",
    "# int - integer, a whole number\n",
    "x = 20\n",
    "# float - a number with a decimal\n",
    "x = 20.5\n",
    "# complex - numbers and letters\n",
    "x = 1j\n",
    "# boolean - true or false\n",
    "x = True\n",
    "# list - a list of strings (mutable, can be changed)\n",
    "x = [\"apple\", \"banana\", \"cherry\"]\n",
    "# tuple - a list of strings (immutable, cannot be changed)\n",
    "x = (\"apple\", \"banana\", \"cherry\")\n",
    "# dict - dictionary, can contain multiple rows of information for multiple columns/fields \n",
    "x = {\"name\" : \"John\", \"age\" : 36}"
   ]
  },
  {
   "cell_type": "code",
   "execution_count": 7,
   "id": "0b68f71f-0741-4f18-8e5d-5c1a89253229",
   "metadata": {},
   "outputs": [],
   "source": [
    "# Setting a specific data type\n",
    "# string\n",
    "x = str(\"Hello World\")\n",
    "# integer\n",
    "x = int(20)\n",
    "# float\n",
    "x = float(20.5)\n",
    "# complex\n",
    "x = complex(1j)\n",
    "# boolean\n",
    "x = bool(5)\n",
    "# list (mutable, can be changed)\n",
    "x = list((\"apple\", \"banana\", \"cherry\"))\n",
    "# tuple (immutable, cannot be changed)\n",
    "x = tuple((\"apple\", \"banana\", \"cherry\"))\n",
    "# dict\n",
    "x = dict(name=\"John\", age=36)"
   ]
  }
 ],
 "metadata": {
  "kernelspec": {
   "display_name": "anaconda-panel-2023.05-py310",
   "language": "python",
   "name": "conda-env-anaconda-panel-2023.05-py310-py"
  },
  "language_info": {
   "codemirror_mode": {
    "name": "ipython",
    "version": 3
   },
   "file_extension": ".py",
   "mimetype": "text/x-python",
   "name": "python",
   "nbconvert_exporter": "python",
   "pygments_lexer": "ipython3",
   "version": "3.11.5"
  }
 },
 "nbformat": 4,
 "nbformat_minor": 5
}
